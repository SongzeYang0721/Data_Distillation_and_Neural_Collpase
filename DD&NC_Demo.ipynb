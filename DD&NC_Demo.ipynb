{
 "cells": [
  {
   "cell_type": "markdown",
   "id": "bffe843d",
   "metadata": {},
   "source": [
    "# Neural Collapse and Data Distillatioin"
   ]
  },
  {
   "cell_type": "markdown",
   "id": "56a3ad8e",
   "metadata": {},
   "source": [
    "This notebook implements data distillation with neural collapse by only one step. The main papers considered here are https://github.com/SsnL/dataset-distillation and https://github.com/tding1/Neural-Collapse. The neural network is firstly trained to its terminal phase and then distills synthesized data as introduced. Below we configure our path to the dataset distillation packages from https://github.com/SsnL/dataset-distillation."
   ]
  },
  {
   "cell_type": "markdown",
   "id": "f311a3b7",
   "metadata": {},
   "source": [
    "# Import"
   ]
  },
  {
   "cell_type": "code",
   "execution_count": 16,
   "id": "aef9b531",
   "metadata": {},
   "outputs": [],
   "source": [
    "import sys\n",
    "if 'google.colab' in sys.modules:\n",
    "    from google.colab import drive\n",
    "    drive.mount('/content/drive')\n",
    "    %cd /content/drive/My Drive/\n",
    "    !git clone https://github.com/SzYang721/DD-NC.git\n",
    "    %cd /content/drive/My Drive/DD-NC\n",
    "    !git config --global user.email \"yangsongze2008@gmail.com\"\n",
    "    !git config --global user.name \"SzYang721\"\n",
    "    sys.path.append('/content/drive/My Drive/DD-NC/')\n",
    "    sys.path.append('/content/drive/My Drive/model_weights/')\n",
    "    print(\"Environment setup complete.\")"
   ]
  },
  {
   "cell_type": "code",
   "execution_count": 4,
   "id": "e1fc6b6b",
   "metadata": {},
   "outputs": [
    {
     "name": "stderr",
     "output_type": "stream",
     "text": [
      "Failed to detect the name of this notebook, you can set it manually with the WANDB_NOTEBOOK_NAME environment variable to enable code saving.\n",
      "\u001b[34m\u001b[1mwandb\u001b[0m: Currently logged in as: \u001b[33myangsongze2008\u001b[0m (\u001b[33mdata-distillation-with-nc\u001b[0m). Use \u001b[1m`wandb login --relogin`\u001b[0m to force relogin\n"
     ]
    },
    {
     "data": {
      "text/plain": [
       "True"
      ]
     },
     "execution_count": 4,
     "metadata": {},
     "output_type": "execute_result"
    }
   ],
   "source": [
    "# !pip install --upgrade wandb\n",
    "import wandb\n",
    "wandb.login()"
   ]
  },
  {
   "cell_type": "code",
   "execution_count": 5,
   "id": "091f0c36",
   "metadata": {},
   "outputs": [],
   "source": [
    "import torch\n",
    "import torch.nn as nn\n",
    "import torch.optim as optim\n",
    "from torch import Tensor\n",
    "import torch.nn.functional as F\n",
    "\n",
    "import numpy as np\n",
    "import pickle\n",
    "import scipy.linalg as scilin\n",
    "\n",
    "import matplotlib.pyplot as plt\n",
    "from mpl_toolkits.mplot3d import Axes3D\n",
    "\n",
    "from torchsummary import summary"
   ]
  },
  {
   "cell_type": "markdown",
   "id": "67cb3e76",
   "metadata": {},
   "source": [
    "Let's import the file from the https://github.com/tding1/Neural-Collapse."
   ]
  },
  {
   "cell_type": "code",
   "execution_count": 6,
   "id": "8853d034",
   "metadata": {},
   "outputs": [],
   "source": [
    "import models\n",
    "from models import resnet_decode\n",
    "from models.res_adapt import ResNet18_adapt\n",
    "from utils import *\n",
    "\n",
    "from train_Encoder import train\n",
    "from validate_NC import *\n",
    "\n",
    "from validate_NC import compute_Wh_b_relation, compute_W_H_relation, compute_ETF, compute_Sigma_B, compute_Sigma_W, compute_info, FCFeatures\n",
    "from data.datasets import make_dataset\n",
    "from data.data_loading import get_cifar10_data_loaders\n",
    "from arg_loader import *\n",
    "import time"
   ]
  },
  {
   "cell_type": "markdown",
   "id": "29ea729a",
   "metadata": {},
   "source": [
    "# Load Parameters"
   ]
  },
  {
   "cell_type": "code",
   "execution_count": 7,
   "id": "2c38ad2b",
   "metadata": {},
   "outputs": [],
   "source": [
    "# architecture params\n",
    "encoder='resnet18'\n",
    "bias=True\n",
    "ETF_fc=True\n",
    "fixdim=10\n",
    "SOTA=True\n",
    "\n",
    "# MLP settings (only when using mlp and res_adapt(in which case only width has effect))\n",
    "width=1024\n",
    "depth=6\n",
    "\n",
    "# hardware settings\n",
    "gpu_id=1\n",
    "seed=6\n",
    "use_cudnn=True\n",
    "\n",
    "# dataset\n",
    "dataset='cifar10'\n",
    "data_dir='~/data'\n",
    "uid=\"Resnet18-design-Adam-SOTA\"\n",
    "force=True\n",
    "\n",
    "# learning options\n",
    "epochs = 200\n",
    "batch_size = 64\n",
    "loss = 'CrossEntropy'\n",
    "sample_size = None\n",
    "\n",
    "# optimization\n",
    "lr=0.001\n",
    "history_size=10\n",
    "optimizer = \"Adam\"\n",
    "patience = 40\n",
    "\n",
    "## Check the best device on machine\n",
    "check = False"
   ]
  },
  {
   "cell_type": "markdown",
   "id": "edf8b721",
   "metadata": {},
   "source": [
    "Determine the best device to run on: CUDA, MPS (Apple Silicon GPU), or CPU"
   ]
  },
  {
   "cell_type": "code",
   "execution_count": 8,
   "id": "7f47f9df",
   "metadata": {},
   "outputs": [
    {
     "name": "stdout",
     "output_type": "stream",
     "text": [
      "Using device: mps, Apple Silicon GPU\n"
     ]
    }
   ],
   "source": [
    "if torch.cuda.is_available():\n",
    "    device = torch.device(\"cuda:\"+str(gpu_id))\n",
    "    device_name = torch.cuda.get_device_name(0)\n",
    "    # \n",
    "    torch.cuda.empty_cache()\n",
    "    if check:\n",
    "        torch.cuda.memory_allocated()\n",
    "elif torch.backends.mps.is_available():\n",
    "    device = torch.device(\"mps\")\n",
    "    device_name = \"Apple Silicon GPU\"\n",
    "else:\n",
    "    device = torch.device(\"cpu\")\n",
    "    device_name = \"CPU\"\n",
    "\n",
    "print(f\"Using device: {device}, {device_name}\")"
   ]
  },
  {
   "cell_type": "code",
   "execution_count": 9,
   "id": "f4a1b074",
   "metadata": {},
   "outputs": [
    {
     "name": "stdout",
     "output_type": "stream",
     "text": [
      "<arg_loader.train_args object at 0x176572590>\n",
      "cudnn is used\n"
     ]
    }
   ],
   "source": [
    "args = train_args(model=encoder,bias=bias,ETF_fc=ETF_fc,fixdim=fixdim,SOTA=SOTA,\n",
    "                  width=width,depth=depth,\n",
    "                  gpu_id=gpu_id,seed=seed,use_cudnn=use_cudnn,\n",
    "                  dataset=dataset,data_dir=data_dir,uid=uid,force=force,\n",
    "                  epochs=epochs,batch_size = batch_size,loss = loss,sample_size=sample_size,\n",
    "                  lr = lr,optimizer=optimizer, patience = patience,\n",
    "                  device = device)"
   ]
  },
  {
   "cell_type": "markdown",
   "id": "c42c7957",
   "metadata": {},
   "source": [
    "# Load Dataset"
   ]
  },
  {
   "cell_type": "code",
   "execution_count": 10,
   "id": "ba929510",
   "metadata": {},
   "outputs": [
    {
     "name": "stdout",
     "output_type": "stream",
     "text": [
      "Dataset: CIFAR10.\n",
      "Files already downloaded and verified\n",
      "Files already downloaded and verified\n",
      "The number of class in our training set is  10\n",
      "Batch size: 64 | Input size: (32, 32, 3)\n"
     ]
    }
   ],
   "source": [
    "trainloader, testloader, num_classes = make_dataset(dataset, \n",
    "                                           data_dir, \n",
    "                                           batch_size, \n",
    "                                           SOTA=SOTA)\n",
    "images, labels = next(iter(trainloader))\n",
    "size_train, channels, height, width = images.shape\n",
    "input_size = height, width, channels\n",
    "print(\"The number of class in our training set is \", num_classes)\n",
    "print(\"Batch size: %d | Input size: %s\" % (size_train,input_size))"
   ]
  },
  {
   "cell_type": "code",
   "execution_count": 13,
   "id": "ef49a53e",
   "metadata": {},
   "outputs": [],
   "source": [
    "# trainloader, testloader, traindataset, testdataset = get_cifar10_data_loaders(download=True, batch_size=BATCH_SIZE, num_workers=WORKERS)"
   ]
  },
  {
   "cell_type": "markdown",
   "id": "87c34406",
   "metadata": {},
   "source": [
    "# Load Model"
   ]
  },
  {
   "cell_type": "code",
   "execution_count": 11,
   "id": "acfabb9f",
   "metadata": {},
   "outputs": [
    {
     "name": "stdout",
     "output_type": "stream",
     "text": [
      "# of model parameters: 8859762\n",
      "<class 'models.resnet.ResNet'>\n"
     ]
    }
   ],
   "source": [
    "if args.model == \"MLP\":\n",
    "    Encoder = models.__dict__[args.model](hidden = args.width, depth = args.depth, fc_bias=args.bias, num_classes=num_classes).to(args.device)\n",
    "elif args.model == \"ResNet18_adapt\":\n",
    "    Encoder = ResNet18_adapt(width = args.width, num_classes=num_classes, fc_bias=args.bias).to(args.device)\n",
    "else:\n",
    "    Encoder = models.__dict__[args.model](num_classes=num_classes, fc_bias=args.bias, ETF_fc=args.ETF_fc, fixdim=args.fixdim, SOTA=args.SOTA).to(args.device)\n",
    "\n",
    "print('# of model parameters: ' + str(count_network_parameters(Encoder)))\n",
    "print(type(Encoder))"
   ]
  },
  {
   "cell_type": "code",
   "execution_count": 15,
   "id": "65274158",
   "metadata": {},
   "outputs": [],
   "source": [
    "# summary(Encoder.to(\"cpu\"), input_size=(3, 32, 32), device = \"cpu\")"
   ]
  },
  {
   "cell_type": "code",
   "execution_count": 15,
   "id": "bda7f761",
   "metadata": {},
   "outputs": [],
   "source": [
    "# batch_size = 64\n",
    "# channels = 3\n",
    "# height = 32\n",
    "# width = 32\n",
    "\n",
    "# # Creating a dummy tensor\n",
    "# x_original = torch.randn(batch_size, channels, height, width).to(device)\n",
    "# print(x_original.shape)\n",
    "# print(x_original.device)"
   ]
  },
  {
   "cell_type": "code",
   "execution_count": 16,
   "id": "800b482e",
   "metadata": {},
   "outputs": [],
   "source": [
    "# activation = {}\n",
    "# def get_activation(name):\n",
    "#     def hook(model, input, output):\n",
    "#         activation[name] = output.detach()\n",
    "#     return hook\n",
    "\n",
    "# model.conv1.register_forward_hook(get_activation('conv1'))\n",
    "# output = model(x_original)\n",
    "# print(activation['conv1'].shape)"
   ]
  },
  {
   "cell_type": "markdown",
   "id": "1dbb3408",
   "metadata": {},
   "source": [
    "# Create a experiment on weights&biases"
   ]
  },
  {
   "cell_type": "markdown",
   "id": "b556aa65",
   "metadata": {},
   "source": [
    "## Model Training"
   ]
  },
  {
   "cell_type": "code",
   "execution_count": 16,
   "id": "d89571ee",
   "metadata": {},
   "outputs": [
    {
     "data": {
      "text/html": [
       "wandb version 0.16.6 is available!  To upgrade, please run:\n",
       " $ pip install wandb --upgrade"
      ],
      "text/plain": [
       "<IPython.core.display.HTML object>"
      ]
     },
     "metadata": {},
     "output_type": "display_data"
    },
    {
     "data": {
      "text/html": [
       "Tracking run with wandb version 0.16.3"
      ],
      "text/plain": [
       "<IPython.core.display.HTML object>"
      ]
     },
     "metadata": {},
     "output_type": "display_data"
    },
    {
     "data": {
      "text/html": [
       "Run data is saved locally in <code>/Users/songzeyang/Documents/GitHub/DDNC/wandb/run-20240418_113503-8kfvmw3c</code>"
      ],
      "text/plain": [
       "<IPython.core.display.HTML object>"
      ]
     },
     "metadata": {},
     "output_type": "display_data"
    },
    {
     "data": {
      "text/html": [
       "Syncing run <strong><a href='https://wandb.ai/data-distillation-with-nc/DD%26NC/runs/8kfvmw3c' target=\"_blank\">sunny-valley-158</a></strong> to <a href='https://wandb.ai/data-distillation-with-nc/DD%26NC' target=\"_blank\">Weights & Biases</a> (<a href='https://wandb.me/run' target=\"_blank\">docs</a>)<br/>"
      ],
      "text/plain": [
       "<IPython.core.display.HTML object>"
      ]
     },
     "metadata": {},
     "output_type": "display_data"
    },
    {
     "data": {
      "text/html": [
       " View project at <a href='https://wandb.ai/data-distillation-with-nc/DD%26NC' target=\"_blank\">https://wandb.ai/data-distillation-with-nc/DD%26NC</a>"
      ],
      "text/plain": [
       "<IPython.core.display.HTML object>"
      ]
     },
     "metadata": {},
     "output_type": "display_data"
    },
    {
     "data": {
      "text/html": [
       " View run at <a href='https://wandb.ai/data-distillation-with-nc/DD%26NC/runs/8kfvmw3c' target=\"_blank\">https://wandb.ai/data-distillation-with-nc/DD%26NC/runs/8kfvmw3c</a>"
      ],
      "text/plain": [
       "<IPython.core.display.HTML object>"
      ]
     },
     "metadata": {},
     "output_type": "display_data"
    }
   ],
   "source": [
    "config = {\n",
    "    # architecture params\n",
    "    \"model\":encoder,\n",
    "    \"bias\": bias,\n",
    "    \"ETF_fc\":ETF_fc,\n",
    "    \"fixdim\":fixdim,\n",
    "    \"SOTA\":SOTA,\n",
    "    \n",
    "    # MLP settings (only when using mlp and res_adapt(in which case only width has effect))\n",
    "    \"width\":width,\n",
    "    \"depth\":depth,\n",
    "    \n",
    "    # hardware settings\n",
    "    \"gpu_id\":gpu_id,\n",
    "    \"seed\":seed,\n",
    "    \"use_cudnn\":use_cudnn,\n",
    "    \n",
    "    # dataset\n",
    "    \"dataset\":dataset,\n",
    "    \"data_dir\":data_dir,\n",
    "    \"uid\":uid,\n",
    "    \"force\":force,\n",
    "    \n",
    "    # learning options\n",
    "    \"epochs\": epochs,\n",
    "    \"batch_size\":batch_size,\n",
    "    \"loss\": loss,\n",
    "    \"sample_size\": sample_size,\n",
    "    \n",
    "    # optimization\n",
    "    \"lr\":lr,\n",
    "    \"optimizer\":optimizer,\n",
    "    \"device\" :device\n",
    "}\n",
    "\n",
    "run = wandb.init(\n",
    "    project=\"DD&NC\",\n",
    "    notes=\"Resnet18 with SOTA\",\n",
    "    tags=[\"Epochs: 200\",\"Resnet18\",\"Adam\",\"cifar10\",\"SOTA\"],\n",
    "    config= config\n",
    ")"
   ]
  },
  {
   "cell_type": "code",
   "execution_count": 13,
   "id": "19a6bd27",
   "metadata": {},
   "outputs": [
    {
     "name": "stdout",
     "output_type": "stream",
     "text": [
      "Initalize training...\n",
      "Optimizer:  Adam\n",
      "# of model parameters: 8867442\n",
      "--------------------- Training -------------------------------\n",
      "\n",
      "Training Epoch: [1 | 2] LR: 0.001000\n",
      "[epoch: 1] (782/782) | Loss: 1.4115 | top1: 52.6640 | top5: 91.9800 \n",
      "\n",
      "Training Epoch: [2 | 2] LR: 0.001000\n",
      "[epoch: 2] (782/782) | Loss: 1.0522 | top1: 66.8160 | top5: 96.8520 \n",
      "Elapsed time: 2.16 minutes\n"
     ]
    }
   ],
   "source": [
    "# Start timer\n",
    "start_time = time.time()\n",
    "\n",
    "train(args,Encoder,trainloader)\n",
    "\n",
    "# End timer\n",
    "end_time = time.time()\n",
    "\n",
    "# Calculate elapsed time\n",
    "elapsed_time = end_time - start_time\n",
    "elapsed_time_minutes = elapsed_time / 60\n",
    "print(f\"Elapsed time: {elapsed_time_minutes:.2f} minutes\")"
   ]
  },
  {
   "cell_type": "code",
   "execution_count": null,
   "id": "a37c9449",
   "metadata": {},
   "outputs": [],
   "source": [
    "wandb.finish()"
   ]
  },
  {
   "cell_type": "markdown",
   "id": "04c47136",
   "metadata": {},
   "source": [
    "## Model Evaluating"
   ]
  },
  {
   "cell_type": "code",
   "execution_count": 17,
   "id": "aae63ead",
   "metadata": {},
   "outputs": [
    {
     "name": "stdout",
     "output_type": "stream",
     "text": [
      "--------------------- Evaluating -------------------------------\n"
     ]
    },
    {
     "ename": "FileNotFoundError",
     "evalue": "[Errno 2] No such file or directory: './model_weights/Resnet18-design-Adam-SOTA/epoch_001.pth'",
     "output_type": "error",
     "traceback": [
      "\u001b[0;31m---------------------------------------------------------------------------\u001b[0m",
      "\u001b[0;31mFileNotFoundError\u001b[0m                         Traceback (most recent call last)",
      "Cell \u001b[0;32mIn[17], line 11\u001b[0m\n\u001b[1;32m      8\u001b[0m \u001b[38;5;28;01melse\u001b[39;00m:\n\u001b[1;32m      9\u001b[0m     load_path \u001b[38;5;241m=\u001b[39m \u001b[38;5;124m\"\u001b[39m\u001b[38;5;124m./model_weights/\u001b[39m\u001b[38;5;124m\"\u001b[39m\u001b[38;5;241m+\u001b[39margs\u001b[38;5;241m.\u001b[39muid\u001b[38;5;241m+\u001b[39m\u001b[38;5;124m\"\u001b[39m\u001b[38;5;124m/\u001b[39m\u001b[38;5;124m\"\u001b[39m\n\u001b[0;32m---> 11\u001b[0m evaluate_NC(args,load_path,Encoder,trainloader,testloader,nearest_neighbor\u001b[38;5;241m=\u001b[39m\u001b[38;5;28;01mTrue\u001b[39;00m)\n\u001b[1;32m     13\u001b[0m \u001b[38;5;66;03m# End timer\u001b[39;00m\n\u001b[1;32m     14\u001b[0m end_time \u001b[38;5;241m=\u001b[39m time\u001b[38;5;241m.\u001b[39mtime()\n",
      "File \u001b[0;32m~/Documents/GitHub/DDNC/validate_NC.py:245\u001b[0m, in \u001b[0;36mevaluate_NC\u001b[0;34m(args, load_path, model, trainloader, testloader, nearest_neighbor, ontest)\u001b[0m\n\u001b[1;32m    241\u001b[0m \u001b[38;5;28;01mfor\u001b[39;00m i \u001b[38;5;129;01min\u001b[39;00m \u001b[38;5;28mrange\u001b[39m(args\u001b[38;5;241m.\u001b[39mepochs):\n\u001b[1;32m    244\u001b[0m     map_location\u001b[38;5;241m=\u001b[39mtorch\u001b[38;5;241m.\u001b[39mdevice(args\u001b[38;5;241m.\u001b[39mdevice)\n\u001b[0;32m--> 245\u001b[0m     model\u001b[38;5;241m.\u001b[39mload_state_dict(torch\u001b[38;5;241m.\u001b[39mload(args\u001b[38;5;241m.\u001b[39mload_path \u001b[38;5;241m+\u001b[39m \u001b[38;5;124m'\u001b[39m\u001b[38;5;124mepoch_\u001b[39m\u001b[38;5;124m'\u001b[39m \u001b[38;5;241m+\u001b[39m \u001b[38;5;28mstr\u001b[39m(i \u001b[38;5;241m+\u001b[39m \u001b[38;5;241m1\u001b[39m)\u001b[38;5;241m.\u001b[39mzfill(\u001b[38;5;241m3\u001b[39m) \u001b[38;5;241m+\u001b[39m \u001b[38;5;124m'\u001b[39m\u001b[38;5;124m.pth\u001b[39m\u001b[38;5;124m'\u001b[39m, \n\u001b[1;32m    246\u001b[0m                                      map_location\u001b[38;5;241m=\u001b[39mmap_location))\n\u001b[1;32m    248\u001b[0m     model\u001b[38;5;241m.\u001b[39meval()\n\u001b[1;32m    250\u001b[0m     \u001b[38;5;28;01mfor\u001b[39;00m n, p \u001b[38;5;129;01min\u001b[39;00m model\u001b[38;5;241m.\u001b[39mnamed_parameters():\n",
      "File \u001b[0;32m~/anaconda3/envs/mlenv/lib/python3.11/site-packages/torch/serialization.py:986\u001b[0m, in \u001b[0;36mload\u001b[0;34m(f, map_location, pickle_module, weights_only, mmap, **pickle_load_args)\u001b[0m\n\u001b[1;32m    983\u001b[0m \u001b[38;5;28;01mif\u001b[39;00m \u001b[38;5;124m'\u001b[39m\u001b[38;5;124mencoding\u001b[39m\u001b[38;5;124m'\u001b[39m \u001b[38;5;129;01mnot\u001b[39;00m \u001b[38;5;129;01min\u001b[39;00m pickle_load_args\u001b[38;5;241m.\u001b[39mkeys():\n\u001b[1;32m    984\u001b[0m     pickle_load_args[\u001b[38;5;124m'\u001b[39m\u001b[38;5;124mencoding\u001b[39m\u001b[38;5;124m'\u001b[39m] \u001b[38;5;241m=\u001b[39m \u001b[38;5;124m'\u001b[39m\u001b[38;5;124mutf-8\u001b[39m\u001b[38;5;124m'\u001b[39m\n\u001b[0;32m--> 986\u001b[0m \u001b[38;5;28;01mwith\u001b[39;00m _open_file_like(f, \u001b[38;5;124m'\u001b[39m\u001b[38;5;124mrb\u001b[39m\u001b[38;5;124m'\u001b[39m) \u001b[38;5;28;01mas\u001b[39;00m opened_file:\n\u001b[1;32m    987\u001b[0m     \u001b[38;5;28;01mif\u001b[39;00m _is_zipfile(opened_file):\n\u001b[1;32m    988\u001b[0m         \u001b[38;5;66;03m# The zipfile reader is going to advance the current file position.\u001b[39;00m\n\u001b[1;32m    989\u001b[0m         \u001b[38;5;66;03m# If we want to actually tail call to torch.jit.load, we need to\u001b[39;00m\n\u001b[1;32m    990\u001b[0m         \u001b[38;5;66;03m# reset back to the original position.\u001b[39;00m\n\u001b[1;32m    991\u001b[0m         orig_position \u001b[38;5;241m=\u001b[39m opened_file\u001b[38;5;241m.\u001b[39mtell()\n",
      "File \u001b[0;32m~/anaconda3/envs/mlenv/lib/python3.11/site-packages/torch/serialization.py:435\u001b[0m, in \u001b[0;36m_open_file_like\u001b[0;34m(name_or_buffer, mode)\u001b[0m\n\u001b[1;32m    433\u001b[0m \u001b[38;5;28;01mdef\u001b[39;00m \u001b[38;5;21m_open_file_like\u001b[39m(name_or_buffer, mode):\n\u001b[1;32m    434\u001b[0m     \u001b[38;5;28;01mif\u001b[39;00m _is_path(name_or_buffer):\n\u001b[0;32m--> 435\u001b[0m         \u001b[38;5;28;01mreturn\u001b[39;00m _open_file(name_or_buffer, mode)\n\u001b[1;32m    436\u001b[0m     \u001b[38;5;28;01melse\u001b[39;00m:\n\u001b[1;32m    437\u001b[0m         \u001b[38;5;28;01mif\u001b[39;00m \u001b[38;5;124m'\u001b[39m\u001b[38;5;124mw\u001b[39m\u001b[38;5;124m'\u001b[39m \u001b[38;5;129;01min\u001b[39;00m mode:\n",
      "File \u001b[0;32m~/anaconda3/envs/mlenv/lib/python3.11/site-packages/torch/serialization.py:416\u001b[0m, in \u001b[0;36m_open_file.__init__\u001b[0;34m(self, name, mode)\u001b[0m\n\u001b[1;32m    415\u001b[0m \u001b[38;5;28;01mdef\u001b[39;00m \u001b[38;5;21m__init__\u001b[39m(\u001b[38;5;28mself\u001b[39m, name, mode):\n\u001b[0;32m--> 416\u001b[0m     \u001b[38;5;28msuper\u001b[39m()\u001b[38;5;241m.\u001b[39m\u001b[38;5;21m__init__\u001b[39m(\u001b[38;5;28mopen\u001b[39m(name, mode))\n",
      "\u001b[0;31mFileNotFoundError\u001b[0m: [Errno 2] No such file or directory: './model_weights/Resnet18-design-Adam-SOTA/epoch_001.pth'"
     ]
    }
   ],
   "source": [
    "# Start timer\n",
    "start_time = time.time()\n",
    "\n",
    "if 'google.colab' in sys.modules:\n",
    "    load_path = \"/content/drive/MyDrive/model_weights/\"+args.uid+\"/\"\n",
    "elif socket.gethostname() == \"dijkstra\":\n",
    "    load_path = '/data5/model_weights/'+args.uid+\"/\"\n",
    "else:\n",
    "    load_path = \"./model_weights/\"+args.uid+\"/\"\n",
    "\n",
    "evaluate_NC(args,load_path,Encoder,trainloader,testloader,nearest_neighbor=True)\n",
    "\n",
    "# End timer\n",
    "end_time = time.time()\n",
    "\n",
    "# Calculate elapsed time\n",
    "elapsed_time = end_time - start_time\n",
    "elapsed_time_minutes = elapsed_time / 60\n",
    "print(f\"Elapsed time: {elapsed_time_minutes:.2f} minutes\")"
   ]
  },
  {
   "cell_type": "code",
   "execution_count": 16,
   "id": "4d830143",
   "metadata": {},
   "outputs": [
    {
     "name": "stderr",
     "output_type": "stream",
     "text": [
      "wandb: WARNING Source type is set to 'repo' but some required information is missing from the environment. A job will not be created from this run. See https://docs.wandb.ai/guides/launch/create-job\n"
     ]
    },
    {
     "data": {
      "application/vnd.jupyter.widget-view+json": {
       "model_id": "905bcd0ad0dd404ab976be388966b0c4",
       "version_major": 2,
       "version_minor": 0
      },
      "text/plain": [
       "VBox(children=(Label(value='0.001 MB of 0.001 MB uploaded\\r'), FloatProgress(value=1.0, max=1.0)))"
      ]
     },
     "metadata": {},
     "output_type": "display_data"
    },
    {
     "data": {
      "text/html": [
       "<style>\n",
       "    table.wandb td:nth-child(1) { padding: 0 10px; text-align: left ; width: auto;} td:nth-child(2) {text-align: left ; width: 100%}\n",
       "    .wandb-row { display: flex; flex-direction: row; flex-wrap: wrap; justify-content: flex-start; width: 100% }\n",
       "    .wandb-col { display: flex; flex-direction: column; flex-basis: 100%; flex: 1; padding: 10px; }\n",
       "    </style>\n",
       "<div class=\"wandb-row\"><div class=\"wandb-col\"><h3>Run history:</h3><br/><table class=\"wandb\"><tr><td>ETF_metric</td><td>▁▁</td></tr><tr><td>LR</td><td>▁▁</td></tr><tr><td>WH_relation_metric</td><td>█▁</td></tr><tr><td>Wh_b_relation_metric</td><td>█▁</td></tr><tr><td>collapse_metric</td><td>█▁</td></tr><tr><td>epoch id</td><td>▁█</td></tr><tr><td>losses.avg</td><td>█▁</td></tr><tr><td>nearest neighbor: test_acc1</td><td>▁█</td></tr><tr><td>nearest neighbor: test_acc5</td><td>▁█</td></tr><tr><td>nearest neighbor: train_acc1</td><td>▁█</td></tr><tr><td>nearest neighbor: train_acc5</td><td>▁█</td></tr><tr><td>test_acc1</td><td>▁█</td></tr><tr><td>test_acc5</td><td>▁█</td></tr><tr><td>top1.avg</td><td>▁█</td></tr><tr><td>top5.avg</td><td>▁█</td></tr><tr><td>train_acc1</td><td>▁█</td></tr><tr><td>train_acc5</td><td>▁█</td></tr></table><br/></div><div class=\"wandb-col\"><h3>Run summary:</h3><br/><table class=\"wandb\"><tr><td>ETF_metric</td><td>0.0</td></tr><tr><td>LR</td><td>0.001</td></tr><tr><td>WH_relation_metric</td><td>0.57563</td></tr><tr><td>Wh_b_relation_metric</td><td>0.6037</td></tr><tr><td>collapse_metric</td><td>1.42166</td></tr><tr><td>epoch id</td><td>2</td></tr><tr><td>losses.avg</td><td>1.05222</td></tr><tr><td>nearest neighbor: test_acc1</td><td>61.29</td></tr><tr><td>nearest neighbor: test_acc5</td><td>94.89</td></tr><tr><td>nearest neighbor: train_acc1</td><td>64.972</td></tr><tr><td>nearest neighbor: train_acc5</td><td>95.808</td></tr><tr><td>test_acc1</td><td>64.34</td></tr><tr><td>test_acc5</td><td>96.61</td></tr><tr><td>top1.avg</td><td>66.816</td></tr><tr><td>top5.avg</td><td>96.852</td></tr><tr><td>train_acc1</td><td>68.09</td></tr><tr><td>train_acc5</td><td>97.142</td></tr></table><br/></div></div>"
      ],
      "text/plain": [
       "<IPython.core.display.HTML object>"
      ]
     },
     "metadata": {},
     "output_type": "display_data"
    },
    {
     "data": {
      "text/html": [
       " View run <strong style=\"color:#cdcd00\">fearless-cherry-102</strong> at: <a href='https://wandb.ai/data-distillation-with-nc/DD%26NC/runs/co9hghii' target=\"_blank\">https://wandb.ai/data-distillation-with-nc/DD%26NC/runs/co9hghii</a><br/>Synced 6 W&B file(s), 0 media file(s), 0 artifact file(s) and 0 other file(s)"
      ],
      "text/plain": [
       "<IPython.core.display.HTML object>"
      ]
     },
     "metadata": {},
     "output_type": "display_data"
    },
    {
     "data": {
      "text/html": [
       "Find logs at: <code>./wandb/run-20240404_141321-co9hghii/logs</code>"
      ],
      "text/plain": [
       "<IPython.core.display.HTML object>"
      ]
     },
     "metadata": {},
     "output_type": "display_data"
    }
   ],
   "source": [
    "wandb.finish()"
   ]
  },
  {
   "cell_type": "markdown",
   "id": "2750ef98",
   "metadata": {},
   "source": [
    "# Validation of Neural Collapse\n",
    "\n",
    "Neural collapse, emerged in the terminal phase of training(TPT), let us understand the behavior of a special class of neural network, deep classifier neural network. It has widely observed in a number of data set and model structures. Is has mainly 4 fold of meaning:\n",
    "\n",
    "- **(NC1)** Cross-example within-class variability of last-layer training activations collapses to zero, as the individual activations themselves collapse to their class means. \n",
    "\n",
    "- **(NC2)** The class means collapse to the vertices of a simplex equiangular tight frame (ETF). \n",
    "\n",
    "- **(NC3)** Up to rescaling, the last-layer classifiers collapse to the class means or in other words, to the simplex ETF (i.e., to a self-dual configuration). \n",
    "\n",
    "- **(NC4)** For a given activation, the classifier’s decision collapses to simply choosing whichever class has the closest train class mean (i.e., the nearest class center decision rule).\n",
    "\n",
    "Let's denote the last linear layer as, which is also known as unconstrained feature model:\n",
    "\n",
    "$$\n",
    "h = \\phi_\\theta(x) \\in R^{d \\times n}\n",
    "$$\n",
    "\n",
    "The output of the neural network as:\n",
    "\n",
    "$$\n",
    "\\Phi_\\Theta(x) = W_Lh+b_L\n",
    "$$\n",
    "\n",
    "Denote $N = nk, H = [h_{1,1},..., h_{k,n}] \\in R^{d \\times N}$, so that the last layer can be written as $R^d \\rightarrow R^k$. Also, let's denote the within-class and between-class covariance matrices as $\\Sigma_W$ and $\\Sigma_B$.\n",
    "\n",
    "In general, neural collapse can be written in summary as:\n",
    "\n",
    "$$\n",
    "\\Sigma_W \\rightarrow 0, \\\\\n",
    "H \\rightarrow \\bar{H} \\rightarrow ETF, W \\rightarrow \\bar{H}\n",
    "$$\n",
    "\n",
    "We can measure the NC in 4 metrics:\n",
    "\n",
    "$$\n",
    "NC_1:=\\frac{1}{K}trace(\\Sigma_W\\Sigma_B^{+})\\\\\n",
    "NC_2:= ||\\frac{WW^T}{||WW^T||_F}-\\frac{1}{\\sqrt{K-1}} (I_K - \\frac{1}{K}1_K1_K^T)||_F\\\\\n",
    "NC_3:= ||\\frac{W\\bar{H}^T}{||W\\bar{H}^T||_F}-\\frac{1}{\\sqrt{K-1}} (I_K - \\frac{1}{K}1_K1_K^T)||_F\\\\\n",
    "NC_4:=||b+Wh_G||_2\n",
    "$$\n",
    "\n",
    "The $NC_4$ follows the simplified rule: $Wh_{k,i}+b = W(h_{k,i} - h_G) + Wh_G +b$, and $Wh_G +b$ should be 0 in the TPT.\n",
    "\n",
    "## Find the ETF center\n",
    "\n",
    "Let's introduce the global mean and class mean of the last-layer features ${h_{k,i}}$ as:\n",
    "\n",
    "$$\n",
    "h_G = \\frac{1}{nK}\\sum^{K}_{k=1}\\sum^{n}_{i=1}h_{k,i}, \\ \\bar{h_k} = \\frac{1}{n}\\sum_{i=1}^{n}h_{k,i}(1\\leq k \\leq K)\n",
    "$$\n",
    "\n",
    "The ETF center of the last layer features, or the centered class-mean matrix,: $\\bar{H} = [\\bar{h_{1}} - h_G,..., \\bar{h_{K}} - h_G]$. \n",
    "\n",
    "\n",
    "## Visualization of K-ETF\n",
    "\n",
    "A (K-Simplex ETF) is a collection of points in $R^K$ specified by the columns of:\n",
    "\n",
    "$$\n",
    "M = \\sqrt\\frac{K}{K-1} (I_K - \\frac{1}{K}1_K1_K^T)\n",
    "$$\n",
    "\n",
    "where $I_K \\in R^{K \\times K}$ is the identity matrix, and 1K ∈ RK is the all ones vector. In the other words, we also have\n",
    "\n",
    "$$\n",
    "M^TM = MM^T =\\frac{K}{K − 1}(I_K −\\frac{1}{K}1_K1_K^T)\n",
    "$$\n",
    "\n",
    "However, the learned features of neural network is often up to some scaling and rotation, thus we consider the general ETF as a collection of points in $R^d$ specified by the columns of $\\sqrt\\frac{K}{K-1} P (I_K −\\frac{1}{K}1_K1_K^T)$, where $P \\in R{d \\times K} (d \\leq K)$ is a orthonormal matrix, i.e., $P^TP = I_K$.\n",
    "\n",
    "### Further Explaination\n",
    "\n",
    "The neural collapse shows that as training proceeds, last-layer features $H$ collapse onto their class means ($NC1$), class means converge to the vertices of the simplex ETF ($NC2$), and the linear classifiers $W$ approach their corresponding class means ($NC3$). \n",
    "\n",
    "In the collapse stage, the $NC2$ says that the class-means centered at their global means form a Simplex Equiangular Tight Frame - or Simplex ETF. More specifically, the weigths matrix $W^{*T} \\in R^{d \\times d}$ with $U^TU = I_d$, the normalised matrix $M:=\\frac{1}{w^*}UW^{*T}$\n",
    "\n",
    "$$\n",
    "M^TM = \\frac{K}{K-1} (I_K - \\frac{1}{K}1_K1_K^T)\n",
    "$$\n",
    "\n",
    "Depending on whether to fix the output dimension, we will get shapeful $W \\in R^{k \\times d}$ and $H \\in R^{d \\times N}$. The dimension of bias in the last linear layer is always fixed at $b \\in R^{k \\times N}$. Define $N=nk$ and k is the number of classes and n is the number of images (input data) in each class.\n",
    "\n",
    "If we fixed the $W$, it is easy to show that the class means will converge to a standard K-ETF."
   ]
  },
  {
   "cell_type": "code",
   "execution_count": 12,
   "id": "d42c0c1d",
   "metadata": {},
   "outputs": [],
   "source": [
    "def k_etf(K=10):\n",
    "    constant = torch.sqrt(torch.tensor(K/(K-1)))\n",
    "    ETF = (torch.eye(K)-(1/K)*torch.ones((K, K)))\n",
    "    return constant*ETF\n",
    "\n",
    "def k_etf_normalize(etf):\n",
    "    K = etf.shape[1]\n",
    "    norm = torch.sqrt((1/K*torch.norm(etf, 'fro')**2))\n",
    "    return etf/norm\n",
    "\n",
    "def k_etf_colunm_norm(etf):\n",
    "    return torch.sqrt(torch.sum(torch.square(etf), axis=0))"
   ]
  },
  {
   "cell_type": "code",
   "execution_count": 13,
   "id": "b74772bb",
   "metadata": {},
   "outputs": [
    {
     "name": "stdout",
     "output_type": "stream",
     "text": [
      "tensor([[ 0.9487, -0.1054, -0.1054, -0.1054, -0.1054, -0.1054, -0.1054, -0.1054,\n",
      "         -0.1054, -0.1054],\n",
      "        [-0.1054,  0.9487, -0.1054, -0.1054, -0.1054, -0.1054, -0.1054, -0.1054,\n",
      "         -0.1054, -0.1054],\n",
      "        [-0.1054, -0.1054,  0.9487, -0.1054, -0.1054, -0.1054, -0.1054, -0.1054,\n",
      "         -0.1054, -0.1054],\n",
      "        [-0.1054, -0.1054, -0.1054,  0.9487, -0.1054, -0.1054, -0.1054, -0.1054,\n",
      "         -0.1054, -0.1054],\n",
      "        [-0.1054, -0.1054, -0.1054, -0.1054,  0.9487, -0.1054, -0.1054, -0.1054,\n",
      "         -0.1054, -0.1054],\n",
      "        [-0.1054, -0.1054, -0.1054, -0.1054, -0.1054,  0.9487, -0.1054, -0.1054,\n",
      "         -0.1054, -0.1054],\n",
      "        [-0.1054, -0.1054, -0.1054, -0.1054, -0.1054, -0.1054,  0.9487, -0.1054,\n",
      "         -0.1054, -0.1054],\n",
      "        [-0.1054, -0.1054, -0.1054, -0.1054, -0.1054, -0.1054, -0.1054,  0.9487,\n",
      "         -0.1054, -0.1054],\n",
      "        [-0.1054, -0.1054, -0.1054, -0.1054, -0.1054, -0.1054, -0.1054, -0.1054,\n",
      "          0.9487, -0.1054],\n",
      "        [-0.1054, -0.1054, -0.1054, -0.1054, -0.1054, -0.1054, -0.1054, -0.1054,\n",
      "         -0.1054,  0.9487]])\n",
      "tensor([1.0000, 1.0000, 1.0000, 1.0000, 1.0000, 1.0000, 1.0000, 1.0000, 1.0000,\n",
      "        1.0000])\n"
     ]
    }
   ],
   "source": [
    "print(k_etf(K=10))\n",
    "\n",
    "print(k_etf_colunm_norm(k_etf_normalize(k_etf(K=10))))"
   ]
  },
  {
   "cell_type": "code",
   "execution_count": 14,
   "id": "54006323",
   "metadata": {},
   "outputs": [
    {
     "data": {
      "image/png": "[encoded data removed]",
      "text/plain": [
       "<Figure size 1000x800 with 1 Axes>"
      ]
     },
     "metadata": {},
     "output_type": "display_data"
    }
   ],
   "source": [
    "# Step 1: Generate the ETF matrix (as a PyTorch tensor)\n",
    "simplex_vertices = k_etf(3)\n",
    "\n",
    "# Step 2: Calculate the ETF center with PyTorch\n",
    "etf_center = torch.mean(simplex_vertices, dim=0)\n",
    "\n",
    "# Step 3: Plotting\n",
    "fig = plt.figure(figsize=(10, 8))\n",
    "ax = fig.add_subplot(111, projection='3d')\n",
    "\n",
    "# Convert PyTorch tensors to numpy arrays for plotting\n",
    "simplex_vertices_np = simplex_vertices.numpy()\n",
    "etf_center_np = etf_center.numpy()\n",
    "\n",
    "# Plotting simplex ETF vertices\n",
    "ax.scatter(simplex_vertices_np[:, 0], simplex_vertices_np[:, 1], simplex_vertices_np[:, 2], color='green', s=100, marker='o', label='Simplex ETF Vertex')\n",
    "\n",
    "# Plotting the ETF center\n",
    "ax.scatter(etf_center_np[0], etf_center_np[1], etf_center_np[2], color='red', s=100, marker='*', label='ETF Center')\n",
    "\n",
    "# Drawing lines from each vertex to the ETF center\n",
    "for vertex in simplex_vertices_np:\n",
    "    ax.plot([vertex[0], etf_center_np[0]], [vertex[1], etf_center_np[1]], [vertex[2], etf_center_np[2]], 'k--')\n",
    "\n",
    "# Labels and legend\n",
    "ax.set_xlabel('Feature Dimension 1')\n",
    "ax.set_ylabel('Feature Dimension 2')\n",
    "ax.set_zlabel('Feature Dimension 3')\n",
    "plt.title('3D Visualization of ETF with Center')\n",
    "ax.legend()\n",
    "\n",
    "plt.show()"
   ]
  },
  {
   "cell_type": "markdown",
   "id": "b7389593",
   "metadata": {},
   "source": [
    "## Analysis of Features\n",
    "\n",
    "The improved neural network design shows us that we can fix the weight matrix $W$ as standard K-ETF and set the feature dimension $d$ equal to $k$, the number of class. We can plot this ETF and see if it matches."
   ]
  },
  {
   "cell_type": "code",
   "execution_count": 1,
   "id": "4dadeb20",
   "metadata": {},
   "outputs": [
    {
     "ename": "NameError",
     "evalue": "name 'sys' is not defined",
     "output_type": "error",
     "traceback": [
      "\u001b[0;31m---------------------------------------------------------------------------\u001b[0m",
      "\u001b[0;31mNameError\u001b[0m                                 Traceback (most recent call last)",
      "Cell \u001b[0;32mIn[1], line 1\u001b[0m\n\u001b[0;32m----> 1\u001b[0m \u001b[38;5;28;01mif\u001b[39;00m \u001b[38;5;124m'\u001b[39m\u001b[38;5;124mgoogle.colab\u001b[39m\u001b[38;5;124m'\u001b[39m \u001b[38;5;129;01min\u001b[39;00m sys\u001b[38;5;241m.\u001b[39mmodules:\n\u001b[1;32m      2\u001b[0m     load_path \u001b[38;5;241m=\u001b[39m \u001b[38;5;124m\"\u001b[39m\u001b[38;5;124m/content/drive/MyDrive/model_weights/\u001b[39m\u001b[38;5;124m\"\u001b[39m\u001b[38;5;241m+\u001b[39margs\u001b[38;5;241m.\u001b[39muid\u001b[38;5;241m+\u001b[39m\u001b[38;5;124m\"\u001b[39m\u001b[38;5;124m/\u001b[39m\u001b[38;5;124m\"\u001b[39m\n\u001b[1;32m      3\u001b[0m \u001b[38;5;28;01melif\u001b[39;00m socket\u001b[38;5;241m.\u001b[39mgethostname() \u001b[38;5;241m==\u001b[39m \u001b[38;5;124m\"\u001b[39m\u001b[38;5;124mdijkstra\u001b[39m\u001b[38;5;124m\"\u001b[39m:\n",
      "\u001b[0;31mNameError\u001b[0m: name 'sys' is not defined"
     ]
    }
   ],
   "source": [
    "if 'google.colab' in sys.modules:\n",
    "    load_path = \"/content/drive/MyDrive/model_weights/\"+args.uid+\"/\"\n",
    "elif socket.gethostname() == \"dijkstra\":\n",
    "    load_path = '/data5/model_weights/'+args.uid+\"/\"\n",
    "else:\n",
    "    load_path = \"./model_weights/\"+args.uid+\"/\"\n",
    "\n",
    "Encoder = Encoder.to(device)\n",
    "\n",
    "fc_features = FCFeatures()\n",
    "Encoder.fc.register_forward_pre_hook(fc_features)\n",
    "\n",
    "print('--------------------- Evaluating -------------------------------')\n",
    "\n",
    "### investigate a specific epochs\n",
    "i = 199\n",
    "###\n",
    "\n",
    "map_location=torch.device(args.device)\n",
    "Encoder.load_state_dict(torch.load(load_path + 'epoch_' + str(i + 1).zfill(3) + '.pth',map_location=map_location))\n",
    "\n",
    "Encoder.eval()\n",
    "\n",
    "for n, p in Encoder.named_parameters():\n",
    "    if 'fc.weight' in n:\n",
    "        W = p\n",
    "    if 'fc.bias' in n:\n",
    "        b = p\n",
    "        \n",
    "W = W.to(device)\n",
    "b = b.to(device)\n",
    "\n",
    "print(\"W is\", W)\n",
    "print(\"The shape of our weigths in this epochs is \", W.shape)"
   ]
  },
  {
   "cell_type": "code",
   "execution_count": 22,
   "id": "8a1ce9ce",
   "metadata": {},
   "outputs": [],
   "source": [
    "mu_G_train, mu_c_dict_train, train_acc1, train_acc5 = compute_info(args, Encoder, fc_features, trainloader, isTrain=True)\n",
    "mu_G_test, mu_c_dict_test, test_acc1, test_acc5 = compute_info(args, Encoder, fc_features, testloader, isTrain=False)\n",
    "print('[epoch: %d] | train top1: %.4f | train top5: %.4f | test top1: %.4f | test top5: %.4f ' %\n",
    "      (i + 1, train_acc1, train_acc5, test_acc1, test_acc5))\n",
    "\n",
    "_, H = compute_W_H_relation(W, mu_c_dict_train, mu_G_train)\n",
    "\n",
    "print(H)\n",
    "print(k_etf_normalize(H))\n",
    "print(\"the colmun norm of unnormalised centered features is \", k_etf_colunm_norm(H))\n",
    "print(\"the colmun norm of normalised centered features is \",k_etf_colunm_norm(k_etf_normalize(H)))"
   ]
  },
  {
   "cell_type": "code",
   "execution_count": null,
   "id": "7b5cfbd4",
   "metadata": {},
   "outputs": [],
   "source": [
    "_, H_test = compute_W_H_relation(W, mu_c_dict_test, mu_G_test)\n",
    "print(H_test)\n",
    "print(k_etf_normalize(H_test))\n",
    "print(\"the colmun norm of unnormalised centered features is \", k_etf_colunm_norm(H_test))\n",
    "print(\"the colmun norm of normalised centered features is \",k_etf_colunm_norm(k_etf_normalize(H_test)))"
   ]
  },
  {
   "cell_type": "markdown",
   "id": "e47f6d1f",
   "metadata": {},
   "source": [
    "# Data Distillation by Autoencoder"
   ]
  },
  {
   "cell_type": "code",
   "execution_count": 36,
   "id": "5809fbf0",
   "metadata": {},
   "outputs": [],
   "source": [
    "# architecture params\n",
    "decoder='resnet18'\n",
    "bias=True\n",
    "ETF_fc=True\n",
    "fixdim=10\n",
    "SOTA=True\n",
    "\n",
    "# MLP settings (only when using mlp and res_adapt(in which case only width has effect))\n",
    "width=1024\n",
    "depth=6\n",
    "\n",
    "# hardware settings\n",
    "gpu_id=1\n",
    "seed=6\n",
    "use_cudnn=True\n",
    "\n",
    "# dataset\n",
    "dataset='cifar10'\n",
    "data_dir='~/data'\n",
    "uid=\"test-decoder\"\n",
    "force=True\n",
    "\n",
    "# learning options\n",
    "epochs = 200\n",
    "batch_size = 64\n",
    "loss = 'MSE'\n",
    "sample_size = None\n",
    "\n",
    "# optimization (change for autoencoder)\n",
    "lr=0.001\n",
    "history_size=10\n",
    "optimizer = \"Adam\"\n",
    "patience = 40\n",
    "\n",
    "## Check the best device on machine\n",
    "check = False"
   ]
  },
  {
   "cell_type": "code",
   "execution_count": 37,
   "id": "f72901ae-7447-49b5-8224-c8e41bba8657",
   "metadata": {},
   "outputs": [
    {
     "name": "stdout",
     "output_type": "stream",
     "text": [
      "Using device: cuda:1, NVIDIA TITAN V\n"
     ]
    }
   ],
   "source": [
    "if torch.cuda.is_available():\n",
    "    device = torch.device(\"cuda:\"+str(gpu_id))\n",
    "    device_name = torch.cuda.get_device_name(0)\n",
    "    # \n",
    "    torch.cuda.empty_cache()\n",
    "    if check:\n",
    "        torch.cuda.memory_allocated()\n",
    "elif torch.backends.mps.is_available():\n",
    "    device = torch.device(\"mps\")\n",
    "    device_name = \"Apple Silicon GPU\"\n",
    "else:\n",
    "    device = torch.device(\"cpu\")\n",
    "    device_name = \"CPU\"\n",
    "\n",
    "print(f\"Using device: {device}, {device_name}\")"
   ]
  },
  {
   "cell_type": "code",
   "execution_count": 38,
   "id": "90779fb9",
   "metadata": {},
   "outputs": [
    {
     "name": "stdout",
     "output_type": "stream",
     "text": [
      "override this uidtest-decoder\n",
      "<arg_loader.train_args object at 0x7f623c120310>\n",
      "cudnn is used\n"
     ]
    }
   ],
   "source": [
    "auto_args = train_args(model=decoder,bias=bias,ETF_fc=ETF_fc,fixdim=fixdim,SOTA=SOTA,\n",
    "                  width=width,depth=depth,\n",
    "                  gpu_id=gpu_id,seed=seed,use_cudnn=use_cudnn,\n",
    "                  dataset=dataset,data_dir=data_dir,uid=uid,force=force,\n",
    "                  epochs=epochs,batch_size = batch_size,loss = loss,sample_size=sample_size,\n",
    "                  lr = lr,optimizer=optimizer, patience = patience,\n",
    "                  device = device)"
   ]
  },
  {
   "cell_type": "code",
   "execution_count": 42,
   "id": "bd11dbba",
   "metadata": {},
   "outputs": [
    {
     "name": "stdout",
     "output_type": "stream",
     "text": [
      "<class 'models.resnet_decode.ResNet'>\n"
     ]
    }
   ],
   "source": [
    "if auto_args.model == \"MLP\":\n",
    "    Decoder = models.__dict__[args.model](hidden = auto_args.width, depth = auto_args.depth, fc_bias=auto_args.bias, num_classes=num_classes).to(auto_args.device)\n",
    "elif auto_args.model == \"ResNet18_adapt\":\n",
    "    Decoder = ResNet18_adapt(width = auto_args.width, num_classes=num_classes, fc_bias=auto_args.bias).to(auto_args.device)\n",
    "else:\n",
    "    Decoder = resnet_decode.__dict__[auto_args.model](num_classes=num_classes, fixdim=auto_args.fixdim, SOTA=auto_args.SOTA).to(auto_args.device)\n",
    "\n",
    "print(type(Decoder))"
   ]
  },
  {
   "cell_type": "code",
   "execution_count": 22,
   "id": "3583b0cd",
   "metadata": {},
   "outputs": [],
   "source": [
    "# batch_size = 64\n",
    "# channels = 10\n",
    "# height = 1\n",
    "# width = 1\n",
    "\n",
    "# # Creating a dummy tensor\n",
    "# x_original = torch.randn(batch_size, channels, height, width).to(device)\n",
    "# print(x_original.shape)\n",
    "# print(x_original.device)\n",
    "\n",
    "\n",
    "# Decoder(x_original)"
   ]
  },
  {
   "cell_type": "code",
   "execution_count": 41,
   "id": "1306ea91-32ad-40f5-9633-37ff7c66b984",
   "metadata": {},
   "outputs": [],
   "source": [
    "# summary(Decoder.to(\"cpu\"), input_size=(10, 1, 1), device = \"cpu\")"
   ]
  },
  {
   "cell_type": "code",
   "execution_count": 19,
   "id": "d53bf7a2",
   "metadata": {},
   "outputs": [],
   "source": [
    "# for name, parameter in model.named_parameters():\n",
    "#     print(f\"{name}: {parameter.numel()} parameters\")"
   ]
  },
  {
   "cell_type": "code",
   "execution_count": 20,
   "id": "6fcd3104",
   "metadata": {},
   "outputs": [],
   "source": [
    "# for dname, dparameter in decoder.named_parameters():\n",
    "#     print(f\"{dname}: {dparameter.numel()} parameters\")"
   ]
  },
  {
   "cell_type": "code",
   "execution_count": 21,
   "id": "710519c5",
   "metadata": {},
   "outputs": [],
   "source": [
    "# summary(decoder.to(\"cpu\"), input_size=(10,1,1), device = \"cpu\")"
   ]
  },
  {
   "cell_type": "code",
   "execution_count": 43,
   "id": "13ec6359",
   "metadata": {},
   "outputs": [],
   "source": [
    "from models.Autoencoder_CNN import Autoencoder"
   ]
  },
  {
   "cell_type": "code",
   "execution_count": 44,
   "id": "7386d0da",
   "metadata": {},
   "outputs": [],
   "source": [
    "autoencoder = Autoencoder(Encoder,Decoder)"
   ]
  },
  {
   "cell_type": "code",
   "execution_count": 45,
   "id": "58c1ddc0-a100-4005-9566-d143a8401c39",
   "metadata": {},
   "outputs": [
    {
     "name": "stdout",
     "output_type": "stream",
     "text": [
      "# of model parameters: 8898374\n",
      "<class 'models.Autoencoder_CNN.Autoencoder'>\n"
     ]
    }
   ],
   "source": [
    "autoencoder.freeze_encoder()\n",
    "autoencoder.unfreeze_decoder()\n",
    "print('# of model parameters: ' + str(count_network_parameters(autoencoder)))\n",
    "print(type(autoencoder))"
   ]
  },
  {
   "cell_type": "markdown",
   "id": "cf8f38cd-839a-464d-8fa9-1d5fdda81961",
   "metadata": {},
   "source": [
    "## Create a experiment on weights&biases"
   ]
  },
  {
   "cell_type": "code",
   "execution_count": 46,
   "id": "febdc6ff",
   "metadata": {},
   "outputs": [],
   "source": [
    "from train_AE import AE_train"
   ]
  },
  {
   "cell_type": "code",
   "execution_count": 47,
   "id": "c5cc649f",
   "metadata": {},
   "outputs": [
    {
     "data": {
      "text/html": [
       "wandb version 0.16.6 is available!  To upgrade, please run:\n",
       " $ pip install wandb --upgrade"
      ],
      "text/plain": [
       "<IPython.core.display.HTML object>"
      ]
     },
     "metadata": {},
     "output_type": "display_data"
    },
    {
     "data": {
      "text/html": [
       "Tracking run with wandb version 0.16.5"
      ],
      "text/plain": [
       "<IPython.core.display.HTML object>"
      ]
     },
     "metadata": {},
     "output_type": "display_data"
    },
    {
     "data": {
      "text/html": [
       "Run data is saved locally in <code>/home/songze/DDNC/wandb/run-20240411_063945-v5dm8w0j</code>"
      ],
      "text/plain": [
       "<IPython.core.display.HTML object>"
      ]
     },
     "metadata": {},
     "output_type": "display_data"
    },
    {
     "data": {
      "text/html": [
       "Syncing run <strong><a href='https://wandb.ai/data-distillation-with-nc/DD%26NC/runs/v5dm8w0j/workspace' target=\"_blank\">genial-glade-138</a></strong> to <a href='https://wandb.ai/data-distillation-with-nc/DD%26NC' target=\"_blank\">Weights & Biases</a> (<a href='https://wandb.me/run' target=\"_blank\">docs</a>)<br/>"
      ],
      "text/plain": [
       "<IPython.core.display.HTML object>"
      ]
     },
     "metadata": {},
     "output_type": "display_data"
    },
    {
     "data": {
      "text/html": [
       " View project at <a href='https://wandb.ai/data-distillation-with-nc/DD%26NC' target=\"_blank\">https://wandb.ai/data-distillation-with-nc/DD%26NC</a>"
      ],
      "text/plain": [
       "<IPython.core.display.HTML object>"
      ]
     },
     "metadata": {},
     "output_type": "display_data"
    },
    {
     "data": {
      "text/html": [
       " View run at <a href='https://wandb.ai/data-distillation-with-nc/DD%26NC/runs/v5dm8w0j/workspace' target=\"_blank\">https://wandb.ai/data-distillation-with-nc/DD%26NC/runs/v5dm8w0j/workspace</a>"
      ],
      "text/plain": [
       "<IPython.core.display.HTML object>"
      ]
     },
     "metadata": {},
     "output_type": "display_data"
    }
   ],
   "source": [
    "config = {\n",
    "    # architecture params\n",
    "    \"model\":decoder,\n",
    "    \"bias\": bias,\n",
    "    \"ETF_fc\":ETF_fc,\n",
    "    \"fixdim\":fixdim,\n",
    "    \"SOTA\":SOTA,\n",
    "    \n",
    "    # MLP settings (only when using mlp and res_adapt(in which case only width has effect))\n",
    "    \"width\":width,\n",
    "    \"depth\":depth,\n",
    "    \n",
    "    # hardware settings\n",
    "    \"gpu_id\":gpu_id,\n",
    "    \"seed\":seed,\n",
    "    \"use_cudnn\":use_cudnn,\n",
    "    \n",
    "    # dataset\n",
    "    \"dataset\":dataset,\n",
    "    \"data_dir\":data_dir,\n",
    "    \"uid\":uid,\n",
    "    \"force\":force,\n",
    "    \n",
    "    # learning options\n",
    "    \"epochs\": epochs,\n",
    "    \"batch_size\":batch_size,\n",
    "    \"loss\": loss,\n",
    "    \"sample_size\": sample_size,\n",
    "    \n",
    "    # optimization\n",
    "    \"lr\":lr,\n",
    "    \"optimizer\":optimizer,\n",
    "    \"device\" :device\n",
    "}\n",
    "\n",
    "run = wandb.init(\n",
    "    project=\"DD&NC\",\n",
    "    notes=\"Undesigned Autoencoder\",\n",
    "    tags=[\"Epochs: 200\",\"Resnet18\",\"Adam\",\"cifar10\",\"SOTA\"],\n",
    "    config= config\n",
    ")"
   ]
  },
  {
   "cell_type": "code",
   "execution_count": 48,
   "id": "0e509aef",
   "metadata": {},
   "outputs": [
    {
     "name": "stdout",
     "output_type": "stream",
     "text": [
      "# of model parameters: 8898374\n",
      "--------------------- Training -------------------------------\n",
      "\n",
      "Training Epoch: [1 | 200] LR: 0.001000\n"
     ]
    },
    {
     "ename": "AttributeError",
     "evalue": "'Tensor' object has no attribute 'detached'",
     "output_type": "error",
     "traceback": [
      "\u001b[0;31m---------------------------------------------------------------------------\u001b[0m",
      "\u001b[0;31mAttributeError\u001b[0m                            Traceback (most recent call last)",
      "Cell \u001b[0;32mIn[48], line 4\u001b[0m\n\u001b[1;32m      1\u001b[0m \u001b[38;5;66;03m# Start timer\u001b[39;00m\n\u001b[1;32m      2\u001b[0m start_time \u001b[38;5;241m=\u001b[39m time\u001b[38;5;241m.\u001b[39mtime()\n\u001b[0;32m----> 4\u001b[0m \u001b[43mAE_train\u001b[49m\u001b[43m(\u001b[49m\u001b[43mauto_args\u001b[49m\u001b[43m,\u001b[49m\u001b[43mautoencoder\u001b[49m\u001b[43m,\u001b[49m\u001b[43mtrainloader\u001b[49m\u001b[43m)\u001b[49m\n\u001b[1;32m      6\u001b[0m \u001b[38;5;66;03m# End timer\u001b[39;00m\n\u001b[1;32m      7\u001b[0m end_time \u001b[38;5;241m=\u001b[39m time\u001b[38;5;241m.\u001b[39mtime()\n",
      "File \u001b[0;32m~/DDNC/train_AE.py:57\u001b[0m, in \u001b[0;36mAE_train\u001b[0;34m(args, model, trainloader)\u001b[0m\n\u001b[1;32m     54\u001b[0m \u001b[38;5;28mprint\u001b[39m(\u001b[38;5;124m'\u001b[39m\u001b[38;5;124m--------------------- Training -------------------------------\u001b[39m\u001b[38;5;124m'\u001b[39m)\n\u001b[1;32m     55\u001b[0m \u001b[38;5;28;01mfor\u001b[39;00m epoch_id \u001b[38;5;129;01min\u001b[39;00m \u001b[38;5;28mrange\u001b[39m(args\u001b[38;5;241m.\u001b[39mepochs):\n\u001b[0;32m---> 57\u001b[0m     \u001b[43mAE_trainer\u001b[49m\u001b[43m(\u001b[49m\u001b[43margs\u001b[49m\u001b[43m,\u001b[49m\u001b[43m \u001b[49m\u001b[43mmodel\u001b[49m\u001b[43m,\u001b[49m\u001b[43m \u001b[49m\u001b[43mtrainloader\u001b[49m\u001b[43m,\u001b[49m\u001b[43m \u001b[49m\u001b[43mepoch_id\u001b[49m\u001b[43m,\u001b[49m\u001b[43m \u001b[49m\u001b[43mcriterion\u001b[49m\u001b[43m,\u001b[49m\u001b[43m \u001b[49m\u001b[43moptimizer\u001b[49m\u001b[43m,\u001b[49m\u001b[43m \u001b[49m\u001b[43mscheduler\u001b[49m\u001b[43m)\u001b[49m\n\u001b[1;32m     58\u001b[0m     torch\u001b[38;5;241m.\u001b[39msave(model\u001b[38;5;241m.\u001b[39mdecoder\u001b[38;5;241m.\u001b[39mstate_dict(), args\u001b[38;5;241m.\u001b[39msave_path \u001b[38;5;241m+\u001b[39m \u001b[38;5;124m\"\u001b[39m\u001b[38;5;124m/epoch_\u001b[39m\u001b[38;5;124m\"\u001b[39m \u001b[38;5;241m+\u001b[39m \u001b[38;5;28mstr\u001b[39m(epoch_id \u001b[38;5;241m+\u001b[39m \u001b[38;5;241m1\u001b[39m)\u001b[38;5;241m.\u001b[39mzfill(\u001b[38;5;241m3\u001b[39m) \u001b[38;5;241m+\u001b[39m \u001b[38;5;124m\"\u001b[39m\u001b[38;5;124m.pth\u001b[39m\u001b[38;5;124m\"\u001b[39m)\n",
      "File \u001b[0;32m~/DDNC/train_AE.py:31\u001b[0m, in \u001b[0;36mAE_trainer\u001b[0;34m(args, autoencoder, trainloader, epoch_id, criterion, optimizer, scheduler)\u001b[0m\n\u001b[1;32m     29\u001b[0m \u001b[38;5;66;03m# measure accuracy and record loss\u001b[39;00m\n\u001b[1;32m     30\u001b[0m autoencoder\u001b[38;5;241m.\u001b[39meval()\n\u001b[0;32m---> 31\u001b[0m losses\u001b[38;5;241m.\u001b[39mupdate(\u001b[43mloss\u001b[49m\u001b[38;5;241;43m.\u001b[39;49m\u001b[43mdetached\u001b[49m\u001b[38;5;241m.\u001b[39mitem(), inputs\u001b[38;5;241m.\u001b[39msize(\u001b[38;5;241m0\u001b[39m))\n\u001b[1;32m     32\u001b[0m \u001b[38;5;28mprint\u001b[39m(\u001b[38;5;124m\"\u001b[39m\u001b[38;5;124mloss.detached.item()\u001b[39m\u001b[38;5;124m\"\u001b[39m, loss\u001b[38;5;241m.\u001b[39mdetached\u001b[38;5;241m.\u001b[39mitem())\n\u001b[1;32m     33\u001b[0m train_loss\u001b[38;5;241m.\u001b[39mappend(loss\u001b[38;5;241m.\u001b[39mdetach()\u001b[38;5;241m.\u001b[39mcpu()\u001b[38;5;241m.\u001b[39mnumpy())\n",
      "\u001b[0;31mAttributeError\u001b[0m: 'Tensor' object has no attribute 'detached'"
     ]
    }
   ],
   "source": [
    "# Start timer\n",
    "start_time = time.time()\n",
    "\n",
    "AE_train(auto_args,autoencoder,trainloader)\n",
    "\n",
    "# End timer\n",
    "end_time = time.time()\n",
    "\n",
    "# Calculate elapsed time\n",
    "elapsed_time = end_time - start_time\n",
    "elapsed_time_minutes = elapsed_time / 60\n",
    "print(f\"Elapsed time: {elapsed_time_minutes:.2f} minutes\")"
   ]
  },
  {
   "cell_type": "code",
   "execution_count": null,
   "id": "5357a1c0-6314-40eb-8f39-726dd198c952",
   "metadata": {},
   "outputs": [],
   "source": [
    "wandb.finish()"
   ]
  },
  {
   "cell_type": "code",
   "execution_count": null,
   "id": "22e38b89-b7ae-48ad-ab60-a69d9762d0d3",
   "metadata": {},
   "outputs": [],
   "source": []
  }
 ],
 "metadata": {
  "kernelspec": {
   "display_name": "Python 3 (ipykernel)",
   "language": "python",
   "name": "python3"
  },
  "language_info": {
   "codemirror_mode": {
    "name": "ipython",
    "version": 3
   },
   "file_extension": ".py",
   "mimetype": "text/x-python",
   "name": "python",
   "nbconvert_exporter": "python",
   "pygments_lexer": "ipython3",
   "version": "3.11.5"
  }
 },
 "nbformat": 4,
 "nbformat_minor": 5
}
