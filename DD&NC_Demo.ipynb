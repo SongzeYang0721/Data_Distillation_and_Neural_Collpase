{
 "cells": [
  {
   "cell_type": "markdown",
   "id": "bffe843d",
   "metadata": {},
   "source": [
    "# Neural Collapse and Data Distillatioin"
   ]
  },
  {
   "cell_type": "markdown",
   "id": "56a3ad8e",
   "metadata": {},
   "source": [
    "This notebook implements data distillation with neural collapse by only one step. The main papers considered here are https://github.com/SsnL/dataset-distillation and https://github.com/tding1/Neural-Collapse. The neural network is firstly trained to its terminal phase and then distills synthesized data as introduced. Below we configure our path to the dataset distillation packages from https://github.com/SsnL/dataset-distillation."
   ]
  },
  {
   "cell_type": "markdown",
   "id": "f311a3b7",
   "metadata": {},
   "source": [
    "# Import"
   ]
  },
  {
   "cell_type": "code",
   "execution_count": 1,
   "id": "aef9b531",
   "metadata": {},
   "outputs": [],
   "source": [
    "import sys\n",
    "if 'google.colab' in sys.modules:\n",
    "    from google.colab import drive\n",
    "    drive.mount('/content/drive')\n",
    "    %cd /content/drive/My Drive/\n",
    "    !git clone https://github.com/SzYang721/DD-NC.git\n",
    "    %cd /content/drive/My Drive/DD-NC\n",
    "    !git config --global user.email \"yangsongze2008@gmail.com\"\n",
    "    !git config --global user.name \"SzYang721\"\n",
    "    sys.path.append('/content/drive/My Drive/DD-NC/')\n",
    "    sys.path.append('/content/drive/My Drive/model_weights/')\n",
    "    print(\"Environment setup complete.\")"
   ]
  },
  {
   "cell_type": "code",
   "execution_count": 2,
   "id": "e1fc6b6b",
   "metadata": {},
   "outputs": [
    {
     "name": "stderr",
     "output_type": "stream",
     "text": [
      "Failed to detect the name of this notebook, you can set it manually with the WANDB_NOTEBOOK_NAME environment variable to enable code saving.\n",
      "\u001b[34m\u001b[1mwandb\u001b[0m: Currently logged in as: \u001b[33myangsongze2008\u001b[0m (\u001b[33mdata-distillation-with-nc\u001b[0m). Use \u001b[1m`wandb login --relogin`\u001b[0m to force relogin\n"
     ]
    },
    {
     "data": {
      "text/plain": [
       "True"
      ]
     },
     "execution_count": 2,
     "metadata": {},
     "output_type": "execute_result"
    }
   ],
   "source": [
    "# !pip install --upgrade wandb\n",
    "import wandb\n",
    "wandb.login()"
   ]
  },
  {
   "cell_type": "code",
   "execution_count": 3,
   "id": "091f0c36",
   "metadata": {},
   "outputs": [],
   "source": [
    "import torch\n",
    "import torch.nn as nn\n",
    "import torch.optim as optim\n",
    "from torch import Tensor\n",
    "import torch.nn.functional as F\n",
    "\n",
    "import numpy as np\n",
    "import pickle\n",
    "import scipy.linalg as scilin\n",
    "import time\n",
    "\n",
    "import matplotlib.pyplot as plt\n",
    "from mpl_toolkits.mplot3d import Axes3D\n",
    "\n",
    "from torchsummary import summary"
   ]
  },
  {
   "cell_type": "markdown",
   "id": "67cb3e76",
   "metadata": {},
   "source": [
    "Let's import the file from the https://github.com/tding1/Neural-Collapse."
   ]
  },
  {
   "cell_type": "code",
   "execution_count": 4,
   "id": "8853d034",
   "metadata": {},
   "outputs": [],
   "source": [
    "import models\n",
    "from models import resnet_decode\n",
    "from models.res_adapt import ResNet18_adapt\n",
    "from utils import *\n",
    "\n",
    "from train_Encoder import train\n",
    "from validate_NC import *\n",
    "\n",
    "from data.datasets import make_dataset\n",
    "from data.data_loading import get_cifar10_data_loaders\n",
    "from arg_loader import *\n",
    "from Visualization import *"
   ]
  },
  {
   "cell_type": "markdown",
   "id": "4c892d01-fbf6-49b8-a4f7-0817914332e9",
   "metadata": {},
   "source": [
    "# Control Board"
   ]
  },
  {
   "cell_type": "code",
   "execution_count": 5,
   "id": "f293c94b-6c64-4410-90f1-19d85405678c",
   "metadata": {},
   "outputs": [],
   "source": [
    "TRAIN_ENCODER = True\n",
    "EVALUATE_ENCODER = False\n",
    "TUNE_ENCODER  = False\n",
    "LOAD_ENCODER_STATE_DICT = False\n",
    "ENCODER_STATE_DICT_NUMBER = 199\n",
    "FREEZE_ENCODER = True\n",
    "TRAIN_AE = False\n",
    "LOAD_DECODER_STATE_DICT = True\n",
    "DECODER_STATE_DICT_NUMBER = 50"
   ]
  },
  {
   "cell_type": "markdown",
   "id": "29ea729a",
   "metadata": {},
   "source": [
    "# Load Parameters"
   ]
  },
  {
   "cell_type": "code",
   "execution_count": 6,
   "id": "2c38ad2b",
   "metadata": {},
   "outputs": [],
   "source": [
    "# architecture params\n",
    "encoder='resnet18'\n",
    "bias=True\n",
    "ETF_fc=True\n",
    "fixdim=0\n",
    "SOTA=False\n",
    "\n",
    "# MLP settings (only when using mlp and res_adapt(in which case only width has effect))\n",
    "width=1024\n",
    "depth=6\n",
    "\n",
    "# hardware settings\n",
    "gpu_id=0\n",
    "seed=6\n",
    "use_cudnn=True\n",
    "\n",
    "# dataset\n",
    "dataset='cifar10'\n",
    "data_dir='~/data'\n",
    "uid=\"Resnet18-design(high:256)-SGD-normalize\"\n",
    "force=True\n",
    "\n",
    "# learning options\n",
    "epochs = 200\n",
    "batch_size = 128\n",
    "loss = 'CrossEntropy'\n",
    "sample_size = None\n",
    "\n",
    "# optimization\n",
    "lr=0.05\n",
    "patience = 40\n",
    "history_size=10\n",
    "optimizer = \"SGD\"\n",
    "\n",
    "## Check the best device on machine\n",
    "check = False"
   ]
  },
  {
   "cell_type": "markdown",
   "id": "edf8b721",
   "metadata": {},
   "source": [
    "Determine the best device to run on: CUDA, MPS (Apple Silicon GPU), or CPU"
   ]
  },
  {
   "cell_type": "code",
   "execution_count": 7,
   "id": "7f47f9df",
   "metadata": {},
   "outputs": [
    {
     "name": "stdout",
     "output_type": "stream",
     "text": [
      "Using device: mps, Apple Silicon GPU\n"
     ]
    }
   ],
   "source": [
    "if torch.cuda.is_available():\n",
    "    device = torch.device(\"cuda:\"+str(gpu_id))\n",
    "    device_name = torch.cuda.get_device_name(gpu_id)\n",
    "    # \n",
    "    torch.cuda.empty_cache()\n",
    "    if check:\n",
    "        torch.cuda.memory_allocated()\n",
    "elif torch.backends.mps.is_available():\n",
    "    device = torch.device(\"mps\")\n",
    "    device_name = \"Apple Silicon GPU\"\n",
    "else:\n",
    "    device = torch.device(\"cpu\")\n",
    "    device_name = \"CPU\"\n",
    "\n",
    "print(f\"Using device: {device}, {device_name}\")"
   ]
  },
  {
   "cell_type": "code",
   "execution_count": 8,
   "id": "f4a1b074",
   "metadata": {},
   "outputs": [
    {
     "name": "stdout",
     "output_type": "stream",
     "text": [
      "override this uidResnet18-design(high:256)-SGD-normalize\n",
      "<arg_loader.train_args object at 0x179136850>\n",
      "cudnn is used\n"
     ]
    }
   ],
   "source": [
    "args = train_args(model=encoder,bias=bias,ETF_fc=ETF_fc,fixdim=fixdim,SOTA=SOTA,\n",
    "                  width=width,depth=depth,\n",
    "                  gpu_id=gpu_id,seed=seed,use_cudnn=use_cudnn,\n",
    "                  dataset=dataset,data_dir=data_dir,uid=uid,force=force,\n",
    "                  epochs=epochs,batch_size = batch_size,loss = loss,sample_size=sample_size,\n",
    "                  lr = lr,optimizer=optimizer, patience = patience,\n",
    "                  device = device)"
   ]
  },
  {
   "cell_type": "markdown",
   "id": "c42c7957",
   "metadata": {},
   "source": [
    "# Load Dataset"
   ]
  },
  {
   "cell_type": "code",
   "execution_count": 9,
   "id": "ba929510",
   "metadata": {},
   "outputs": [
    {
     "name": "stdout",
     "output_type": "stream",
     "text": [
      "Dataset: CIFAR10.\n",
      "Files already downloaded and verified\n",
      "Files already downloaded and verified\n",
      "The number of class in our training set is  10\n",
      "Batch size: 128 | Input size: (32, 32, 3)\n",
      "The dataset ranges from 0 to 1\n"
     ]
    }
   ],
   "source": [
    "trainloader, testloader, num_classes = make_dataset(dataset, \n",
    "                                           data_dir, \n",
    "                                           batch_size, \n",
    "                                           SOTA=SOTA, normalize = False)\n",
    "images, labels = next(iter(trainloader))\n",
    "size_train, channels, height, width = images.shape\n",
    "input_size = height, width, channels\n",
    "print(\"The number of class in our training set is \", num_classes)\n",
    "print(\"Batch size: %d | Input size: %s\" % (size_train,input_size))\n",
    "print(\"The dataset ranges from %d to %d\" % (torch.min(images), torch.max(images)))"
   ]
  },
  {
   "cell_type": "code",
   "execution_count": 10,
   "id": "ef49a53e",
   "metadata": {},
   "outputs": [],
   "source": [
    "# trainloader, testloader, traindataset, testdataset = get_cifar10_data_loaders(download=True, batch_size=batch_size)\n",
    "# images, labels = next(iter(trainloader))\n",
    "# size_train, channels, height, width = images.shape\n",
    "# input_size = height, width, channels\n",
    "# print(\"The number of class in our training set is \", num_classes)\n",
    "# print(\"Batch size: %d | Input size: %s\" % (size_train,input_size))\n",
    "# print(\"The dataset range from %d to %d\" % (torch.min(images), torch.max(images)))"
   ]
  },
  {
   "cell_type": "markdown",
   "id": "87c34406",
   "metadata": {},
   "source": [
    "# Load Model"
   ]
  },
  {
   "cell_type": "code",
   "execution_count": 11,
   "id": "acfabb9f",
   "metadata": {},
   "outputs": [
    {
     "name": "stdout",
     "output_type": "stream",
     "text": [
      "# of model parameters: 2782794\n",
      "<class 'models.resnet.ResNet'>\n"
     ]
    }
   ],
   "source": [
    "if args.model == \"MLP\":\n",
    "    Encoder = models.__dict__[args.model](hidden = args.width, depth = args.depth, fc_bias=args.bias, num_classes=num_classes).to(args.device)\n",
    "elif args.model == \"ResNet18_adapt\":\n",
    "    Encoder = ResNet18_adapt(width = args.width, num_classes=num_classes, fc_bias=args.bias).to(args.device)\n",
    "else:\n",
    "    Encoder = models.__dict__[args.model](num_classes=num_classes, fc_bias=args.bias, ETF_fc=args.ETF_fc, fixdim=args.fixdim, SOTA=args.SOTA).to(args.device)\n",
    "\n",
    "print('# of model parameters: ' + str(count_network_parameters(Encoder)))\n",
    "print(type(Encoder))"
   ]
  },
  {
   "cell_type": "code",
   "execution_count": 12,
   "id": "65274158",
   "metadata": {},
   "outputs": [
    {
     "name": "stdout",
     "output_type": "stream",
     "text": [
      "----------------------------------------------------------------\n",
      "        Layer (type)               Output Shape         Param #\n",
      "================================================================\n",
      "            Conv2d-1           [-1, 64, 16, 16]           9,408\n",
      "       BatchNorm2d-2           [-1, 64, 16, 16]             128\n",
      "              ReLU-3           [-1, 64, 16, 16]               0\n",
      "         MaxPool2d-4             [-1, 64, 8, 8]               0\n",
      "            Conv2d-5             [-1, 64, 8, 8]          36,864\n",
      "       BatchNorm2d-6             [-1, 64, 8, 8]             128\n",
      "              ReLU-7             [-1, 64, 8, 8]               0\n",
      "            Conv2d-8             [-1, 64, 8, 8]          36,864\n",
      "       BatchNorm2d-9             [-1, 64, 8, 8]             128\n",
      "             ReLU-10             [-1, 64, 8, 8]               0\n",
      "       BasicBlock-11             [-1, 64, 8, 8]               0\n",
      "           Conv2d-12             [-1, 64, 8, 8]          36,864\n",
      "      BatchNorm2d-13             [-1, 64, 8, 8]             128\n",
      "             ReLU-14             [-1, 64, 8, 8]               0\n",
      "           Conv2d-15             [-1, 64, 8, 8]          36,864\n",
      "      BatchNorm2d-16             [-1, 64, 8, 8]             128\n",
      "             ReLU-17             [-1, 64, 8, 8]               0\n",
      "       BasicBlock-18             [-1, 64, 8, 8]               0\n",
      "           Conv2d-19            [-1, 128, 4, 4]          73,728\n",
      "      BatchNorm2d-20            [-1, 128, 4, 4]             256\n",
      "             ReLU-21            [-1, 128, 4, 4]               0\n",
      "           Conv2d-22            [-1, 128, 4, 4]         147,456\n",
      "      BatchNorm2d-23            [-1, 128, 4, 4]             256\n",
      "           Conv2d-24            [-1, 128, 4, 4]           8,192\n",
      "      BatchNorm2d-25            [-1, 128, 4, 4]             256\n",
      "             ReLU-26            [-1, 128, 4, 4]               0\n",
      "       BasicBlock-27            [-1, 128, 4, 4]               0\n",
      "           Conv2d-28            [-1, 128, 4, 4]         147,456\n",
      "      BatchNorm2d-29            [-1, 128, 4, 4]             256\n",
      "             ReLU-30            [-1, 128, 4, 4]               0\n",
      "           Conv2d-31            [-1, 128, 4, 4]         147,456\n",
      "      BatchNorm2d-32            [-1, 128, 4, 4]             256\n",
      "             ReLU-33            [-1, 128, 4, 4]               0\n",
      "       BasicBlock-34            [-1, 128, 4, 4]               0\n",
      "           Conv2d-35            [-1, 256, 2, 2]         294,912\n",
      "      BatchNorm2d-36            [-1, 256, 2, 2]             512\n",
      "             ReLU-37            [-1, 256, 2, 2]               0\n",
      "           Conv2d-38            [-1, 256, 2, 2]         589,824\n",
      "      BatchNorm2d-39            [-1, 256, 2, 2]             512\n",
      "           Conv2d-40            [-1, 256, 2, 2]          32,768\n",
      "      BatchNorm2d-41            [-1, 256, 2, 2]             512\n",
      "             ReLU-42            [-1, 256, 2, 2]               0\n",
      "       BasicBlock-43            [-1, 256, 2, 2]               0\n",
      "           Conv2d-44            [-1, 256, 2, 2]         589,824\n",
      "      BatchNorm2d-45            [-1, 256, 2, 2]             512\n",
      "             ReLU-46            [-1, 256, 2, 2]               0\n",
      "           Conv2d-47            [-1, 256, 2, 2]         589,824\n",
      "      BatchNorm2d-48            [-1, 256, 2, 2]             512\n",
      "             ReLU-49            [-1, 256, 2, 2]               0\n",
      "       BasicBlock-50            [-1, 256, 2, 2]               0\n",
      "AdaptiveAvgPool2d-51            [-1, 256, 1, 1]               0\n",
      "           Linear-52                   [-1, 10]           2,570\n",
      "================================================================\n",
      "Total params: 2,785,354\n",
      "Trainable params: 2,782,784\n",
      "Non-trainable params: 2,570\n",
      "----------------------------------------------------------------\n",
      "Input size (MB): 0.01\n",
      "Forward/backward pass size (MB): 1.22\n",
      "Params size (MB): 10.63\n",
      "Estimated Total Size (MB): 11.86\n",
      "----------------------------------------------------------------\n"
     ]
    },
    {
     "data": {
      "text/plain": [
       "ResNet(\n",
       "  (conv1): Conv2d(3, 64, kernel_size=(7, 7), stride=(2, 2), padding=(3, 3), bias=False)\n",
       "  (bn1): BatchNorm2d(64, eps=1e-05, momentum=0.1, affine=True, track_running_stats=True)\n",
       "  (relu): ReLU(inplace=True)\n",
       "  (maxpool): MaxPool2d(kernel_size=3, stride=2, padding=1, dilation=1, ceil_mode=False)\n",
       "  (layer1): Sequential(\n",
       "    (0): BasicBlock(\n",
       "      (conv1): Conv2d(64, 64, kernel_size=(3, 3), stride=(1, 1), padding=(1, 1), bias=False)\n",
       "      (bn1): BatchNorm2d(64, eps=1e-05, momentum=0.1, affine=True, track_running_stats=True)\n",
       "      (relu): ReLU(inplace=True)\n",
       "      (conv2): Conv2d(64, 64, kernel_size=(3, 3), stride=(1, 1), padding=(1, 1), bias=False)\n",
       "      (bn2): BatchNorm2d(64, eps=1e-05, momentum=0.1, affine=True, track_running_stats=True)\n",
       "    )\n",
       "    (1): BasicBlock(\n",
       "      (conv1): Conv2d(64, 64, kernel_size=(3, 3), stride=(1, 1), padding=(1, 1), bias=False)\n",
       "      (bn1): BatchNorm2d(64, eps=1e-05, momentum=0.1, affine=True, track_running_stats=True)\n",
       "      (relu): ReLU(inplace=True)\n",
       "      (conv2): Conv2d(64, 64, kernel_size=(3, 3), stride=(1, 1), padding=(1, 1), bias=False)\n",
       "      (bn2): BatchNorm2d(64, eps=1e-05, momentum=0.1, affine=True, track_running_stats=True)\n",
       "    )\n",
       "  )\n",
       "  (layer2): Sequential(\n",
       "    (0): BasicBlock(\n",
       "      (conv1): Conv2d(64, 128, kernel_size=(3, 3), stride=(2, 2), padding=(1, 1), bias=False)\n",
       "      (bn1): BatchNorm2d(128, eps=1e-05, momentum=0.1, affine=True, track_running_stats=True)\n",
       "      (relu): ReLU(inplace=True)\n",
       "      (conv2): Conv2d(128, 128, kernel_size=(3, 3), stride=(1, 1), padding=(1, 1), bias=False)\n",
       "      (bn2): BatchNorm2d(128, eps=1e-05, momentum=0.1, affine=True, track_running_stats=True)\n",
       "      (downsample): Sequential(\n",
       "        (0): Conv2d(64, 128, kernel_size=(1, 1), stride=(2, 2), bias=False)\n",
       "        (1): BatchNorm2d(128, eps=1e-05, momentum=0.1, affine=True, track_running_stats=True)\n",
       "      )\n",
       "    )\n",
       "    (1): BasicBlock(\n",
       "      (conv1): Conv2d(128, 128, kernel_size=(3, 3), stride=(1, 1), padding=(1, 1), bias=False)\n",
       "      (bn1): BatchNorm2d(128, eps=1e-05, momentum=0.1, affine=True, track_running_stats=True)\n",
       "      (relu): ReLU(inplace=True)\n",
       "      (conv2): Conv2d(128, 128, kernel_size=(3, 3), stride=(1, 1), padding=(1, 1), bias=False)\n",
       "      (bn2): BatchNorm2d(128, eps=1e-05, momentum=0.1, affine=True, track_running_stats=True)\n",
       "    )\n",
       "  )\n",
       "  (layer3): Sequential(\n",
       "    (0): BasicBlock(\n",
       "      (conv1): Conv2d(128, 256, kernel_size=(3, 3), stride=(2, 2), padding=(1, 1), bias=False)\n",
       "      (bn1): BatchNorm2d(256, eps=1e-05, momentum=0.1, affine=True, track_running_stats=True)\n",
       "      (relu): ReLU(inplace=True)\n",
       "      (conv2): Conv2d(256, 256, kernel_size=(3, 3), stride=(1, 1), padding=(1, 1), bias=False)\n",
       "      (bn2): BatchNorm2d(256, eps=1e-05, momentum=0.1, affine=True, track_running_stats=True)\n",
       "      (downsample): Sequential(\n",
       "        (0): Conv2d(128, 256, kernel_size=(1, 1), stride=(2, 2), bias=False)\n",
       "        (1): BatchNorm2d(256, eps=1e-05, momentum=0.1, affine=True, track_running_stats=True)\n",
       "      )\n",
       "    )\n",
       "    (1): BasicBlock(\n",
       "      (conv1): Conv2d(256, 256, kernel_size=(3, 3), stride=(1, 1), padding=(1, 1), bias=False)\n",
       "      (bn1): BatchNorm2d(256, eps=1e-05, momentum=0.1, affine=True, track_running_stats=True)\n",
       "      (relu): ReLU(inplace=True)\n",
       "      (conv2): Conv2d(256, 256, kernel_size=(3, 3), stride=(1, 1), padding=(1, 1), bias=False)\n",
       "      (bn2): BatchNorm2d(256, eps=1e-05, momentum=0.1, affine=True, track_running_stats=True)\n",
       "    )\n",
       "  )\n",
       "  (avgpool): AdaptiveAvgPool2d(output_size=(1, 1))\n",
       "  (fc): Linear(in_features=256, out_features=10, bias=True)\n",
       ")"
      ]
     },
     "execution_count": 12,
     "metadata": {},
     "output_type": "execute_result"
    }
   ],
   "source": [
    "summary(Encoder.to(\"cpu\"), input_size=(3, 32, 32), device = \"cpu\")\n",
    "Encoder.to(args.device)"
   ]
  },
  {
   "cell_type": "markdown",
   "id": "1dbb3408",
   "metadata": {},
   "source": [
    "# Create experiments on weights&biases"
   ]
  },
  {
   "cell_type": "markdown",
   "id": "7af5341b-0d73-428f-8d07-87b9c365be43",
   "metadata": {},
   "source": [
    "## Hyperparameter tuning"
   ]
  },
  {
   "cell_type": "code",
   "execution_count": 13,
   "id": "01cd499e-0d10-47f6-9bf0-badb54c33fcd",
   "metadata": {},
   "outputs": [],
   "source": [
    "if TUNE_ENCODER:\n",
    "    # Set up a sweep configuration\n",
    "    sweep_configuration = {\n",
    "        \"method\": \"bayes\",\n",
    "        \"name\": \"sweep\",\n",
    "        \"metric\": {\"goal\": \"minimize\", \"name\": \"losses.avg\"},\n",
    "        \"parameters\": {\n",
    "            \"batch_size\": {\"values\": [64, 128, 256]},\n",
    "            \"lr\": {\"max\": 0.1, \"min\": 0.0001},\n",
    "        },\n",
    "    }\n",
    "    # Get sweep ID\n",
    "    sweep_id = wandb.sweep(sweep_configuration, project=\"DDNC_hyper\")\n",
    "    def hypertuning_train(config = None, args = args):\n",
    "        # Initial a new run\n",
    "        run = wandb.init(project=\"DDNC_hyper\", config = config, settings=wandb.Settings(start_method=\"thread\"))\n",
    "        print(\"Initialise finished, starting now...\")\n",
    "        args.lr = wandb.config.lr\n",
    "        args.batch_size = wandb.config.batch_size\n",
    "        train(args,Encoder,trainloader)\n",
    "    # hypertuning_train(config = sweep_configuration, args = args)\n",
    "    # Start sweep\n",
    "    wandb.agent(sweep_id, function=hypertuning_train, count=10)"
   ]
  },
  {
   "cell_type": "markdown",
   "id": "b556aa65",
   "metadata": {},
   "source": [
    "## Model Training"
   ]
  },
  {
   "cell_type": "code",
   "execution_count": 14,
   "id": "d89571ee",
   "metadata": {},
   "outputs": [
    {
     "data": {
      "text/html": [
       "wandb version 0.16.6 is available!  To upgrade, please run:\n",
       " $ pip install wandb --upgrade"
      ],
      "text/plain": [
       "<IPython.core.display.HTML object>"
      ]
     },
     "metadata": {},
     "output_type": "display_data"
    },
    {
     "data": {
      "text/html": [
       "Tracking run with wandb version 0.16.3"
      ],
      "text/plain": [
       "<IPython.core.display.HTML object>"
      ]
     },
     "metadata": {},
     "output_type": "display_data"
    },
    {
     "data": {
      "text/html": [
       "Run data is saved locally in <code>/Users/songzeyang/Documents/GitHub/DDNC/wandb/run-20240429_101509-6aam9nm1</code>"
      ],
      "text/plain": [
       "<IPython.core.display.HTML object>"
      ]
     },
     "metadata": {},
     "output_type": "display_data"
    },
    {
     "data": {
      "text/html": [
       "Syncing run <strong><a href='https://wandb.ai/data-distillation-with-nc/DD%26NC/runs/6aam9nm1' target=\"_blank\">worthy-puddle-222</a></strong> to <a href='https://wandb.ai/data-distillation-with-nc/DD%26NC' target=\"_blank\">Weights & Biases</a> (<a href='https://wandb.me/run' target=\"_blank\">docs</a>)<br/>"
      ],
      "text/plain": [
       "<IPython.core.display.HTML object>"
      ]
     },
     "metadata": {},
     "output_type": "display_data"
    },
    {
     "data": {
      "text/html": [
       " View project at <a href='https://wandb.ai/data-distillation-with-nc/DD%26NC' target=\"_blank\">https://wandb.ai/data-distillation-with-nc/DD%26NC</a>"
      ],
      "text/plain": [
       "<IPython.core.display.HTML object>"
      ]
     },
     "metadata": {},
     "output_type": "display_data"
    },
    {
     "data": {
      "text/html": [
       " View run at <a href='https://wandb.ai/data-distillation-with-nc/DD%26NC/runs/6aam9nm1' target=\"_blank\">https://wandb.ai/data-distillation-with-nc/DD%26NC/runs/6aam9nm1</a>"
      ],
      "text/plain": [
       "<IPython.core.display.HTML object>"
      ]
     },
     "metadata": {},
     "output_type": "display_data"
    }
   ],
   "source": [
    "if TRAIN_ENCODER or EVALUATE_ENCODER:\n",
    "    config = {\n",
    "        # architecture params\n",
    "        \"model\":encoder,\n",
    "        \"bias\": bias,\n",
    "        \"ETF_fc\":ETF_fc,\n",
    "        \"fixdim\":fixdim,\n",
    "        \"SOTA\":SOTA,\n",
    "        \n",
    "        # MLP settings (only when using mlp and res_adapt(in which case only width has effect))\n",
    "        \"width\":width,\n",
    "        \"depth\":depth,\n",
    "        \n",
    "        # hardware settings\n",
    "        \"gpu_id\":gpu_id,\n",
    "        \"seed\":seed,\n",
    "        \"use_cudnn\":use_cudnn,\n",
    "        \n",
    "        # dataset\n",
    "        \"dataset\":dataset,\n",
    "        \"data_dir\":data_dir,\n",
    "        \"uid\":uid,\n",
    "        \"force\":force,\n",
    "        \n",
    "        # learning options\n",
    "        \"epochs\": epochs,\n",
    "        \"batch_size\":batch_size,\n",
    "        \"loss\": loss,\n",
    "        \"sample_size\": sample_size,\n",
    "        \n",
    "        # optimization\n",
    "        \"lr\":lr,\n",
    "        \"optimizer\":optimizer,\n",
    "        \"device\" :device\n",
    "    }\n",
    "    \n",
    "    run = wandb.init(\n",
    "        project=\"DD&NC\",\n",
    "        notes=\"Resnet18 with SOTA\",\n",
    "        tags=[\"Epochs: 200\",\"Resnet18\",\"SGD\",\"cifar10\",\"SOTA\"],\n",
    "        config= config\n",
    "    )"
   ]
  },
  {
   "cell_type": "code",
   "execution_count": 15,
   "id": "19a6bd27",
   "metadata": {},
   "outputs": [
    {
     "name": "stdout",
     "output_type": "stream",
     "text": [
      "# of model parameters: 2782794\n",
      "--------------------- Training -------------------------------\n",
      "\n",
      "Training Epoch: [1 | 200] LR: 0.050000\n",
      "[epoch: 1] (391/391) | Loss: 1.3626 | top1: 47.4440 | top5: 90.1260 \n",
      "\n",
      "Training Epoch: [2 | 200] LR: 0.050000\n"
     ]
    },
    {
     "name": "stderr",
     "output_type": "stream",
     "text": [
      "Exception ignored in: <function _MultiProcessingDataLoaderIter.__del__ at 0x16979f560>\n",
      "Traceback (most recent call last):\n",
      "  File \"/Users/songzeyang/anaconda3/envs/mlenv/lib/python3.11/site-packages/torch/utils/data/dataloader.py\", line 1478, in __del__\n",
      "    self._shutdown_workers()\n",
      "  File \"/Users/songzeyang/anaconda3/envs/mlenv/lib/python3.11/site-packages/torch/utils/data/dataloader.py\", line 1442, in _shutdown_workers\n",
      "    w.join(timeout=_utils.MP_STATUS_CHECK_INTERVAL)\n",
      "  File \"/Users/songzeyang/anaconda3/envs/mlenv/lib/python3.11/multiprocessing/process.py\", line 149, in join\n",
      "    res = self._popen.wait(timeout)\n",
      "          ^^^^^^^^^^^^^^^^^^^^^^^^^\n",
      "  File \"/Users/songzeyang/anaconda3/envs/mlenv/lib/python3.11/multiprocessing/popen_fork.py\", line 40, in wait\n",
      "    if not wait([self.sentinel], timeout):\n",
      "           ^^^^^^^^^^^^^^^^^^^^^^^^^^^^^^\n",
      "  File \"/Users/songzeyang/anaconda3/envs/mlenv/lib/python3.11/multiprocessing/connection.py\", line 930, in wait\n",
      "    ready = selector.select(timeout)\n",
      "            ^^^^^^^^^^^^^^^^^^^^^^^^\n",
      "  File \"/Users/songzeyang/anaconda3/envs/mlenv/lib/python3.11/selectors.py\", line 415, in select\n",
      "    fd_event_list = self._selector.poll(timeout)\n",
      "                    ^^^^^^^^^^^^^^^^^^^^^^^^^^^^\n",
      "KeyboardInterrupt: \n"
     ]
    },
    {
     "ename": "KeyboardInterrupt",
     "evalue": "",
     "output_type": "error",
     "traceback": [
      "\u001b[0;31m---------------------------------------------------------------------------\u001b[0m",
      "\u001b[0;31mKeyboardInterrupt\u001b[0m                         Traceback (most recent call last)",
      "Cell \u001b[0;32mIn[15], line 5\u001b[0m\n\u001b[1;32m      1\u001b[0m \u001b[38;5;28;01mif\u001b[39;00m TRAIN_ENCODER:\n\u001b[1;32m      2\u001b[0m     \u001b[38;5;66;03m# Start timer\u001b[39;00m\n\u001b[1;32m      3\u001b[0m     start_time \u001b[38;5;241m=\u001b[39m time\u001b[38;5;241m.\u001b[39mtime()\n\u001b[0;32m----> 5\u001b[0m     train(args,Encoder,trainloader)\n\u001b[1;32m      7\u001b[0m     \u001b[38;5;66;03m# End timer\u001b[39;00m\n\u001b[1;32m      8\u001b[0m     end_time \u001b[38;5;241m=\u001b[39m time\u001b[38;5;241m.\u001b[39mtime()\n",
      "File \u001b[0;32m~/Documents/GitHub/DDNC/train_Encoder.py:162\u001b[0m, in \u001b[0;36mtrain\u001b[0;34m(args, model, trainloader)\u001b[0m\n\u001b[1;32m    160\u001b[0m     trainer_2nd(args, model, trainloader, epoch_id, criterion, optimizer)\n\u001b[1;32m    161\u001b[0m \u001b[38;5;28;01melse\u001b[39;00m:\n\u001b[0;32m--> 162\u001b[0m     trainer_1st(args, model, trainloader, epoch_id, criterion, optimizer, scheduler)\n\u001b[1;32m    163\u001b[0m \u001b[38;5;66;03m# torch.save(model.state_dict(), args.save_path + \"/epoch_\" + str(epoch_id + 1).zfill(3) + \".pth\")\u001b[39;00m\n\u001b[1;32m    164\u001b[0m columns\u001b[38;5;241m=\u001b[39m[\u001b[38;5;124m\"\u001b[39m\u001b[38;5;124mid\u001b[39m\u001b[38;5;124m\"\u001b[39m, \u001b[38;5;124m\"\u001b[39m\u001b[38;5;124mimage\u001b[39m\u001b[38;5;124m\"\u001b[39m, \u001b[38;5;124m\"\u001b[39m\u001b[38;5;124mguess\u001b[39m\u001b[38;5;124m\"\u001b[39m, \u001b[38;5;124m\"\u001b[39m\u001b[38;5;124mtruth\u001b[39m\u001b[38;5;124m\"\u001b[39m]\n",
      "File \u001b[0;32m~/Documents/GitHub/DDNC/train_Encoder.py:64\u001b[0m, in \u001b[0;36mtrainer_1st\u001b[0;34m(args, model, trainloader, epoch_id, criterion, optimizer, scheduler)\u001b[0m\n\u001b[1;32m     62\u001b[0m optimizer\u001b[38;5;241m.\u001b[39mzero_grad()\n\u001b[1;32m     63\u001b[0m loss\u001b[38;5;241m.\u001b[39mbackward()\n\u001b[0;32m---> 64\u001b[0m optimizer\u001b[38;5;241m.\u001b[39mstep()\n\u001b[1;32m     66\u001b[0m \u001b[38;5;66;03m# measure accuracy and record loss\u001b[39;00m\n\u001b[1;32m     67\u001b[0m model\u001b[38;5;241m.\u001b[39meval()\n",
      "File \u001b[0;32m~/anaconda3/envs/mlenv/lib/python3.11/site-packages/torch/optim/lr_scheduler.py:68\u001b[0m, in \u001b[0;36mLRScheduler.__init__.<locals>.with_counter.<locals>.wrapper\u001b[0;34m(*args, **kwargs)\u001b[0m\n\u001b[1;32m     66\u001b[0m instance\u001b[38;5;241m.\u001b[39m_step_count \u001b[38;5;241m+\u001b[39m\u001b[38;5;241m=\u001b[39m \u001b[38;5;241m1\u001b[39m\n\u001b[1;32m     67\u001b[0m wrapped \u001b[38;5;241m=\u001b[39m func\u001b[38;5;241m.\u001b[39m\u001b[38;5;21m__get__\u001b[39m(instance, \u001b[38;5;28mcls\u001b[39m)\n\u001b[0;32m---> 68\u001b[0m \u001b[38;5;28;01mreturn\u001b[39;00m wrapped(\u001b[38;5;241m*\u001b[39margs, \u001b[38;5;241m*\u001b[39m\u001b[38;5;241m*\u001b[39mkwargs)\n",
      "File \u001b[0;32m~/anaconda3/envs/mlenv/lib/python3.11/site-packages/torch/optim/optimizer.py:373\u001b[0m, in \u001b[0;36mOptimizer.profile_hook_step.<locals>.wrapper\u001b[0;34m(*args, **kwargs)\u001b[0m\n\u001b[1;32m    368\u001b[0m         \u001b[38;5;28;01melse\u001b[39;00m:\n\u001b[1;32m    369\u001b[0m             \u001b[38;5;28;01mraise\u001b[39;00m \u001b[38;5;167;01mRuntimeError\u001b[39;00m(\n\u001b[1;32m    370\u001b[0m                 \u001b[38;5;124mf\u001b[39m\u001b[38;5;124m\"\u001b[39m\u001b[38;5;132;01m{\u001b[39;00mfunc\u001b[38;5;132;01m}\u001b[39;00m\u001b[38;5;124m must return None or a tuple of (new_args, new_kwargs), but got \u001b[39m\u001b[38;5;132;01m{\u001b[39;00mresult\u001b[38;5;132;01m}\u001b[39;00m\u001b[38;5;124m.\u001b[39m\u001b[38;5;124m\"\u001b[39m\n\u001b[1;32m    371\u001b[0m             )\n\u001b[0;32m--> 373\u001b[0m out \u001b[38;5;241m=\u001b[39m func(\u001b[38;5;241m*\u001b[39margs, \u001b[38;5;241m*\u001b[39m\u001b[38;5;241m*\u001b[39mkwargs)\n\u001b[1;32m    374\u001b[0m \u001b[38;5;28mself\u001b[39m\u001b[38;5;241m.\u001b[39m_optimizer_step_code()\n\u001b[1;32m    376\u001b[0m \u001b[38;5;66;03m# call optimizer step post hooks\u001b[39;00m\n",
      "File \u001b[0;32m~/anaconda3/envs/mlenv/lib/python3.11/site-packages/torch/optim/optimizer.py:76\u001b[0m, in \u001b[0;36m_use_grad_for_differentiable.<locals>._use_grad\u001b[0;34m(self, *args, **kwargs)\u001b[0m\n\u001b[1;32m     74\u001b[0m     torch\u001b[38;5;241m.\u001b[39mset_grad_enabled(\u001b[38;5;28mself\u001b[39m\u001b[38;5;241m.\u001b[39mdefaults[\u001b[38;5;124m'\u001b[39m\u001b[38;5;124mdifferentiable\u001b[39m\u001b[38;5;124m'\u001b[39m])\n\u001b[1;32m     75\u001b[0m     torch\u001b[38;5;241m.\u001b[39m_dynamo\u001b[38;5;241m.\u001b[39mgraph_break()\n\u001b[0;32m---> 76\u001b[0m     ret \u001b[38;5;241m=\u001b[39m func(\u001b[38;5;28mself\u001b[39m, \u001b[38;5;241m*\u001b[39margs, \u001b[38;5;241m*\u001b[39m\u001b[38;5;241m*\u001b[39mkwargs)\n\u001b[1;32m     77\u001b[0m \u001b[38;5;28;01mfinally\u001b[39;00m:\n\u001b[1;32m     78\u001b[0m     torch\u001b[38;5;241m.\u001b[39m_dynamo\u001b[38;5;241m.\u001b[39mgraph_break()\n",
      "File \u001b[0;32m~/anaconda3/envs/mlenv/lib/python3.11/site-packages/torch/optim/sgd.py:75\u001b[0m, in \u001b[0;36mSGD.step\u001b[0;34m(self, closure)\u001b[0m\n\u001b[1;32m     71\u001b[0m momentum_buffer_list \u001b[38;5;241m=\u001b[39m []\n\u001b[1;32m     73\u001b[0m has_sparse_grad \u001b[38;5;241m=\u001b[39m \u001b[38;5;28mself\u001b[39m\u001b[38;5;241m.\u001b[39m_init_group(group, params_with_grad, d_p_list, momentum_buffer_list)\n\u001b[0;32m---> 75\u001b[0m sgd(params_with_grad,\n\u001b[1;32m     76\u001b[0m     d_p_list,\n\u001b[1;32m     77\u001b[0m     momentum_buffer_list,\n\u001b[1;32m     78\u001b[0m     weight_decay\u001b[38;5;241m=\u001b[39mgroup[\u001b[38;5;124m'\u001b[39m\u001b[38;5;124mweight_decay\u001b[39m\u001b[38;5;124m'\u001b[39m],\n\u001b[1;32m     79\u001b[0m     momentum\u001b[38;5;241m=\u001b[39mgroup[\u001b[38;5;124m'\u001b[39m\u001b[38;5;124mmomentum\u001b[39m\u001b[38;5;124m'\u001b[39m],\n\u001b[1;32m     80\u001b[0m     lr\u001b[38;5;241m=\u001b[39mgroup[\u001b[38;5;124m'\u001b[39m\u001b[38;5;124mlr\u001b[39m\u001b[38;5;124m'\u001b[39m],\n\u001b[1;32m     81\u001b[0m     dampening\u001b[38;5;241m=\u001b[39mgroup[\u001b[38;5;124m'\u001b[39m\u001b[38;5;124mdampening\u001b[39m\u001b[38;5;124m'\u001b[39m],\n\u001b[1;32m     82\u001b[0m     nesterov\u001b[38;5;241m=\u001b[39mgroup[\u001b[38;5;124m'\u001b[39m\u001b[38;5;124mnesterov\u001b[39m\u001b[38;5;124m'\u001b[39m],\n\u001b[1;32m     83\u001b[0m     maximize\u001b[38;5;241m=\u001b[39mgroup[\u001b[38;5;124m'\u001b[39m\u001b[38;5;124mmaximize\u001b[39m\u001b[38;5;124m'\u001b[39m],\n\u001b[1;32m     84\u001b[0m     has_sparse_grad\u001b[38;5;241m=\u001b[39mhas_sparse_grad,\n\u001b[1;32m     85\u001b[0m     foreach\u001b[38;5;241m=\u001b[39mgroup[\u001b[38;5;124m'\u001b[39m\u001b[38;5;124mforeach\u001b[39m\u001b[38;5;124m'\u001b[39m])\n\u001b[1;32m     87\u001b[0m \u001b[38;5;66;03m# update momentum_buffers in state\u001b[39;00m\n\u001b[1;32m     88\u001b[0m \u001b[38;5;28;01mfor\u001b[39;00m p, momentum_buffer \u001b[38;5;129;01min\u001b[39;00m \u001b[38;5;28mzip\u001b[39m(params_with_grad, momentum_buffer_list):\n",
      "File \u001b[0;32m~/anaconda3/envs/mlenv/lib/python3.11/site-packages/torch/optim/sgd.py:220\u001b[0m, in \u001b[0;36msgd\u001b[0;34m(params, d_p_list, momentum_buffer_list, has_sparse_grad, foreach, weight_decay, momentum, lr, dampening, nesterov, maximize)\u001b[0m\n\u001b[1;32m    217\u001b[0m \u001b[38;5;28;01melse\u001b[39;00m:\n\u001b[1;32m    218\u001b[0m     func \u001b[38;5;241m=\u001b[39m _single_tensor_sgd\n\u001b[0;32m--> 220\u001b[0m func(params,\n\u001b[1;32m    221\u001b[0m      d_p_list,\n\u001b[1;32m    222\u001b[0m      momentum_buffer_list,\n\u001b[1;32m    223\u001b[0m      weight_decay\u001b[38;5;241m=\u001b[39mweight_decay,\n\u001b[1;32m    224\u001b[0m      momentum\u001b[38;5;241m=\u001b[39mmomentum,\n\u001b[1;32m    225\u001b[0m      lr\u001b[38;5;241m=\u001b[39mlr,\n\u001b[1;32m    226\u001b[0m      dampening\u001b[38;5;241m=\u001b[39mdampening,\n\u001b[1;32m    227\u001b[0m      nesterov\u001b[38;5;241m=\u001b[39mnesterov,\n\u001b[1;32m    228\u001b[0m      has_sparse_grad\u001b[38;5;241m=\u001b[39mhas_sparse_grad,\n\u001b[1;32m    229\u001b[0m      maximize\u001b[38;5;241m=\u001b[39mmaximize)\n",
      "File \u001b[0;32m~/anaconda3/envs/mlenv/lib/python3.11/site-packages/torch/optim/sgd.py:256\u001b[0m, in \u001b[0;36m_single_tensor_sgd\u001b[0;34m(params, d_p_list, momentum_buffer_list, weight_decay, momentum, lr, dampening, nesterov, maximize, has_sparse_grad)\u001b[0m\n\u001b[1;32m    254\u001b[0m     momentum_buffer_list[i] \u001b[38;5;241m=\u001b[39m buf\n\u001b[1;32m    255\u001b[0m \u001b[38;5;28;01melse\u001b[39;00m:\n\u001b[0;32m--> 256\u001b[0m     buf\u001b[38;5;241m.\u001b[39mmul_(momentum)\u001b[38;5;241m.\u001b[39madd_(d_p, alpha\u001b[38;5;241m=\u001b[39m\u001b[38;5;241m1\u001b[39m \u001b[38;5;241m-\u001b[39m dampening)\n\u001b[1;32m    258\u001b[0m \u001b[38;5;28;01mif\u001b[39;00m nesterov:\n\u001b[1;32m    259\u001b[0m     d_p \u001b[38;5;241m=\u001b[39m d_p\u001b[38;5;241m.\u001b[39madd(buf, alpha\u001b[38;5;241m=\u001b[39mmomentum)\n",
      "\u001b[0;31mKeyboardInterrupt\u001b[0m: "
     ]
    }
   ],
   "source": [
    "if TRAIN_ENCODER:\n",
    "    # Start timer\n",
    "    start_time = time.time()\n",
    "    \n",
    "    train(args,Encoder,trainloader)\n",
    "    \n",
    "    # End timer\n",
    "    end_time = time.time()\n",
    "    \n",
    "    # Calculate elapsed time\n",
    "    elapsed_time = end_time - start_time\n",
    "    elapsed_time_minutes = elapsed_time / 60\n",
    "    print(f\"Elapsed time: {elapsed_time_minutes:.2f} minutes\")"
   ]
  },
  {
   "cell_type": "markdown",
   "id": "04c47136",
   "metadata": {},
   "source": [
    "## Model Evaluating"
   ]
  },
  {
   "cell_type": "code",
   "execution_count": null,
   "id": "aae63ead",
   "metadata": {},
   "outputs": [],
   "source": [
    "if EVALUATE_ENCODER:\n",
    "    # Start timer\n",
    "    start_time = time.time()\n",
    "    \n",
    "    if 'google.colab' in sys.modules:\n",
    "        load_path = \"/content/drive/MyDrive/model_weights/\"+args.uid+\"/\"\n",
    "    elif socket.gethostname() == \"dijkstra\":\n",
    "        load_path = '/data5/model_weights/'+args.uid+\"/\"\n",
    "    else:\n",
    "        load_path = \"./model_weights/\"+args.uid+\"/\"\n",
    "    \n",
    "    evaluate_NC(args,load_path,Encoder,trainloader,testloader,nearest_neighbor=True)\n",
    "    \n",
    "    # End timer\n",
    "    end_time = time.time()\n",
    "    \n",
    "    # Calculate elapsed time\n",
    "    elapsed_time = end_time - start_time\n",
    "    elapsed_time_minutes = elapsed_time / 60\n",
    "    print(f\"Elapsed time: {elapsed_time_minutes:.2f} minutes\")"
   ]
  },
  {
   "cell_type": "code",
   "execution_count": null,
   "id": "4d830143",
   "metadata": {},
   "outputs": [],
   "source": [
    "if TRAIN_ENCODER or EVALUATE_ENCODER:\n",
    "    wandb.finish()"
   ]
  },
  {
   "cell_type": "markdown",
   "id": "2750ef98",
   "metadata": {},
   "source": [
    "# Validation of Neural Collapse\n",
    "\n",
    "Neural collapse, emerged in the terminal phase of training(TPT), let us understand the behavior of a special class of neural network, deep classifier neural network. It has widely observed in a number of data set and model structures. Is has mainly 4 fold of meaning:\n",
    "\n",
    "- **(NC1)** Cross-example within-class variability of last-layer training activations collapses to zero, as the individual activations themselves collapse to their class means. \n",
    "\n",
    "- **(NC2)** The class means collapse to the vertices of a simplex equiangular tight frame (ETF). \n",
    "\n",
    "- **(NC3)** Up to rescaling, the last-layer classifiers collapse to the class means or in other words, to the simplex ETF (i.e., to a self-dual configuration). \n",
    "\n",
    "- **(NC4)** For a given activation, the classifier’s decision collapses to simply choosing whichever class has the closest train class mean (i.e., the nearest class center decision rule).\n",
    "\n",
    "Let's denote the last linear layer as, which is also known as unconstrained feature model:\n",
    "\n",
    "$$\n",
    "h = \\phi_\\theta(x) \\in R^{d \\times n}\n",
    "$$\n",
    "\n",
    "The output of the neural network as:\n",
    "\n",
    "$$\n",
    "\\Phi_\\Theta(x) = W_Lh+b_L\n",
    "$$\n",
    "\n",
    "Denote $N = nk, H = [h_{1,1},..., h_{k,n}] \\in R^{d \\times N}$, so that the last layer can be written as $R^d \\rightarrow R^k$. Also, let's denote the within-class and between-class covariance matrices as $\\Sigma_W$ and $\\Sigma_B$.\n",
    "\n",
    "In general, neural collapse can be written in summary as:\n",
    "\n",
    "$$\n",
    "\\Sigma_W \\rightarrow 0, \\\\\n",
    "H \\rightarrow \\bar{H} \\rightarrow ETF, W \\rightarrow \\bar{H}\n",
    "$$\n",
    "\n",
    "We can measure the NC in 4 metrics:\n",
    "\n",
    "$$\n",
    "NC_1:=\\frac{1}{K}trace(\\Sigma_W\\Sigma_B^{+})\\\\\n",
    "NC_2:= ||\\frac{WW^T}{||WW^T||_F}-\\frac{1}{\\sqrt{K-1}} (I_K - \\frac{1}{K}1_K1_K^T)||_F\\\\\n",
    "NC_3:= ||\\frac{W\\bar{H}^T}{||W\\bar{H}^T||_F}-\\frac{1}{\\sqrt{K-1}} (I_K - \\frac{1}{K}1_K1_K^T)||_F\\\\\n",
    "NC_4:=||b+Wh_G||_2\n",
    "$$\n",
    "\n",
    "The $NC_4$ follows the simplified rule: $Wh_{k,i}+b = W(h_{k,i} - h_G) + Wh_G +b$, and $Wh_G +b$ should be 0 in the TPT.\n",
    "\n",
    "## Find the ETF center\n",
    "\n",
    "Let's introduce the global mean and class mean of the last-layer features ${h_{k,i}}$ as:\n",
    "\n",
    "$$\n",
    "h_G = \\frac{1}{nK}\\sum^{K}_{k=1}\\sum^{n}_{i=1}h_{k,i}, \\ \\bar{h_k} = \\frac{1}{n}\\sum_{i=1}^{n}h_{k,i}(1\\leq k \\leq K)\n",
    "$$\n",
    "\n",
    "The ETF center of the last layer features, or the centered class-mean matrix,: $\\bar{H} = [\\bar{h_{1}} - h_G,..., \\bar{h_{K}} - h_G]$. \n",
    "\n",
    "\n",
    "## Visualization of K-ETF\n",
    "\n",
    "A (K-Simplex ETF) is a collection of points in $R^K$ specified by the columns of:\n",
    "\n",
    "$$\n",
    "M = \\sqrt\\frac{K}{K-1} (I_K - \\frac{1}{K}1_K1_K^T)\n",
    "$$\n",
    "\n",
    "where $I_K \\in R^{K \\times K}$ is the identity matrix, and 1K ∈ RK is the all ones vector. In the other words, we also have\n",
    "\n",
    "$$\n",
    "M^TM = MM^T =\\frac{K}{K − 1}(I_K −\\frac{1}{K}1_K1_K^T)\n",
    "$$\n",
    "\n",
    "However, the learned features of neural network is often up to some scaling and rotation, thus we consider the general ETF as a collection of points in $R^d$ specified by the columns of $\\sqrt\\frac{K}{K-1} P (I_K −\\frac{1}{K}1_K1_K^T)$, where $P \\in R{d \\times K} (d \\leq K)$ is a orthonormal matrix, i.e., $P^TP = I_K$.\n",
    "\n",
    "### Further Explaination\n",
    "\n",
    "The neural collapse shows that as training proceeds, last-layer features $H$ collapse onto their class means ($NC1$), class means converge to the vertices of the simplex ETF ($NC2$), and the linear classifiers $W$ approach their corresponding class means ($NC3$). \n",
    "\n",
    "In the collapse stage, the $NC2$ says that the class-means centered at their global means form a Simplex Equiangular Tight Frame - or Simplex ETF. More specifically, the weigths matrix $W^{*T} \\in R^{d \\times d}$ with $U^TU = I_d$, the normalised matrix $M:=\\frac{1}{w^*}UW^{*T}$\n",
    "\n",
    "$$\n",
    "M^TM = \\frac{K}{K-1} (I_K - \\frac{1}{K}1_K1_K^T)\n",
    "$$\n",
    "\n",
    "Depending on whether to fix the output dimension, we will get shapeful $W \\in R^{k \\times d}$ and $H \\in R^{d \\times N}$. The dimension of bias in the last linear layer is always fixed at $b \\in R^{k \\times N}$. Define $N=nk$ and k is the number of classes and n is the number of images (input data) in each class.\n",
    "\n",
    "If we fixed the $W$, it is easy to show that the class means will converge to a standard K-ETF."
   ]
  },
  {
   "cell_type": "code",
   "execution_count": null,
   "id": "d42c0c1d",
   "metadata": {},
   "outputs": [],
   "source": [
    "def k_etf(K=10):\n",
    "    constant = torch.sqrt(torch.tensor(K/(K-1)))\n",
    "    ETF = (torch.eye(K)-(1/K)*torch.ones((K, K)))\n",
    "    return constant*ETF\n",
    "\n",
    "def k_etf_normalize(etf):\n",
    "    K = etf.shape[1]\n",
    "    norm = torch.sqrt((1/K*torch.norm(etf, 'fro')**2))\n",
    "    return etf/norm\n",
    "\n",
    "def k_etf_colunm_norm(etf):\n",
    "    return torch.sqrt(torch.sum(torch.square(etf), axis=0))"
   ]
  },
  {
   "cell_type": "code",
   "execution_count": null,
   "id": "b74772bb",
   "metadata": {},
   "outputs": [
    {
     "name": "stdout",
     "output_type": "stream",
     "text": [
      "tensor([[ 0.9487, -0.1054, -0.1054, -0.1054, -0.1054, -0.1054, -0.1054, -0.1054,\n",
      "         -0.1054, -0.1054],\n",
      "        [-0.1054,  0.9487, -0.1054, -0.1054, -0.1054, -0.1054, -0.1054, -0.1054,\n",
      "         -0.1054, -0.1054],\n",
      "        [-0.1054, -0.1054,  0.9487, -0.1054, -0.1054, -0.1054, -0.1054, -0.1054,\n",
      "         -0.1054, -0.1054],\n",
      "        [-0.1054, -0.1054, -0.1054,  0.9487, -0.1054, -0.1054, -0.1054, -0.1054,\n",
      "         -0.1054, -0.1054],\n",
      "        [-0.1054, -0.1054, -0.1054, -0.1054,  0.9487, -0.1054, -0.1054, -0.1054,\n",
      "         -0.1054, -0.1054],\n",
      "        [-0.1054, -0.1054, -0.1054, -0.1054, -0.1054,  0.9487, -0.1054, -0.1054,\n",
      "         -0.1054, -0.1054],\n",
      "        [-0.1054, -0.1054, -0.1054, -0.1054, -0.1054, -0.1054,  0.9487, -0.1054,\n",
      "         -0.1054, -0.1054],\n",
      "        [-0.1054, -0.1054, -0.1054, -0.1054, -0.1054, -0.1054, -0.1054,  0.9487,\n",
      "         -0.1054, -0.1054],\n",
      "        [-0.1054, -0.1054, -0.1054, -0.1054, -0.1054, -0.1054, -0.1054, -0.1054,\n",
      "          0.9487, -0.1054],\n",
      "        [-0.1054, -0.1054, -0.1054, -0.1054, -0.1054, -0.1054, -0.1054, -0.1054,\n",
      "         -0.1054,  0.9487]])\n",
      "tensor([1.0000, 1.0000, 1.0000, 1.0000, 1.0000, 1.0000, 1.0000, 1.0000, 1.0000,\n",
      "        1.0000])\n"
     ]
    }
   ],
   "source": [
    "print(k_etf(K=10))\n",
    "\n",
    "print(k_etf_colunm_norm(k_etf_normalize(k_etf(K=10))))"
   ]
  },
  {
   "cell_type": "code",
   "execution_count": null,
   "id": "54006323",
   "metadata": {},
   "outputs": [
    {
     "data": {
      "image/png": "[encoded data removed]",
      "text/plain": [
       "<Figure size 1000x800 with 1 Axes>"
      ]
     },
     "metadata": {},
     "output_type": "display_data"
    }
   ],
   "source": [
    "# Step 1: Generate the ETF matrix (as a PyTorch tensor)\n",
    "simplex_vertices = k_etf(3)\n",
    "\n",
    "# Step 2: Calculate the ETF center with PyTorch\n",
    "etf_center = torch.mean(simplex_vertices, dim=0)\n",
    "\n",
    "# Step 3: Plotting\n",
    "fig = plt.figure(figsize=(10, 8))\n",
    "ax = fig.add_subplot(111, projection='3d')\n",
    "\n",
    "# Convert PyTorch tensors to numpy arrays for plotting\n",
    "simplex_vertices_np = simplex_vertices.numpy()\n",
    "etf_center_np = etf_center.numpy()\n",
    "\n",
    "# Plotting simplex ETF vertices\n",
    "ax.scatter(simplex_vertices_np[:, 0], simplex_vertices_np[:, 1], simplex_vertices_np[:, 2], color='green', s=100, marker='o', label='Simplex ETF Vertex')\n",
    "\n",
    "# Plotting the ETF center\n",
    "ax.scatter(etf_center_np[0], etf_center_np[1], etf_center_np[2], color='red', s=100, marker='*', label='ETF Center')\n",
    "\n",
    "# Drawing lines from each vertex to the ETF center\n",
    "for vertex in simplex_vertices_np:\n",
    "    ax.plot([vertex[0], etf_center_np[0]], [vertex[1], etf_center_np[1]], [vertex[2], etf_center_np[2]], 'k--')\n",
    "\n",
    "# Labels and legend\n",
    "ax.set_xlabel('Feature Dimension 1')\n",
    "ax.set_ylabel('Feature Dimension 2')\n",
    "ax.set_zlabel('Feature Dimension 3')\n",
    "plt.title('3D Visualization of ETF with Center')\n",
    "ax.legend()\n",
    "\n",
    "plt.show()"
   ]
  },
  {
   "cell_type": "markdown",
   "id": "b7389593",
   "metadata": {},
   "source": [
    "## Analysis of Features\n",
    "\n",
    "The improved neural network design shows us that we can fix the weight matrix $W$ as standard K-ETF and set the feature dimension $d$ equal to $k$, the number of class. We can plot this ETF and see if it matches."
   ]
  },
  {
   "cell_type": "code",
   "execution_count": null,
   "id": "4dadeb20",
   "metadata": {},
   "outputs": [
    {
     "name": "stdout",
     "output_type": "stream",
     "text": [
      "--------------------- Evaluating -------------------------------\n",
      "W is Parameter containing:\n",
      "tensor([[ 0.9487, -0.1054, -0.1054,  ...,  0.0000,  0.0000,  0.0000],\n",
      "        [-0.1054,  0.9487, -0.1054,  ...,  0.0000,  0.0000,  0.0000],\n",
      "        [-0.1054, -0.1054,  0.9487,  ...,  0.0000,  0.0000,  0.0000],\n",
      "        ...,\n",
      "        [-0.1054, -0.1054, -0.1054,  ...,  0.0000,  0.0000,  0.0000],\n",
      "        [-0.1054, -0.1054, -0.1054,  ...,  0.0000,  0.0000,  0.0000],\n",
      "        [-0.1054, -0.1054, -0.1054,  ...,  0.0000,  0.0000,  0.0000]],\n",
      "       device='cuda:0')\n",
      "The shape of our weigths in this epochs is  torch.Size([10, 512])\n"
     ]
    }
   ],
   "source": [
    "if 'google.colab' in sys.modules:\n",
    "    load_path = \"/content/drive/MyDrive/model_weights/\"+args.uid+\"/\"\n",
    "elif socket.gethostname() == \"dijkstra\":\n",
    "    load_path = '/data5/model_weights/'+args.uid+\"/\"\n",
    "else:\n",
    "    load_path = \"./model_weights/\"+args.uid+\"/\"\n",
    "\n",
    "Encoder = Encoder.to(device)\n",
    "\n",
    "fc_features = FCFeatures()\n",
    "Encoder.fc.register_forward_pre_hook(fc_features)\n",
    "\n",
    "print('--------------------- Evaluating -------------------------------')\n",
    "\n",
    "### investigate a specific epochs\n",
    "i = ENCODER_STATE_DICT_NUMBER\n",
    "###\n",
    "\n",
    "map_location=torch.device(args.device)\n",
    "if LOAD_ENCODER_STATE_DICT:\n",
    "    Encoder.load_state_dict(torch.load(load_path + 'epoch_' + str(i + 1).zfill(3) + '.pth',map_location=map_location))\n",
    "\n",
    "Encoder.eval()\n",
    "\n",
    "for n, p in Encoder.named_parameters():\n",
    "    if 'fc.weight' in n:\n",
    "        W = p\n",
    "    if 'fc.bias' in n:\n",
    "        b = p\n",
    "        \n",
    "W = W.to(device)\n",
    "b = b.to(device)\n",
    "\n",
    "print(\"W is\", W)\n",
    "print(\"The shape of our weigths in this epochs is \", W.shape)"
   ]
  },
  {
   "cell_type": "code",
   "execution_count": null,
   "id": "8a1ce9ce",
   "metadata": {},
   "outputs": [
    {
     "name": "stdout",
     "output_type": "stream",
     "text": [
      "[epoch: 200] | train top1: 99.9980 | train top5: 99.9980 | test top1: 76.6800 | test top5: 97.2400 \n",
      "H is tensor([[ 8.6549, -0.9649, -0.9396,  ..., -1.0166, -0.9051, -0.9695],\n",
      "        [-0.9307,  8.5399, -0.9852,  ..., -0.9276, -0.8845, -0.9215],\n",
      "        [-0.9381, -1.0056,  8.4115,  ..., -0.9495, -0.8998, -0.9769],\n",
      "        ...,\n",
      "        [ 0.3613, -0.1353,  0.2439,  ..., -0.1354,  0.1550, -0.1363],\n",
      "        [-0.0786,  0.1021,  0.1467,  ...,  0.0201, -0.0957, -0.0962],\n",
      "        [ 0.0094,  0.0212, -0.0735,  ..., -0.0265,  0.1199,  0.0257]],\n",
      "       device='cuda:0')\n",
      "tensor([[ 0.9108, -0.1015, -0.0989,  ..., -0.1070, -0.0952, -0.1020],\n",
      "        [-0.0979,  0.8987, -0.1037,  ..., -0.0976, -0.0931, -0.0970],\n",
      "        [-0.0987, -0.1058,  0.8852,  ..., -0.0999, -0.0947, -0.1028],\n",
      "        ...,\n",
      "        [ 0.0380, -0.0142,  0.0257,  ..., -0.0143,  0.0163, -0.0143],\n",
      "        [-0.0083,  0.0107,  0.0154,  ...,  0.0021, -0.0101, -0.0101],\n",
      "        [ 0.0010,  0.0022, -0.0077,  ..., -0.0028,  0.0126,  0.0027]],\n",
      "       device='cuda:0')\n",
      "the colmun norm of unnormalised centered features is  tensor([ 9.5376,  9.4054,  9.1896,  9.1133,  9.2374,  9.5139,  9.7843, 10.2371,\n",
      "         9.6750,  9.2769], device='cuda:0')\n",
      "the colmun norm of normalised centered features is  tensor([1.0037, 0.9898, 0.9671, 0.9590, 0.9721, 1.0012, 1.0297, 1.0773, 1.0182,\n",
      "        0.9763], device='cuda:0')\n"
     ]
    }
   ],
   "source": [
    "mu_G_train, mu_c_dict_train, train_acc1, train_acc5 = compute_info(args, Encoder, fc_features, trainloader, isTrain=True)\n",
    "mu_G_test, mu_c_dict_test, test_acc1, test_acc5 = compute_info(args, Encoder, fc_features, testloader, isTrain=False)\n",
    "print('[epoch: %d] | train top1: %.4f | train top5: %.4f | test top1: %.4f | test top5: %.4f ' %\n",
    "      (i + 1, train_acc1, train_acc5, test_acc1, test_acc5))\n",
    "\n",
    "_, H = compute_W_H_relation(W, mu_c_dict_train, mu_G_train)\n",
    "\n",
    "print(\"H is\", H)\n",
    "print(k_etf_normalize(H))\n",
    "print(\"the colmun norm of unnormalised centered features is \", k_etf_colunm_norm(H))\n",
    "print(\"the colmun norm of normalised centered features is \",k_etf_colunm_norm(k_etf_normalize(H)))"
   ]
  },
  {
   "cell_type": "code",
   "execution_count": null,
   "id": "8649d7e3-29cc-439a-8535-99093d37e41a",
   "metadata": {},
   "outputs": [
    {
     "name": "stdout",
     "output_type": "stream",
     "text": [
      "H is tensor([[-0.1157, -0.1106, -0.0549,  0.0652,  0.2706, -0.0517,  0.0066,  0.2208,\n",
      "         -0.1167, -0.1136],\n",
      "        [ 0.0129,  0.2191, -0.0118, -0.1013,  0.0242, -0.0896,  0.0893, -0.0893,\n",
      "          0.0507, -0.1042],\n",
      "        [-0.0910,  0.1168, -0.0366, -0.0162, -0.0700, -0.0894, -0.0620, -0.0318,\n",
      "          0.0795,  0.2007],\n",
      "        [ 0.1846, -0.0622,  0.0725, -0.0721, -0.0526,  0.0062, -0.0050, -0.0858,\n",
      "         -0.0855,  0.0999],\n",
      "        [-0.1175, -0.0134, -0.0561, -0.1057,  0.0933, -0.1176, -0.0329,  0.0437,\n",
      "         -0.1124,  0.4185]], device='cuda:0')\n"
     ]
    }
   ],
   "source": [
    "print(\"H is\", H[10:15,0:10])"
   ]
  },
  {
   "cell_type": "code",
   "execution_count": null,
   "id": "cf3327dc-08df-4211-ae77-fa8227aa98d6",
   "metadata": {},
   "outputs": [
    {
     "data": {
      "text/plain": [
       "(76.77, 97.61)"
      ]
     },
     "execution_count": 213,
     "metadata": {},
     "output_type": "execute_result"
    }
   ],
   "source": [
    "compute_nearest_neighbor(args, Encoder, fc_features, H, testloader)"
   ]
  },
  {
   "cell_type": "code",
   "execution_count": null,
   "id": "7b5cfbd4",
   "metadata": {},
   "outputs": [
    {
     "name": "stdout",
     "output_type": "stream",
     "text": [
      "tensor([[ 6.5014, -0.7855, -0.3870,  ..., -0.8826, -0.3754, -0.6086],\n",
      "        [-0.7494,  7.0164, -0.9465,  ..., -0.9161, -0.6252, -0.0172],\n",
      "        [-0.4703, -0.9051,  5.1641,  ..., -0.6940, -0.7027, -0.8611],\n",
      "        ...,\n",
      "        [ 0.2929, -0.1124,  0.1556,  ..., -0.1097,  0.1546, -0.1078],\n",
      "        [-0.0561,  0.0741,  0.0717,  ...,  0.0226, -0.0790, -0.0771],\n",
      "        [ 0.0175,  0.0190, -0.0488,  ..., -0.0228,  0.0987,  0.0221]],\n",
      "       device='cuda:0')\n",
      "tensor([[ 0.9449, -0.1142, -0.0562,  ..., -0.1283, -0.0546, -0.0885],\n",
      "        [-0.1089,  1.0198, -0.1376,  ..., -0.1331, -0.0909, -0.0025],\n",
      "        [-0.0683, -0.1315,  0.7505,  ..., -0.1009, -0.1021, -0.1252],\n",
      "        ...,\n",
      "        [ 0.0426, -0.0163,  0.0226,  ..., -0.0159,  0.0225, -0.0157],\n",
      "        [-0.0082,  0.0108,  0.0104,  ...,  0.0033, -0.0115, -0.0112],\n",
      "        [ 0.0025,  0.0028, -0.0071,  ..., -0.0033,  0.0144,  0.0032]],\n",
      "       device='cuda:0')\n",
      "the colmun norm of unnormalised centered features is  tensor([7.2021, 7.7830, 5.7195, 4.7489, 6.0012, 5.8299, 7.7430, 7.8484, 7.9592,\n",
      "        7.1273], device='cuda:0')\n",
      "the colmun norm of normalised centered features is  tensor([1.0467, 1.1312, 0.8313, 0.6902, 0.8722, 0.8473, 1.1254, 1.1407, 1.1568,\n",
      "        1.0359], device='cuda:0')\n"
     ]
    }
   ],
   "source": [
    "_, H_test = compute_W_H_relation(W, mu_c_dict_test, mu_G_test)\n",
    "print(H_test)\n",
    "print(k_etf_normalize(H_test))\n",
    "print(\"the colmun norm of unnormalised centered features is \", k_etf_colunm_norm(H_test))\n",
    "print(\"the colmun norm of normalised centered features is \",k_etf_colunm_norm(k_etf_normalize(H_test)))"
   ]
  },
  {
   "cell_type": "code",
   "execution_count": null,
   "id": "017a45bc-3b94-48e7-8166-5ee53674be98",
   "metadata": {},
   "outputs": [
    {
     "data": {
      "text/plain": [
       "(76.9, 97.47)"
      ]
     },
     "execution_count": 215,
     "metadata": {},
     "output_type": "execute_result"
    }
   ],
   "source": [
    "compute_nearest_neighbor(args, Encoder, fc_features, H_test, testloader)"
   ]
  },
  {
   "cell_type": "markdown",
   "id": "e47f6d1f",
   "metadata": {},
   "source": [
    "# Data Distillation by Autoencoder"
   ]
  },
  {
   "cell_type": "code",
   "execution_count": null,
   "id": "5809fbf0",
   "metadata": {},
   "outputs": [],
   "source": [
    "# architecture params\n",
    "decoder='resnet18'\n",
    "bias=True\n",
    "ETF_fc=True\n",
    "fixdim=0\n",
    "SOTA=False\n",
    "\n",
    "# MLP settings (only when using mlp and res_adapt(in which case only width has effect))\n",
    "width=1024\n",
    "depth=6\n",
    "\n",
    "# hardware settings\n",
    "gpu_id=0\n",
    "seed=6\n",
    "use_cudnn=True\n",
    "\n",
    "# dataset\n",
    "dataset='cifar10'\n",
    "data_dir='~/data'\n",
    "uid=\"Resnet18-design(high)-SGD-normalize-decoder\"\n",
    "force=True\n",
    "\n",
    "# learning options\n",
    "epochs = 200\n",
    "batch_size = 128\n",
    "loss = 'MSE'\n",
    "sample_size = None\n",
    "\n",
    "# optimization (change for autoencoder)\n",
    "lr=0.05\n",
    "patience = 40\n",
    "history_size=10\n",
    "optimizer = \"SGD\"\n",
    "\n",
    "## Check the best device on machine\n",
    "check = False"
   ]
  },
  {
   "cell_type": "code",
   "execution_count": null,
   "id": "f72901ae-7447-49b5-8224-c8e41bba8657",
   "metadata": {},
   "outputs": [
    {
     "name": "stdout",
     "output_type": "stream",
     "text": [
      "Using device: cuda:0, NVIDIA TITAN V\n"
     ]
    }
   ],
   "source": [
    "if torch.cuda.is_available():\n",
    "    device = torch.device(\"cuda:\"+str(gpu_id))\n",
    "    device_name = torch.cuda.get_device_name(gpu_id)\n",
    "    # \n",
    "    torch.cuda.empty_cache()\n",
    "    if check:\n",
    "        torch.cuda.memory_allocated()\n",
    "elif torch.backends.mps.is_available():\n",
    "    device = torch.device(\"mps\")\n",
    "    device_name = \"Apple Silicon GPU\"\n",
    "else:\n",
    "    device = torch.device(\"cpu\")\n",
    "    device_name = \"CPU\"\n",
    "\n",
    "print(f\"Using device: {device}, {device_name}\")"
   ]
  },
  {
   "cell_type": "code",
   "execution_count": null,
   "id": "90779fb9",
   "metadata": {},
   "outputs": [
    {
     "name": "stdout",
     "output_type": "stream",
     "text": [
      "override this uidResnet18-design(high)-SGD-normalize-decoder\n",
      "<arg_loader.train_args object at 0x7fe94ec53c90>\n",
      "cudnn is used\n"
     ]
    }
   ],
   "source": [
    "auto_args = train_args(model=decoder,bias=bias,ETF_fc=ETF_fc,fixdim=fixdim,SOTA=SOTA,\n",
    "                  width=width,depth=depth,\n",
    "                  gpu_id=gpu_id,seed=seed,use_cudnn=use_cudnn,\n",
    "                  dataset=dataset,data_dir=data_dir,uid=uid,force=force,\n",
    "                  epochs=epochs,batch_size = batch_size,loss = loss,sample_size=sample_size,\n",
    "                  lr = lr,optimizer=optimizer, patience = patience,\n",
    "                  device = device)"
   ]
  },
  {
   "cell_type": "code",
   "execution_count": null,
   "id": "bd11dbba",
   "metadata": {},
   "outputs": [
    {
     "name": "stdout",
     "output_type": "stream",
     "text": [
      "<class 'models.resnet_decode.ResNet'>\n"
     ]
    }
   ],
   "source": [
    "if auto_args.model == \"MLP\":\n",
    "    Decoder = models.__dict__[args.model](hidden = auto_args.width, depth = auto_args.depth, fc_bias=auto_args.bias, num_classes=num_classes).to(auto_args.device)\n",
    "elif auto_args.model == \"ResNet18_adapt\":\n",
    "    Decoder = ResNet18_adapt(width = auto_args.width, num_classes=num_classes, fc_bias=auto_args.bias).to(auto_args.device)\n",
    "else:\n",
    "    Decoder = resnet_decode.__dict__[auto_args.model](num_classes=num_classes, fixdim=auto_args.fixdim, SOTA=auto_args.SOTA).to(auto_args.device)\n",
    "\n",
    "print(type(Decoder))"
   ]
  },
  {
   "cell_type": "code",
   "execution_count": null,
   "id": "3583b0cd",
   "metadata": {},
   "outputs": [],
   "source": [
    "# batch_size = 64\n",
    "# channels = 10\n",
    "# height = 1\n",
    "# width = 1\n",
    "\n",
    "# # Creating a dummy tensor\n",
    "# x_original = torch.randn(batch_size, channels, height, width).to(device)\n",
    "# print(x_original.shape)\n",
    "# print(x_original.device)\n",
    "\n",
    "\n",
    "# Decoder(x_original)"
   ]
  },
  {
   "cell_type": "code",
   "execution_count": null,
   "id": "1306ea91-32ad-40f5-9633-37ff7c66b984",
   "metadata": {},
   "outputs": [],
   "source": [
    "# summary(Decoder.to(\"cpu\"), input_size=(10, 1, 1), device = \"cpu\")"
   ]
  },
  {
   "cell_type": "code",
   "execution_count": null,
   "id": "6fcd3104",
   "metadata": {},
   "outputs": [],
   "source": [
    "# for dname, dparameter in decoder.named_parameters():\n",
    "#     print(f\"{dname}: {dparameter.numel()} parameters\")"
   ]
  },
  {
   "cell_type": "code",
   "execution_count": null,
   "id": "13ec6359",
   "metadata": {},
   "outputs": [],
   "source": [
    "from models.AE import Autoencoder"
   ]
  },
  {
   "cell_type": "code",
   "execution_count": null,
   "id": "7386d0da",
   "metadata": {},
   "outputs": [],
   "source": [
    "autoencoder = Autoencoder(Encoder,Decoder)"
   ]
  },
  {
   "cell_type": "code",
   "execution_count": null,
   "id": "58c1ddc0-a100-4005-9566-d143a8401c39",
   "metadata": {},
   "outputs": [
    {
     "name": "stdout",
     "output_type": "stream",
     "text": [
      "# of model parameters: 11473670\n",
      "<class 'models.AE.Autoencoder'>\n"
     ]
    }
   ],
   "source": [
    "if FREEZE_ENCODER:\n",
    "    autoencoder.freeze_encoder()\n",
    "autoencoder.unfreeze_decoder()\n",
    "print('# of model parameters: ' + str(count_network_parameters(autoencoder)))\n",
    "print(type(autoencoder))"
   ]
  },
  {
   "cell_type": "markdown",
   "id": "cf8f38cd-839a-464d-8fa9-1d5fdda81961",
   "metadata": {},
   "source": [
    "## Create experiments on weights&biases"
   ]
  },
  {
   "cell_type": "code",
   "execution_count": null,
   "id": "febdc6ff",
   "metadata": {},
   "outputs": [],
   "source": [
    "from train_AE import AE_train"
   ]
  },
  {
   "cell_type": "code",
   "execution_count": null,
   "id": "c5cc649f",
   "metadata": {},
   "outputs": [],
   "source": [
    "if TRAIN_AE:\n",
    "    config = {\n",
    "        # architecture params\n",
    "        \"model\":decoder,\n",
    "        \"bias\": bias,\n",
    "        \"ETF_fc\":ETF_fc,\n",
    "        \"fixdim\":fixdim,\n",
    "        \"SOTA\":SOTA,\n",
    "        \n",
    "        # MLP settings (only when using mlp and res_adapt(in which case only width has effect))\n",
    "        \"width\":width,\n",
    "        \"depth\":depth,\n",
    "        \n",
    "        # hardware settings\n",
    "        \"gpu_id\":gpu_id,\n",
    "        \"seed\":seed,\n",
    "        \"use_cudnn\":use_cudnn,\n",
    "        \n",
    "        # dataset\n",
    "        \"dataset\":dataset,\n",
    "        \"data_dir\":data_dir,\n",
    "        \"uid\":uid,\n",
    "        \"encoder_uid\": args.uid,\n",
    "        \"force\":force,\n",
    "        \n",
    "        # learning options\n",
    "        \"epochs\": epochs,\n",
    "        \"batch_size\":batch_size,\n",
    "        \"loss\": loss,\n",
    "        \"sample_size\": sample_size,\n",
    "        \n",
    "        # optimization\n",
    "        \"lr\":lr,\n",
    "        \"optimizer\":optimizer,\n",
    "        \"device\" :device\n",
    "    }\n",
    "    \n",
    "    run = wandb.init(\n",
    "        project=\"DD&NC\",\n",
    "        notes=\"Undesigned Autoencoder\",\n",
    "        tags=[\"Epochs: 200\",\"Resnet18\",\"Adam\",\"cifar10\",\"SOTA\"],\n",
    "        config= config\n",
    "    )"
   ]
  },
  {
   "cell_type": "code",
   "execution_count": null,
   "id": "0e509aef",
   "metadata": {},
   "outputs": [],
   "source": [
    "if TRAIN_AE:\n",
    "    # Start timer\n",
    "    start_time = time.time()\n",
    "    \n",
    "    AE_train(auto_args,autoencoder,trainloader,visualize=True)\n",
    "    \n",
    "    # End timer\n",
    "    end_time = time.time()\n",
    "    \n",
    "    # Calculate elapsed time\n",
    "    elapsed_time = end_time - start_time\n",
    "    elapsed_time_minutes = elapsed_time / 60\n",
    "    print(f\"Elapsed time: {elapsed_time_minutes:.2f} minutes\")"
   ]
  },
  {
   "cell_type": "code",
   "execution_count": null,
   "id": "5357a1c0-6314-40eb-8f39-726dd198c952",
   "metadata": {},
   "outputs": [],
   "source": [
    "if TRAIN_AE:\n",
    "    wandb.finish()"
   ]
  },
  {
   "cell_type": "code",
   "execution_count": null,
   "id": "22e38b89-b7ae-48ad-ab60-a69d9762d0d3",
   "metadata": {},
   "outputs": [],
   "source": [
    "# # image, label = next(int(trainloader))\n",
    "# # image, label = image.to(device), label\n",
    "# images = images.to(device)\n",
    "# out_image = autoencoder(images)\n",
    "# print(out_image[0])\n",
    "# print(images[0])\n"
   ]
  },
  {
   "cell_type": "code",
   "execution_count": null,
   "id": "f137c77e-1257-4b6b-b2ea-6934eb25fc37",
   "metadata": {},
   "outputs": [],
   "source": [
    "# from Visualization import *\n",
    "# image_s, label_s = images_from_index(trainloader.dataset, [9,10])\n",
    "# visualize_images(image_s, label_s,normalize_data=True)\n",
    "# image_s = image_s.to(device)\n",
    "# with torch.no_grad():\n",
    "#     outimage_s = autoencoder(image_s)\n",
    "# visualize_images(outimage_s.cpu(), label_s,normalize_data=True)\n",
    "# print(torch.min(image_s), torch.max(image_s))\n",
    "# print(torch.min(outimage_s), torch.max(outimage_s))\n",
    "# print(torch.mean(image_s))\n",
    "# print(torch.mean(outimage_s))"
   ]
  },
  {
   "cell_type": "markdown",
   "id": "058f1746-88f7-4984-a578-ff9f54ce2ce8",
   "metadata": {},
   "source": [
    "## Generate distilled images"
   ]
  },
  {
   "cell_type": "code",
   "execution_count": null,
   "id": "8c16f2ae-6f03-432d-aa50-9a272603fbba",
   "metadata": {},
   "outputs": [
    {
     "name": "stdout",
     "output_type": "stream",
     "text": [
      "--------------------- Evaluating -------------------------------\n",
      "torch.Size([512, 10])\n"
     ]
    }
   ],
   "source": [
    "if 'google.colab' in sys.modules:\n",
    "    load_path = \"/content/drive/MyDrive/model_weights/\"+auto_args.uid+\"/\"\n",
    "elif socket.gethostname() == \"dijkstra\":\n",
    "    load_path = '/data5/model_weights/'+auto_args.uid+\"/\"\n",
    "else:\n",
    "    load_path = \"./model_weights/\"+auto_args.uid+\"/\"\n",
    "\n",
    "Decoder = Decoder.to(device)\n",
    "\n",
    "print('--------------------- Evaluating -------------------------------')\n",
    "\n",
    "### investigate a specific epochs\n",
    "i = DECODER_STATE_DICT_NUMBER\n",
    "###\n",
    "\n",
    "map_location=torch.device(args.device)\n",
    "if LOAD_DECODER_STATE_DICT:\n",
    "    Decoder.load_state_dict(torch.load(load_path + 'epoch_' + str(i + 1).zfill(3) + '.pth',map_location=map_location))\n",
    "\n",
    "print(H.shape)\n",
    "\n",
    "with torch.no_grad():\n",
    "    outputs = Decoder(torch.transpose(H, 0, 1))"
   ]
  },
  {
   "cell_type": "code",
   "execution_count": null,
   "id": "6e38f26f-c464-4e6c-82f3-13ae7c8203d9",
   "metadata": {},
   "outputs": [
    {
     "data": {
      "image/png": "[encoded data removed]",
      "text/plain": [
       "<Figure size 2000x200 with 10 Axes>"
      ]
     },
     "metadata": {},
     "output_type": "display_data"
    }
   ],
   "source": [
    "visualize_images(outputs.cpu(), labels)\n",
    "\n",
    "## To-do list:\n",
    "## Write a function that find each ETF center label\n",
    "## Lexing thinks that the 512 dimension might be too large\n",
    "## "
   ]
  }
 ],
 "metadata": {
  "kernelspec": {
   "display_name": "Python 3 (ipykernel)",
   "language": "python",
   "name": "python3"
  },
  "language_info": {
   "codemirror_mode": {
    "name": "ipython",
    "version": 3
   },
   "file_extension": ".py",
   "mimetype": "text/x-python",
   "name": "python",
   "nbconvert_exporter": "python",
   "pygments_lexer": "ipython3",
   "version": "3.11.5"
  }
 },
 "nbformat": 4,
 "nbformat_minor": 5
}
