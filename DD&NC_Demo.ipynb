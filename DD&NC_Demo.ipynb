{
 "cells": [
  {
   "cell_type": "markdown",
   "id": "bffe843d",
   "metadata": {},
   "source": [
    "# Neural Collapse and Data Distillatioin"
   ]
  },
  {
   "cell_type": "markdown",
   "id": "56a3ad8e",
   "metadata": {},
   "source": [
    "This notebook implements data distillation with neural collapse by only one step. The main papers considered here are https://github.com/SsnL/dataset-distillation and https://github.com/tding1/Neural-Collapse. The neural network is firstly trained to its terminal phase and then distills synthesized data as introduced. Below we configure our path to the dataset distillation packages from https://github.com/SsnL/dataset-distillation."
   ]
  },
  {
   "cell_type": "markdown",
   "id": "f311a3b7",
   "metadata": {},
   "source": [
    "# Import"
   ]
  },
  {
   "cell_type": "code",
   "execution_count": 1,
   "id": "aef9b531",
   "metadata": {},
   "outputs": [],
   "source": [
    "import sys\n",
    "if 'google.colab' in sys.modules:\n",
    "    from google.colab import drive\n",
    "    drive.mount('/content/drive')\n",
    "    %cd /content/drive/My Drive/\n",
    "    !git clone https://github.com/SzYang721/DD-NC.git\n",
    "    %cd /content/drive/My Drive/DD-NC\n",
    "    !git config --global user.email \"yangsongze2008@gmail.com\"\n",
    "    !git config --global user.name \"SzYang721\"\n",
    "    sys.path.append('/content/drive/My Drive/DD-NC/')\n",
    "    sys.path.append('/content/drive/My Drive/model_weights/')\n",
    "    print(\"Environment setup complete.\")"
   ]
  },
  {
   "cell_type": "code",
   "execution_count": 2,
   "id": "e1fc6b6b",
   "metadata": {},
   "outputs": [
    {
     "name": "stderr",
     "output_type": "stream",
     "text": [
      "Failed to detect the name of this notebook, you can set it manually with the WANDB_NOTEBOOK_NAME environment variable to enable code saving.\n",
      "\u001b[34m\u001b[1mwandb\u001b[0m: Currently logged in as: \u001b[33myangsongze2008\u001b[0m (\u001b[33mdata-distillation-with-nc\u001b[0m). Use \u001b[1m`wandb login --relogin`\u001b[0m to force relogin\n"
     ]
    },
    {
     "data": {
      "text/plain": [
       "True"
      ]
     },
     "execution_count": 2,
     "metadata": {},
     "output_type": "execute_result"
    }
   ],
   "source": [
    "# !pip install --upgrade wandb\n",
    "import wandb\n",
    "wandb.login()"
   ]
  },
  {
   "cell_type": "code",
   "execution_count": 3,
   "id": "091f0c36",
   "metadata": {},
   "outputs": [],
   "source": [
    "import torch\n",
    "import torch.nn as nn\n",
    "import torch.optim as optim\n",
    "from torch import Tensor\n",
    "import torch.nn.functional as F\n",
    "\n",
    "import numpy as np\n",
    "import pickle\n",
    "import scipy.linalg as scilin\n",
    "import time\n",
    "\n",
    "import matplotlib.pyplot as plt\n",
    "from mpl_toolkits.mplot3d import Axes3D\n",
    "\n",
    "from torchsummary import summary"
   ]
  },
  {
   "cell_type": "markdown",
   "id": "67cb3e76",
   "metadata": {},
   "source": [
    "Let's import the file from the https://github.com/tding1/Neural-Collapse."
   ]
  },
  {
   "cell_type": "code",
   "execution_count": 4,
   "id": "8853d034",
   "metadata": {},
   "outputs": [],
   "source": [
    "import models\n",
    "from models import resnet_decode\n",
    "from models.res_adapt import ResNet18_adapt\n",
    "from utils import *\n",
    "\n",
    "from train_Encoder import train\n",
    "from validate_NC import *\n",
    "\n",
    "from data.datasets import make_dataset\n",
    "from data.data_loading import get_cifar10_data_loaders\n",
    "from arg_loader import *\n",
    "from Visualization import *"
   ]
  },
  {
   "cell_type": "markdown",
   "id": "4c892d01-fbf6-49b8-a4f7-0817914332e9",
   "metadata": {},
   "source": [
    "# Control Board"
   ]
  },
  {
   "cell_type": "code",
   "execution_count": 5,
   "id": "f293c94b-6c64-4410-90f1-19d85405678c",
   "metadata": {},
   "outputs": [],
   "source": [
    "TRAIN_ENCODER = False\n",
    "EVALUATE_ENCODER = False\n",
    "TUNE_ENCODER  = False\n",
    "LOAD_ENCODER_STATE_DICT = False\n",
    "ENCODER_STATE_DICT_NUMBER = 199\n",
    "FREEZE_ENCODER = False\n",
    "TRAIN_AE = False\n",
    "LOAD_DECODER_STATE_DICT = False\n",
    "DECODER_STATE_DICT_NUMBER = 50"
   ]
  },
  {
   "cell_type": "markdown",
   "id": "29ea729a",
   "metadata": {},
   "source": [
    "# Load Parameters"
   ]
  },
  {
   "cell_type": "code",
   "execution_count": 6,
   "id": "2c38ad2b",
   "metadata": {},
   "outputs": [],
   "source": [
    "# architecture params\n",
    "encoder='resnet18'\n",
    "bias=True\n",
    "ETF_fc=True\n",
    "fixdim=0\n",
    "SOTA=False\n",
    "\n",
    "# MLP settings (only when using mlp and res_adapt(in which case only width has effect))\n",
    "width=1024\n",
    "depth=6\n",
    "\n",
    "# hardware settings\n",
    "gpu_id=0\n",
    "seed=6\n",
    "use_cudnn=True\n",
    "\n",
    "# dataset\n",
    "dataset='cifar10'\n",
    "data_dir='~/data'\n",
    "uid=\"Resnet18-design(high:256)-SGD-normalize\"\n",
    "force=True\n",
    "\n",
    "# learning options\n",
    "epochs = 200\n",
    "batch_size = 128\n",
    "loss = 'CrossEntropy'\n",
    "sample_size = None\n",
    "\n",
    "# optimization\n",
    "lr=0.05\n",
    "patience = 40\n",
    "history_size=10\n",
    "optimizer = \"SGD\"\n",
    "\n",
    "## Check the best device on machine\n",
    "check = False"
   ]
  },
  {
   "cell_type": "markdown",
   "id": "edf8b721",
   "metadata": {},
   "source": [
    "Determine the best device to run on: CUDA, MPS (Apple Silicon GPU), or CPU"
   ]
  },
  {
   "cell_type": "code",
   "execution_count": 7,
   "id": "7f47f9df",
   "metadata": {},
   "outputs": [
    {
     "name": "stdout",
     "output_type": "stream",
     "text": [
      "Using device: mps, Apple Silicon GPU\n"
     ]
    }
   ],
   "source": [
    "if torch.cuda.is_available():\n",
    "    device = torch.device(\"cuda:\"+str(gpu_id))\n",
    "    device_name = torch.cuda.get_device_name(gpu_id)\n",
    "    # \n",
    "    torch.cuda.empty_cache()\n",
    "    if check:\n",
    "        torch.cuda.memory_allocated()\n",
    "elif torch.backends.mps.is_available():\n",
    "    device = torch.device(\"mps\")\n",
    "    device_name = \"Apple Silicon GPU\"\n",
    "else:\n",
    "    device = torch.device(\"cpu\")\n",
    "    device_name = \"CPU\"\n",
    "\n",
    "print(f\"Using device: {device}, {device_name}\")"
   ]
  },
  {
   "cell_type": "code",
   "execution_count": 8,
   "id": "f4a1b074",
   "metadata": {},
   "outputs": [
    {
     "name": "stdout",
     "output_type": "stream",
     "text": [
      "override this uidResnet18-design(high:256)-SGD-normalize\n",
      "<arg_loader.train_args object at 0x166f29190>\n",
      "cudnn is used\n"
     ]
    }
   ],
   "source": [
    "args = train_args(model=encoder,bias=bias,ETF_fc=ETF_fc,fixdim=fixdim,SOTA=SOTA,\n",
    "                  width=width,depth=depth,\n",
    "                  gpu_id=gpu_id,seed=seed,use_cudnn=use_cudnn,\n",
    "                  dataset=dataset,data_dir=data_dir,uid=uid,force=force,\n",
    "                  epochs=epochs,batch_size = batch_size,loss = loss,sample_size=sample_size,\n",
    "                  lr = lr,optimizer=optimizer, patience = patience,\n",
    "                  device = device)"
   ]
  },
  {
   "cell_type": "markdown",
   "id": "c42c7957",
   "metadata": {},
   "source": [
    "# Load Dataset"
   ]
  },
  {
   "cell_type": "code",
   "execution_count": 9,
   "id": "ba929510",
   "metadata": {},
   "outputs": [
    {
     "name": "stdout",
     "output_type": "stream",
     "text": [
      "Dataset: CIFAR10.\n",
      "Files already downloaded and verified\n",
      "Files already downloaded and verified\n"
     ]
    },
    {
     "name": "stderr",
     "output_type": "stream",
     "text": [
      "Exception ignored in: <function _MultiProcessingDataLoaderIter.__del__ at 0x160b27560>\n",
      "Traceback (most recent call last):\n",
      "  File \"/Users/songzeyang/anaconda3/envs/mlenv/lib/python3.11/site-packages/torch/utils/data/dataloader.py\", line 1478, in __del__\n",
      "    self._shutdown_workers()\n",
      "  File \"/Users/songzeyang/anaconda3/envs/mlenv/lib/python3.11/site-packages/torch/utils/data/dataloader.py\", line 1442, in _shutdown_workers\n",
      "    w.join(timeout=_utils.MP_STATUS_CHECK_INTERVAL)\n",
      "  File \"/Users/songzeyang/anaconda3/envs/mlenv/lib/python3.11/multiprocessing/process.py\", line 149, in join\n",
      "    res = self._popen.wait(timeout)\n",
      "          ^^^^^^^^^^^^^^^^^^^^^^^^^\n",
      "  File \"/Users/songzeyang/anaconda3/envs/mlenv/lib/python3.11/multiprocessing/popen_fork.py\", line 40, in wait\n",
      "    if not wait([self.sentinel], timeout):\n",
      "           ^^^^^^^^^^^^^^^^^^^^^^^^^^^^^^\n",
      "  File \"/Users/songzeyang/anaconda3/envs/mlenv/lib/python3.11/multiprocessing/connection.py\", line 930, in wait\n",
      "    ready = selector.select(timeout)\n",
      "            ^^^^^^^^^^^^^^^^^^^^^^^^\n",
      "  File \"/Users/songzeyang/anaconda3/envs/mlenv/lib/python3.11/selectors.py\", line 415, in select\n",
      "    fd_event_list = self._selector.poll(timeout)\n",
      "                    ^^^^^^^^^^^^^^^^^^^^^^^^^^^^\n",
      "KeyboardInterrupt: \n"
     ]
    },
    {
     "name": "stdout",
     "output_type": "stream",
     "text": [
      "The number of class in our training set is  10\n",
      "Batch size: 128 | Input size: (32, 32, 3)\n",
      "The dataset ranges from 0 to 1\n"
     ]
    }
   ],
   "source": [
    "trainloader, testloader, num_classes = make_dataset(dataset, \n",
    "                                           data_dir, \n",
    "                                           batch_size, \n",
    "                                           SOTA=SOTA, normalize = False)\n",
    "images, labels = next(iter(trainloader))\n",
    "size_train, channels, height, width = images.shape\n",
    "input_size = height, width, channels\n",
    "print(\"The number of class in our training set is \", num_classes)\n",
    "print(\"Batch size: %d | Input size: %s\" % (size_train,input_size))\n",
    "print(\"The dataset ranges from %d to %d\" % (torch.min(images), torch.max(images)))"
   ]
  },
  {
   "cell_type": "code",
   "execution_count": 10,
   "id": "ef49a53e",
   "metadata": {},
   "outputs": [],
   "source": [
    "# trainloader, testloader, traindataset, testdataset = get_cifar10_data_loaders(download=True, batch_size=batch_size)\n",
    "# images, labels = next(iter(trainloader))\n",
    "# size_train, channels, height, width = images.shape\n",
    "# input_size = height, width, channels\n",
    "# print(\"The number of class in our training set is \", num_classes)\n",
    "# print(\"Batch size: %d | Input size: %s\" % (size_train,input_size))\n",
    "# print(\"The dataset range from %d to %d\" % (torch.min(images), torch.max(images)))"
   ]
  },
  {
   "cell_type": "markdown",
   "id": "87c34406",
   "metadata": {},
   "source": [
    "# Load Model"
   ]
  },
  {
   "cell_type": "code",
   "execution_count": 10,
   "id": "acfabb9f",
   "metadata": {},
   "outputs": [
    {
     "name": "stdout",
     "output_type": "stream",
     "text": [
      "# of model parameters: 2782794\n",
      "<class 'models.resnet.ResNet'>\n"
     ]
    }
   ],
   "source": [
    "if args.model == \"MLP\":\n",
    "    Encoder = models.__dict__[args.model](hidden = args.width, depth = args.depth, fc_bias=args.bias, num_classes=num_classes).to(args.device)\n",
    "elif args.model == \"ResNet18_adapt\":\n",
    "    Encoder = ResNet18_adapt(width = args.width, num_classes=num_classes, fc_bias=args.bias).to(args.device)\n",
    "else:\n",
    "    Encoder = models.__dict__[args.model](num_classes=num_classes, fc_bias=args.bias, ETF_fc=args.ETF_fc, fixdim=args.fixdim, SOTA=args.SOTA).to(args.device)\n",
    "\n",
    "print('# of model parameters: ' + str(count_network_parameters(Encoder)))\n",
    "print(type(Encoder))"
   ]
  },
  {
   "cell_type": "code",
   "execution_count": 11,
   "id": "65274158",
   "metadata": {},
   "outputs": [
    {
     "name": "stdout",
     "output_type": "stream",
     "text": [
      "----------------------------------------------------------------\n",
      "        Layer (type)               Output Shape         Param #\n",
      "================================================================\n",
      "            Conv2d-1           [-1, 64, 16, 16]           9,408\n",
      "       BatchNorm2d-2           [-1, 64, 16, 16]             128\n",
      "              ReLU-3           [-1, 64, 16, 16]               0\n",
      "         MaxPool2d-4             [-1, 64, 8, 8]               0\n",
      "            Conv2d-5             [-1, 64, 8, 8]          36,864\n",
      "       BatchNorm2d-6             [-1, 64, 8, 8]             128\n",
      "              ReLU-7             [-1, 64, 8, 8]               0\n",
      "            Conv2d-8             [-1, 64, 8, 8]          36,864\n",
      "       BatchNorm2d-9             [-1, 64, 8, 8]             128\n",
      "             ReLU-10             [-1, 64, 8, 8]               0\n",
      "       BasicBlock-11             [-1, 64, 8, 8]               0\n",
      "           Conv2d-12             [-1, 64, 8, 8]          36,864\n",
      "      BatchNorm2d-13             [-1, 64, 8, 8]             128\n",
      "             ReLU-14             [-1, 64, 8, 8]               0\n",
      "           Conv2d-15             [-1, 64, 8, 8]          36,864\n",
      "      BatchNorm2d-16             [-1, 64, 8, 8]             128\n",
      "             ReLU-17             [-1, 64, 8, 8]               0\n",
      "       BasicBlock-18             [-1, 64, 8, 8]               0\n",
      "           Conv2d-19            [-1, 128, 4, 4]          73,728\n",
      "      BatchNorm2d-20            [-1, 128, 4, 4]             256\n",
      "             ReLU-21            [-1, 128, 4, 4]               0\n",
      "           Conv2d-22            [-1, 128, 4, 4]         147,456\n",
      "      BatchNorm2d-23            [-1, 128, 4, 4]             256\n",
      "           Conv2d-24            [-1, 128, 4, 4]           8,192\n",
      "      BatchNorm2d-25            [-1, 128, 4, 4]             256\n",
      "             ReLU-26            [-1, 128, 4, 4]               0\n",
      "       BasicBlock-27            [-1, 128, 4, 4]               0\n",
      "           Conv2d-28            [-1, 128, 4, 4]         147,456\n",
      "      BatchNorm2d-29            [-1, 128, 4, 4]             256\n",
      "             ReLU-30            [-1, 128, 4, 4]               0\n",
      "           Conv2d-31            [-1, 128, 4, 4]         147,456\n",
      "      BatchNorm2d-32            [-1, 128, 4, 4]             256\n",
      "             ReLU-33            [-1, 128, 4, 4]               0\n",
      "       BasicBlock-34            [-1, 128, 4, 4]               0\n",
      "           Conv2d-35            [-1, 256, 2, 2]         294,912\n",
      "      BatchNorm2d-36            [-1, 256, 2, 2]             512\n",
      "             ReLU-37            [-1, 256, 2, 2]               0\n",
      "           Conv2d-38            [-1, 256, 2, 2]         589,824\n",
      "      BatchNorm2d-39            [-1, 256, 2, 2]             512\n",
      "           Conv2d-40            [-1, 256, 2, 2]          32,768\n",
      "      BatchNorm2d-41            [-1, 256, 2, 2]             512\n",
      "             ReLU-42            [-1, 256, 2, 2]               0\n",
      "       BasicBlock-43            [-1, 256, 2, 2]               0\n",
      "           Conv2d-44            [-1, 256, 2, 2]         589,824\n",
      "      BatchNorm2d-45            [-1, 256, 2, 2]             512\n",
      "             ReLU-46            [-1, 256, 2, 2]               0\n",
      "           Conv2d-47            [-1, 256, 2, 2]         589,824\n",
      "      BatchNorm2d-48            [-1, 256, 2, 2]             512\n",
      "             ReLU-49            [-1, 256, 2, 2]               0\n",
      "       BasicBlock-50            [-1, 256, 2, 2]               0\n",
      "AdaptiveAvgPool2d-51            [-1, 256, 1, 1]               0\n",
      "           Linear-52                   [-1, 10]           2,570\n",
      "================================================================\n",
      "Total params: 2,785,354\n",
      "Trainable params: 2,782,784\n",
      "Non-trainable params: 2,570\n",
      "----------------------------------------------------------------\n",
      "Input size (MB): 0.01\n",
      "Forward/backward pass size (MB): 1.22\n",
      "Params size (MB): 10.63\n",
      "Estimated Total Size (MB): 11.86\n",
      "----------------------------------------------------------------\n"
     ]
    },
    {
     "data": {
      "text/plain": [
       "ResNet(\n",
       "  (conv1): Conv2d(3, 64, kernel_size=(7, 7), stride=(2, 2), padding=(3, 3), bias=False)\n",
       "  (bn1): BatchNorm2d(64, eps=1e-05, momentum=0.1, affine=True, track_running_stats=True)\n",
       "  (relu): ReLU(inplace=True)\n",
       "  (maxpool): MaxPool2d(kernel_size=3, stride=2, padding=1, dilation=1, ceil_mode=False)\n",
       "  (layer1): Sequential(\n",
       "    (0): BasicBlock(\n",
       "      (conv1): Conv2d(64, 64, kernel_size=(3, 3), stride=(1, 1), padding=(1, 1), bias=False)\n",
       "      (bn1): BatchNorm2d(64, eps=1e-05, momentum=0.1, affine=True, track_running_stats=True)\n",
       "      (relu): ReLU(inplace=True)\n",
       "      (conv2): Conv2d(64, 64, kernel_size=(3, 3), stride=(1, 1), padding=(1, 1), bias=False)\n",
       "      (bn2): BatchNorm2d(64, eps=1e-05, momentum=0.1, affine=True, track_running_stats=True)\n",
       "    )\n",
       "    (1): BasicBlock(\n",
       "      (conv1): Conv2d(64, 64, kernel_size=(3, 3), stride=(1, 1), padding=(1, 1), bias=False)\n",
       "      (bn1): BatchNorm2d(64, eps=1e-05, momentum=0.1, affine=True, track_running_stats=True)\n",
       "      (relu): ReLU(inplace=True)\n",
       "      (conv2): Conv2d(64, 64, kernel_size=(3, 3), stride=(1, 1), padding=(1, 1), bias=False)\n",
       "      (bn2): BatchNorm2d(64, eps=1e-05, momentum=0.1, affine=True, track_running_stats=True)\n",
       "    )\n",
       "  )\n",
       "  (layer2): Sequential(\n",
       "    (0): BasicBlock(\n",
       "      (conv1): Conv2d(64, 128, kernel_size=(3, 3), stride=(2, 2), padding=(1, 1), bias=False)\n",
       "      (bn1): BatchNorm2d(128, eps=1e-05, momentum=0.1, affine=True, track_running_stats=True)\n",
       "      (relu): ReLU(inplace=True)\n",
       "      (conv2): Conv2d(128, 128, kernel_size=(3, 3), stride=(1, 1), padding=(1, 1), bias=False)\n",
       "      (bn2): BatchNorm2d(128, eps=1e-05, momentum=0.1, affine=True, track_running_stats=True)\n",
       "      (downsample): Sequential(\n",
       "        (0): Conv2d(64, 128, kernel_size=(1, 1), stride=(2, 2), bias=False)\n",
       "        (1): BatchNorm2d(128, eps=1e-05, momentum=0.1, affine=True, track_running_stats=True)\n",
       "      )\n",
       "    )\n",
       "    (1): BasicBlock(\n",
       "      (conv1): Conv2d(128, 128, kernel_size=(3, 3), stride=(1, 1), padding=(1, 1), bias=False)\n",
       "      (bn1): BatchNorm2d(128, eps=1e-05, momentum=0.1, affine=True, track_running_stats=True)\n",
       "      (relu): ReLU(inplace=True)\n",
       "      (conv2): Conv2d(128, 128, kernel_size=(3, 3), stride=(1, 1), padding=(1, 1), bias=False)\n",
       "      (bn2): BatchNorm2d(128, eps=1e-05, momentum=0.1, affine=True, track_running_stats=True)\n",
       "    )\n",
       "  )\n",
       "  (layer3): Sequential(\n",
       "    (0): BasicBlock(\n",
       "      (conv1): Conv2d(128, 256, kernel_size=(3, 3), stride=(2, 2), padding=(1, 1), bias=False)\n",
       "      (bn1): BatchNorm2d(256, eps=1e-05, momentum=0.1, affine=True, track_running_stats=True)\n",
       "      (relu): ReLU(inplace=True)\n",
       "      (conv2): Conv2d(256, 256, kernel_size=(3, 3), stride=(1, 1), padding=(1, 1), bias=False)\n",
       "      (bn2): BatchNorm2d(256, eps=1e-05, momentum=0.1, affine=True, track_running_stats=True)\n",
       "      (downsample): Sequential(\n",
       "        (0): Conv2d(128, 256, kernel_size=(1, 1), stride=(2, 2), bias=False)\n",
       "        (1): BatchNorm2d(256, eps=1e-05, momentum=0.1, affine=True, track_running_stats=True)\n",
       "      )\n",
       "    )\n",
       "    (1): BasicBlock(\n",
       "      (conv1): Conv2d(256, 256, kernel_size=(3, 3), stride=(1, 1), padding=(1, 1), bias=False)\n",
       "      (bn1): BatchNorm2d(256, eps=1e-05, momentum=0.1, affine=True, track_running_stats=True)\n",
       "      (relu): ReLU(inplace=True)\n",
       "      (conv2): Conv2d(256, 256, kernel_size=(3, 3), stride=(1, 1), padding=(1, 1), bias=False)\n",
       "      (bn2): BatchNorm2d(256, eps=1e-05, momentum=0.1, affine=True, track_running_stats=True)\n",
       "    )\n",
       "  )\n",
       "  (avgpool): AdaptiveAvgPool2d(output_size=(1, 1))\n",
       "  (fc): Linear(in_features=256, out_features=10, bias=True)\n",
       ")"
      ]
     },
     "execution_count": 11,
     "metadata": {},
     "output_type": "execute_result"
    }
   ],
   "source": [
    "summary(Encoder.to(\"cpu\"), input_size=(3, 32, 32), device = \"cpu\")\n",
    "Encoder.to(args.device)"
   ]
  },
  {
   "cell_type": "markdown",
   "id": "1dbb3408",
   "metadata": {},
   "source": [
    "# Create experiments on weights&biases"
   ]
  },
  {
   "cell_type": "markdown",
   "id": "7af5341b-0d73-428f-8d07-87b9c365be43",
   "metadata": {},
   "source": [
    "## Hyperparameter tuning"
   ]
  },
  {
   "cell_type": "code",
   "execution_count": 13,
   "id": "01cd499e-0d10-47f6-9bf0-badb54c33fcd",
   "metadata": {},
   "outputs": [],
   "source": [
    "if TUNE_ENCODER:\n",
    "    # Set up a sweep configuration\n",
    "    sweep_configuration = {\n",
    "        \"method\": \"bayes\",\n",
    "        \"name\": \"sweep\",\n",
    "        \"metric\": {\"goal\": \"minimize\", \"name\": \"losses.avg\"},\n",
    "        \"parameters\": {\n",
    "            \"batch_size\": {\"values\": [64, 128, 256]},\n",
    "            \"lr\": {\"max\": 0.1, \"min\": 0.0001},\n",
    "        },\n",
    "    }\n",
    "    # Get sweep ID\n",
    "    sweep_id = wandb.sweep(sweep_configuration, project=\"DDNC_hyper\")\n",
    "    def hypertuning_train(config = None, args = args):\n",
    "        # Initial a new run\n",
    "        run = wandb.init(project=\"DDNC_hyper\", config = config, settings=wandb.Settings(start_method=\"thread\"))\n",
    "        print(\"Initialise finished, starting now...\")\n",
    "        args.lr = wandb.config.lr\n",
    "        args.batch_size = wandb.config.batch_size\n",
    "        train(args,Encoder,trainloader)\n",
    "    # hypertuning_train(config = sweep_configuration, args = args)\n",
    "    # Start sweep\n",
    "    wandb.agent(sweep_id, function=hypertuning_train, count=10)"
   ]
  },
  {
   "cell_type": "markdown",
   "id": "b556aa65",
   "metadata": {},
   "source": [
    "## Model Training"
   ]
  },
  {
   "cell_type": "code",
   "execution_count": 14,
   "id": "d89571ee",
   "metadata": {},
   "outputs": [],
   "source": [
    "if TRAIN_ENCODER or EVALUATE_ENCODER:\n",
    "    config = {\n",
    "        # architecture params\n",
    "        \"model\":encoder,\n",
    "        \"bias\": bias,\n",
    "        \"ETF_fc\":ETF_fc,\n",
    "        \"fixdim\":fixdim,\n",
    "        \"SOTA\":SOTA,\n",
    "        \n",
    "        # MLP settings (only when using mlp and res_adapt(in which case only width has effect))\n",
    "        \"width\":width,\n",
    "        \"depth\":depth,\n",
    "        \n",
    "        # hardware settings\n",
    "        \"gpu_id\":gpu_id,\n",
    "        \"seed\":seed,\n",
    "        \"use_cudnn\":use_cudnn,\n",
    "        \n",
    "        # dataset\n",
    "        \"dataset\":dataset,\n",
    "        \"data_dir\":data_dir,\n",
    "        \"uid\":uid,\n",
    "        \"force\":force,\n",
    "        \n",
    "        # learning options\n",
    "        \"epochs\": epochs,\n",
    "        \"batch_size\":batch_size,\n",
    "        \"loss\": loss,\n",
    "        \"sample_size\": sample_size,\n",
    "        \n",
    "        # optimization\n",
    "        \"lr\":lr,\n",
    "        \"optimizer\":optimizer,\n",
    "        \"device\" :device\n",
    "    }\n",
    "    \n",
    "    run = wandb.init(\n",
    "        project=\"DD&NC\",\n",
    "        notes=\"Resnet18 with SOTA\",\n",
    "        tags=[\"Epochs: 200\",\"Resnet18\",\"SGD\",\"cifar10\",\"SOTA\"],\n",
    "        config= config\n",
    "    )"
   ]
  },
  {
   "cell_type": "code",
   "execution_count": 15,
   "id": "19a6bd27",
   "metadata": {},
   "outputs": [],
   "source": [
    "if TRAIN_ENCODER:\n",
    "    # Start timer\n",
    "    start_time = time.time()\n",
    "    \n",
    "    train(args,Encoder,trainloader)\n",
    "    \n",
    "    # End timer\n",
    "    end_time = time.time()\n",
    "    \n",
    "    # Calculate elapsed time\n",
    "    elapsed_time = end_time - start_time\n",
    "    elapsed_time_minutes = elapsed_time / 60\n",
    "    print(f\"Elapsed time: {elapsed_time_minutes:.2f} minutes\")"
   ]
  },
  {
   "cell_type": "markdown",
   "id": "04c47136",
   "metadata": {},
   "source": [
    "## Model Evaluating"
   ]
  },
  {
   "cell_type": "code",
   "execution_count": 16,
   "id": "aae63ead",
   "metadata": {},
   "outputs": [],
   "source": [
    "if EVALUATE_ENCODER:\n",
    "    # Start timer\n",
    "    start_time = time.time()\n",
    "    \n",
    "    if 'google.colab' in sys.modules:\n",
    "        load_path = \"/content/drive/MyDrive/model_weights/\"+args.uid+\"/\"\n",
    "    elif socket.gethostname() == \"dijkstra\":\n",
    "        load_path = '/data5/model_weights/'+args.uid+\"/\"\n",
    "    else:\n",
    "        load_path = \"./model_weights/\"+args.uid+\"/\"\n",
    "    \n",
    "    evaluate_NC(args,load_path,Encoder,trainloader,testloader,nearest_neighbor=True)\n",
    "    \n",
    "    # End timer\n",
    "    end_time = time.time()\n",
    "    \n",
    "    # Calculate elapsed time\n",
    "    elapsed_time = end_time - start_time\n",
    "    elapsed_time_minutes = elapsed_time / 60\n",
    "    print(f\"Elapsed time: {elapsed_time_minutes:.2f} minutes\")"
   ]
  },
  {
   "cell_type": "code",
   "execution_count": 17,
   "id": "4d830143",
   "metadata": {},
   "outputs": [],
   "source": [
    "if TRAIN_ENCODER or EVALUATE_ENCODER:\n",
    "    wandb.finish()"
   ]
  },
  {
   "cell_type": "markdown",
   "id": "2750ef98",
   "metadata": {},
   "source": [
    "# Validation of Neural Collapse\n",
    "\n",
    "Neural collapse, emerged in the terminal phase of training(TPT), let us understand the behavior of a special class of neural network, deep classifier neural network. It has widely observed in a number of data set and model structures. Is has mainly 4 fold of meaning:\n",
    "\n",
    "- **(NC1)** Cross-example within-class variability of last-layer training activations collapses to zero, as the individual activations themselves collapse to their class means. \n",
    "\n",
    "- **(NC2)** The class means collapse to the vertices of a simplex equiangular tight frame (ETF). \n",
    "\n",
    "- **(NC3)** Up to rescaling, the last-layer classifiers collapse to the class means or in other words, to the simplex ETF (i.e., to a self-dual configuration). \n",
    "\n",
    "- **(NC4)** For a given activation, the classifier’s decision collapses to simply choosing whichever class has the closest train class mean (i.e., the nearest class center decision rule).\n",
    "\n",
    "Let's denote the last linear layer as, which is also known as unconstrained feature model:\n",
    "\n",
    "$$\n",
    "h = \\phi_\\theta(x) \\in R^{d \\times n}\n",
    "$$\n",
    "\n",
    "The output of the neural network as:\n",
    "\n",
    "$$\n",
    "\\Phi_\\Theta(x) = W_Lh+b_L\n",
    "$$\n",
    "\n",
    "Denote $N = nk, H = [h_{1,1},..., h_{k,n}] \\in R^{d \\times N}$, so that the last layer can be written as $R^d \\rightarrow R^k$. Also, let's denote the within-class and between-class covariance matrices as $\\Sigma_W$ and $\\Sigma_B$.\n",
    "\n",
    "In general, neural collapse can be written in summary as:\n",
    "\n",
    "$$\n",
    "\\Sigma_W \\rightarrow 0, \\\\\n",
    "H \\rightarrow \\bar{H} \\rightarrow ETF, W \\rightarrow \\bar{H}\n",
    "$$\n",
    "\n",
    "We can measure the NC in 4 metrics:\n",
    "\n",
    "$$\n",
    "NC_1:=\\frac{1}{K}trace(\\Sigma_W\\Sigma_B^{+})\\\\\n",
    "NC_2:= ||\\frac{WW^T}{||WW^T||_F}-\\frac{1}{\\sqrt{K-1}} (I_K - \\frac{1}{K}1_K1_K^T)||_F\\\\\n",
    "NC_3:= ||\\frac{W\\bar{H}^T}{||W\\bar{H}^T||_F}-\\frac{1}{\\sqrt{K-1}} (I_K - \\frac{1}{K}1_K1_K^T)||_F\\\\\n",
    "NC_4:=||b+Wh_G||_2\n",
    "$$\n",
    "\n",
    "The $NC_4$ follows the simplified rule: $Wh_{k,i}+b = W(h_{k,i} - h_G) + Wh_G +b$, and $Wh_G +b$ should be 0 in the TPT.\n",
    "\n",
    "## Find the ETF center\n",
    "\n",
    "Let's introduce the global mean and class mean of the last-layer features ${h_{k,i}}$ as:\n",
    "\n",
    "$$\n",
    "h_G = \\frac{1}{nK}\\sum^{K}_{k=1}\\sum^{n}_{i=1}h_{k,i}, \\ \\bar{h_k} = \\frac{1}{n}\\sum_{i=1}^{n}h_{k,i}(1\\leq k \\leq K)\n",
    "$$\n",
    "\n",
    "The ETF center of the last layer features, or the centered class-mean matrix,: $\\bar{H} = [\\bar{h_{1}} - h_G,..., \\bar{h_{K}} - h_G]$. \n",
    "\n",
    "\n",
    "## Visualization of K-ETF\n",
    "\n",
    "A (K-Simplex ETF) is a collection of points in $R^K$ specified by the columns of:\n",
    "\n",
    "$$\n",
    "M = \\sqrt\\frac{K}{K-1} (I_K - \\frac{1}{K}1_K1_K^T)\n",
    "$$\n",
    "\n",
    "where $I_K \\in R^{K \\times K}$ is the identity matrix, and 1K ∈ RK is the all ones vector. In the other words, we also have\n",
    "\n",
    "$$\n",
    "M^TM = MM^T =\\frac{K}{K − 1}(I_K −\\frac{1}{K}1_K1_K^T)\n",
    "$$\n",
    "\n",
    "However, the learned features of neural network is often up to some scaling and rotation, thus we consider the general ETF as a collection of points in $R^d$ specified by the columns of $\\sqrt\\frac{K}{K-1} P (I_K −\\frac{1}{K}1_K1_K^T)$, where $P \\in R{d \\times K} (d \\leq K)$ is a orthonormal matrix, i.e., $P^TP = I_K$.\n",
    "\n",
    "### Further Explaination\n",
    "\n",
    "The neural collapse shows that as training proceeds, last-layer features $H$ collapse onto their class means ($NC1$), class means converge to the vertices of the simplex ETF ($NC2$), and the linear classifiers $W$ approach their corresponding class means ($NC3$). \n",
    "\n",
    "In the collapse stage, the $NC2$ says that the class-means centered at their global means form a Simplex Equiangular Tight Frame - or Simplex ETF. More specifically, the weigths matrix $W^{*T} \\in R^{d \\times d}$ with $U^TU = I_d$, the normalised matrix $M:=\\frac{1}{w^*}UW^{*T}$\n",
    "\n",
    "$$\n",
    "M^TM = \\frac{K}{K-1} (I_K - \\frac{1}{K}1_K1_K^T)\n",
    "$$\n",
    "\n",
    "Depending on whether to fix the output dimension, we will get shapeful $W \\in R^{k \\times d}$ and $H \\in R^{d \\times N}$. The dimension of bias in the last linear layer is always fixed at $b \\in R^{k \\times N}$. Define $N=nk$ and k is the number of classes and n is the number of images (input data) in each class.\n",
    "\n",
    "If we fixed the $W$, it is easy to show that the class means will converge to a standard K-ETF."
   ]
  },
  {
   "cell_type": "code",
   "execution_count": 18,
   "id": "d42c0c1d",
   "metadata": {},
   "outputs": [],
   "source": [
    "def k_etf(K=10):\n",
    "    constant = torch.sqrt(torch.tensor(K/(K-1)))\n",
    "    ETF = (torch.eye(K)-(1/K)*torch.ones((K, K)))\n",
    "    return constant*ETF\n",
    "\n",
    "def k_etf_normalize(etf):\n",
    "    K = etf.shape[1]\n",
    "    norm = torch.sqrt((1/K*torch.norm(etf, 'fro')**2))\n",
    "    return etf/norm\n",
    "\n",
    "def k_etf_colunm_norm(etf):\n",
    "    return torch.sqrt(torch.sum(torch.square(etf), axis=0))"
   ]
  },
  {
   "cell_type": "code",
   "execution_count": 19,
   "id": "b74772bb",
   "metadata": {},
   "outputs": [
    {
     "name": "stdout",
     "output_type": "stream",
     "text": [
      "tensor([[ 0.9487, -0.1054, -0.1054, -0.1054, -0.1054, -0.1054, -0.1054, -0.1054,\n",
      "         -0.1054, -0.1054],\n",
      "        [-0.1054,  0.9487, -0.1054, -0.1054, -0.1054, -0.1054, -0.1054, -0.1054,\n",
      "         -0.1054, -0.1054],\n",
      "        [-0.1054, -0.1054,  0.9487, -0.1054, -0.1054, -0.1054, -0.1054, -0.1054,\n",
      "         -0.1054, -0.1054],\n",
      "        [-0.1054, -0.1054, -0.1054,  0.9487, -0.1054, -0.1054, -0.1054, -0.1054,\n",
      "         -0.1054, -0.1054],\n",
      "        [-0.1054, -0.1054, -0.1054, -0.1054,  0.9487, -0.1054, -0.1054, -0.1054,\n",
      "         -0.1054, -0.1054],\n",
      "        [-0.1054, -0.1054, -0.1054, -0.1054, -0.1054,  0.9487, -0.1054, -0.1054,\n",
      "         -0.1054, -0.1054],\n",
      "        [-0.1054, -0.1054, -0.1054, -0.1054, -0.1054, -0.1054,  0.9487, -0.1054,\n",
      "         -0.1054, -0.1054],\n",
      "        [-0.1054, -0.1054, -0.1054, -0.1054, -0.1054, -0.1054, -0.1054,  0.9487,\n",
      "         -0.1054, -0.1054],\n",
      "        [-0.1054, -0.1054, -0.1054, -0.1054, -0.1054, -0.1054, -0.1054, -0.1054,\n",
      "          0.9487, -0.1054],\n",
      "        [-0.1054, -0.1054, -0.1054, -0.1054, -0.1054, -0.1054, -0.1054, -0.1054,\n",
      "         -0.1054,  0.9487]])\n",
      "tensor([1.0000, 1.0000, 1.0000, 1.0000, 1.0000, 1.0000, 1.0000, 1.0000, 1.0000,\n",
      "        1.0000])\n"
     ]
    }
   ],
   "source": [
    "print(k_etf(K=10))\n",
    "\n",
    "print(k_etf_colunm_norm(k_etf_normalize(k_etf(K=10))))"
   ]
  },
  {
   "cell_type": "code",
   "execution_count": 20,
   "id": "54006323",
   "metadata": {},
   "outputs": [
    {
     "data": {
      "image/png": "[encoded data removed]",
      "text/plain": [
       "<Figure size 1000x800 with 1 Axes>"
      ]
     },
     "metadata": {},
     "output_type": "display_data"
    }
   ],
   "source": [
    "# Step 1: Generate the ETF matrix (as a PyTorch tensor)\n",
    "simplex_vertices = k_etf(3)\n",
    "\n",
    "# Step 2: Calculate the ETF center with PyTorch\n",
    "etf_center = torch.mean(simplex_vertices, dim=0)\n",
    "\n",
    "# Step 3: Plotting\n",
    "fig = plt.figure(figsize=(10, 8))\n",
    "ax = fig.add_subplot(111, projection='3d')\n",
    "\n",
    "# Convert PyTorch tensors to numpy arrays for plotting\n",
    "simplex_vertices_np = simplex_vertices.numpy()\n",
    "etf_center_np = etf_center.numpy()\n",
    "\n",
    "# Plotting simplex ETF vertices\n",
    "ax.scatter(simplex_vertices_np[:, 0], simplex_vertices_np[:, 1], simplex_vertices_np[:, 2], color='green', s=100, marker='o', label='Simplex ETF Vertex')\n",
    "\n",
    "# Plotting the ETF center\n",
    "ax.scatter(etf_center_np[0], etf_center_np[1], etf_center_np[2], color='red', s=100, marker='*', label='ETF Center')\n",
    "\n",
    "# Drawing lines from each vertex to the ETF center\n",
    "for vertex in simplex_vertices_np:\n",
    "    ax.plot([vertex[0], etf_center_np[0]], [vertex[1], etf_center_np[1]], [vertex[2], etf_center_np[2]], 'k--')\n",
    "\n",
    "# Labels and legend\n",
    "ax.set_xlabel('Feature Dimension 1')\n",
    "ax.set_ylabel('Feature Dimension 2')\n",
    "ax.set_zlabel('Feature Dimension 3')\n",
    "plt.title('3D Visualization of ETF with Center')\n",
    "ax.legend()\n",
    "\n",
    "plt.show()"
   ]
  },
  {
   "cell_type": "markdown",
   "id": "b7389593",
   "metadata": {},
   "source": [
    "## Analysis of Features\n",
    "\n",
    "The improved neural network design shows us that we can fix the weight matrix $W$ as standard K-ETF and set the feature dimension $d$ equal to $k$, the number of class. We can plot this ETF and see if it matches."
   ]
  },
  {
   "cell_type": "code",
   "execution_count": 21,
   "id": "4dadeb20",
   "metadata": {},
   "outputs": [
    {
     "name": "stdout",
     "output_type": "stream",
     "text": [
      "--------------------- Evaluating -------------------------------\n",
      "W is Parameter containing:\n",
      "tensor([[ 0.9487, -0.1054, -0.1054,  ...,  0.0000,  0.0000,  0.0000],\n",
      "        [-0.1054,  0.9487, -0.1054,  ...,  0.0000,  0.0000,  0.0000],\n",
      "        [-0.1054, -0.1054,  0.9487,  ...,  0.0000,  0.0000,  0.0000],\n",
      "        ...,\n",
      "        [-0.1054, -0.1054, -0.1054,  ...,  0.0000,  0.0000,  0.0000],\n",
      "        [-0.1054, -0.1054, -0.1054,  ...,  0.0000,  0.0000,  0.0000],\n",
      "        [-0.1054, -0.1054, -0.1054,  ...,  0.0000,  0.0000,  0.0000]],\n",
      "       device='mps:0')\n",
      "The shape of our weigths in this epochs is  torch.Size([10, 256])\n"
     ]
    }
   ],
   "source": [
    "if 'google.colab' in sys.modules:\n",
    "    load_path = \"/content/drive/MyDrive/model_weights/\"+args.uid+\"/\"\n",
    "elif socket.gethostname() == \"dijkstra\":\n",
    "    load_path = '/data5/model_weights/'+args.uid+\"/\"\n",
    "else:\n",
    "    load_path = \"./model_weights/\"+args.uid+\"/\"\n",
    "\n",
    "Encoder = Encoder.to(device)\n",
    "\n",
    "fc_features = FCFeatures()\n",
    "Encoder.fc.register_forward_pre_hook(fc_features)\n",
    "\n",
    "print('--------------------- Evaluating -------------------------------')\n",
    "\n",
    "### investigate a specific epochs\n",
    "i = ENCODER_STATE_DICT_NUMBER\n",
    "###\n",
    "\n",
    "map_location=torch.device(args.device)\n",
    "if LOAD_ENCODER_STATE_DICT:\n",
    "    Encoder.load_state_dict(torch.load(load_path + 'epoch_' + str(i + 1).zfill(3) + '.pth',map_location=map_location))\n",
    "\n",
    "Encoder.eval()\n",
    "\n",
    "for n, p in Encoder.named_parameters():\n",
    "    if 'fc.weight' in n:\n",
    "        W = p\n",
    "    if 'fc.bias' in n:\n",
    "        b = p\n",
    "        \n",
    "W = W.to(device)\n",
    "b = b.to(device)\n",
    "\n",
    "print(\"W is\", W)\n",
    "print(\"The shape of our weigths in this epochs is \", W.shape)"
   ]
  },
  {
   "cell_type": "code",
   "execution_count": 22,
   "id": "8a1ce9ce",
   "metadata": {},
   "outputs": [
    {
     "name": "stdout",
     "output_type": "stream",
     "text": [
      "[epoch: 200] | train top1: 13.2440 | train top5: 52.4120 | test top1: 13.2900 | test top5: 52.2200 \n",
      "H is tensor([[ 4.7281e-02,  1.1628e-03, -1.2442e-02,  ..., -6.3522e-03,\n",
      "          4.1683e-02,  8.1435e-03],\n",
      "        [ 2.4571e-02,  5.1496e-03, -5.4812e-03,  ..., -4.7015e-03,\n",
      "          1.9228e-02,  7.9974e-03],\n",
      "        [-1.3066e-02, -4.6048e-03,  4.3488e-03,  ...,  1.0608e-02,\n",
      "         -1.0902e-02, -8.3297e-03],\n",
      "        ...,\n",
      "        [-2.3884e-02, -4.0456e-03,  8.2594e-03,  ...,  1.4849e-05,\n",
      "         -2.1819e-02, -1.4925e-02],\n",
      "        [-1.1945e-02, -1.6124e-03,  5.9899e-04,  ..., -1.7621e-03,\n",
      "         -3.8496e-03, -6.0790e-03],\n",
      "        [ 1.8428e-03,  8.7621e-04, -2.1485e-04,  ..., -1.2616e-03,\n",
      "          7.2318e-04, -4.0863e-03]], device='mps:0')\n",
      "tensor([[ 2.1440e-01,  5.2726e-03, -5.6420e-02,  ..., -2.8804e-02,\n",
      "          1.8902e-01,  3.6927e-02],\n",
      "        [ 1.1142e-01,  2.3351e-02, -2.4855e-02,  ..., -2.1319e-02,\n",
      "          8.7191e-02,  3.6265e-02],\n",
      "        [-5.9250e-02, -2.0880e-02,  1.9720e-02,  ...,  4.8102e-02,\n",
      "         -4.9437e-02, -3.7771e-02],\n",
      "        ...,\n",
      "        [-1.0830e-01, -1.8345e-02,  3.7453e-02,  ...,  6.7334e-05,\n",
      "         -9.8938e-02, -6.7677e-02],\n",
      "        [-5.4163e-02, -7.3115e-03,  2.7161e-03,  ..., -7.9904e-03,\n",
      "         -1.7456e-02, -2.7566e-02],\n",
      "        [ 8.3565e-03,  3.9732e-03, -9.7424e-04,  ..., -5.7207e-03,\n",
      "          3.2793e-03, -1.8530e-02]], device='mps:0')\n",
      "the colmun norm of unnormalised centered features is  tensor([0.3544, 0.0917, 0.1288, 0.1211, 0.2640, 0.1177, 0.3023, 0.0598, 0.2999,\n",
      "        0.2295], device='mps:0')\n",
      "the colmun norm of normalised centered features is  tensor([1.6070, 0.4160, 0.5841, 0.5492, 1.1969, 0.5336, 1.3708, 0.2710, 1.3598,\n",
      "        1.0405], device='mps:0')\n"
     ]
    }
   ],
   "source": [
    "mu_G_train, mu_c_dict_train, train_acc1, train_acc5 = compute_info(args, Encoder, fc_features, trainloader, isTrain=True)\n",
    "mu_G_test, mu_c_dict_test, test_acc1, test_acc5 = compute_info(args, Encoder, fc_features, testloader, isTrain=False)\n",
    "print('[epoch: %d] | train top1: %.4f | train top5: %.4f | test top1: %.4f | test top5: %.4f ' %\n",
    "      (i + 1, train_acc1, train_acc5, test_acc1, test_acc5))\n",
    "\n",
    "_, H = compute_W_H_relation(W, mu_c_dict_train, mu_G_train)\n",
    "\n",
    "print(\"H is\", H)\n",
    "print(k_etf_normalize(H))\n",
    "print(\"the colmun norm of unnormalised centered features is \", k_etf_colunm_norm(H))\n",
    "print(\"the colmun norm of normalised centered features is \",k_etf_colunm_norm(k_etf_normalize(H)))"
   ]
  },
  {
   "cell_type": "code",
   "execution_count": 23,
   "id": "8649d7e3-29cc-439a-8535-99093d37e41a",
   "metadata": {},
   "outputs": [
    {
     "name": "stdout",
     "output_type": "stream",
     "text": [
      "H is tensor([[ 0.0108,  0.0042, -0.0076, -0.0052, -0.0135, -0.0069, -0.0129, -0.0003,\n",
      "          0.0125,  0.0190],\n",
      "        [ 0.0446,  0.0166, -0.0169, -0.0185, -0.0359, -0.0149, -0.0394, -0.0021,\n",
      "          0.0351,  0.0314],\n",
      "        [-0.0031, -0.0032, -0.0011, -0.0002,  0.0006, -0.0060,  0.0005,  0.0025,\n",
      "          0.0013,  0.0087],\n",
      "        [ 0.0132, -0.0060, -0.0032,  0.0007, -0.0016,  0.0020, -0.0049, -0.0028,\n",
      "          0.0031, -0.0006],\n",
      "        [-0.0134, -0.0043,  0.0010,  0.0048,  0.0047,  0.0086,  0.0052,  0.0046,\n",
      "         -0.0106, -0.0006]], device='mps:0')\n"
     ]
    }
   ],
   "source": [
    "print(\"H is\", H[10:15,0:10])"
   ]
  },
  {
   "cell_type": "code",
   "execution_count": 24,
   "id": "cf3327dc-08df-4211-ae77-fa8227aa98d6",
   "metadata": {},
   "outputs": [
    {
     "data": {
      "text/plain": [
       "(10.0, 50.0)"
      ]
     },
     "execution_count": 24,
     "metadata": {},
     "output_type": "execute_result"
    }
   ],
   "source": [
    "compute_nearest_neighbor(args, Encoder, fc_features, H, testloader)"
   ]
  },
  {
   "cell_type": "code",
   "execution_count": 25,
   "id": "7b5cfbd4",
   "metadata": {},
   "outputs": [
    {
     "name": "stdout",
     "output_type": "stream",
     "text": [
      "tensor([[ 5.0228e-02,  1.3168e-03, -1.0789e-02,  ..., -3.6316e-03,\n",
      "          4.1056e-02,  8.6231e-03],\n",
      "        [ 2.5418e-02,  5.5475e-03, -6.2224e-03,  ..., -3.0204e-03,\n",
      "          1.7298e-02,  1.0050e-02],\n",
      "        [-1.5751e-02, -3.7742e-03,  4.1517e-03,  ...,  9.8563e-03,\n",
      "         -1.0625e-02, -7.6925e-03],\n",
      "        ...,\n",
      "        [-2.4732e-02, -4.5880e-03,  8.3177e-03,  ...,  5.8025e-05,\n",
      "         -2.0668e-02, -1.5299e-02],\n",
      "        [-1.3322e-02, -6.9119e-04, -4.1249e-04,  ..., -4.0302e-04,\n",
      "         -3.6877e-03, -7.5296e-03],\n",
      "        [ 2.5901e-03,  1.2090e-03,  7.7851e-05,  ..., -1.2401e-03,\n",
      "          1.2322e-03, -3.8468e-03]], device='mps:0')\n",
      "tensor([[ 0.2194,  0.0058, -0.0471,  ..., -0.0159,  0.1794,  0.0377],\n",
      "        [ 0.1110,  0.0242, -0.0272,  ..., -0.0132,  0.0756,  0.0439],\n",
      "        [-0.0688, -0.0165,  0.0181,  ...,  0.0431, -0.0464, -0.0336],\n",
      "        ...,\n",
      "        [-0.1080, -0.0200,  0.0363,  ...,  0.0003, -0.0903, -0.0668],\n",
      "        [-0.0582, -0.0030, -0.0018,  ..., -0.0018, -0.0161, -0.0329],\n",
      "        [ 0.0113,  0.0053,  0.0003,  ..., -0.0054,  0.0054, -0.0168]],\n",
      "       device='mps:0')\n",
      "the colmun norm of unnormalised centered features is  tensor([0.3738, 0.0956, 0.1264, 0.1420, 0.3047, 0.1031, 0.3055, 0.0540, 0.2974,\n",
      "        0.2254], device='mps:0')\n",
      "the colmun norm of normalised centered features is  tensor([1.6330, 0.4174, 0.5520, 0.6202, 1.3312, 0.4504, 1.3347, 0.2360, 1.2993,\n",
      "        0.9846], device='mps:0')\n"
     ]
    }
   ],
   "source": [
    "_, H_test = compute_W_H_relation(W, mu_c_dict_test, mu_G_test)\n",
    "print(H_test)\n",
    "print(k_etf_normalize(H_test))\n",
    "print(\"the colmun norm of unnormalised centered features is \", k_etf_colunm_norm(H_test))\n",
    "print(\"the colmun norm of normalised centered features is \",k_etf_colunm_norm(k_etf_normalize(H_test)))"
   ]
  },
  {
   "cell_type": "code",
   "execution_count": 26,
   "id": "017a45bc-3b94-48e7-8166-5ee53674be98",
   "metadata": {},
   "outputs": [
    {
     "data": {
      "text/plain": [
       "(10.0, 50.0)"
      ]
     },
     "execution_count": 26,
     "metadata": {},
     "output_type": "execute_result"
    }
   ],
   "source": [
    "compute_nearest_neighbor(args, Encoder, fc_features, H_test, testloader)"
   ]
  },
  {
   "cell_type": "markdown",
   "id": "e47f6d1f",
   "metadata": {},
   "source": [
    "# Data Distillation by Autoencoder"
   ]
  },
  {
   "cell_type": "code",
   "execution_count": 12,
   "id": "5809fbf0",
   "metadata": {},
   "outputs": [],
   "source": [
    "# architecture params\n",
    "decoder='resnet18'\n",
    "bias=True\n",
    "ETF_fc=True\n",
    "fixdim=0\n",
    "SOTA=False\n",
    "\n",
    "# MLP settings (only when using mlp and res_adapt(in which case only width has effect))\n",
    "width=1024\n",
    "depth=6\n",
    "\n",
    "# hardware settings\n",
    "gpu_id=0\n",
    "seed=6\n",
    "use_cudnn=True\n",
    "\n",
    "# dataset\n",
    "dataset='cifar10'\n",
    "data_dir='~/data'\n",
    "uid=\"Resnet18-design(high)-SGD-normalize-decoder\"\n",
    "force=True\n",
    "\n",
    "# learning options\n",
    "epochs = 200\n",
    "batch_size = 128\n",
    "loss = 'MSE'\n",
    "sample_size = None\n",
    "\n",
    "# optimization (change for autoencoder)\n",
    "lr=0.05\n",
    "patience = 40\n",
    "history_size=10\n",
    "optimizer = \"SGD\"\n",
    "\n",
    "## Check the best device on machine\n",
    "check = False"
   ]
  },
  {
   "cell_type": "code",
   "execution_count": 13,
   "id": "f72901ae-7447-49b5-8224-c8e41bba8657",
   "metadata": {},
   "outputs": [
    {
     "name": "stdout",
     "output_type": "stream",
     "text": [
      "Using device: mps, Apple Silicon GPU\n"
     ]
    }
   ],
   "source": [
    "if torch.cuda.is_available():\n",
    "    device = torch.device(\"cuda:\"+str(gpu_id))\n",
    "    device_name = torch.cuda.get_device_name(gpu_id)\n",
    "    # \n",
    "    torch.cuda.empty_cache()\n",
    "    if check:\n",
    "        torch.cuda.memory_allocated()\n",
    "elif torch.backends.mps.is_available():\n",
    "    device = torch.device(\"mps\")\n",
    "    device_name = \"Apple Silicon GPU\"\n",
    "else:\n",
    "    device = torch.device(\"cpu\")\n",
    "    device_name = \"CPU\"\n",
    "\n",
    "print(f\"Using device: {device}, {device_name}\")"
   ]
  },
  {
   "cell_type": "code",
   "execution_count": 14,
   "id": "90779fb9",
   "metadata": {},
   "outputs": [
    {
     "name": "stdout",
     "output_type": "stream",
     "text": [
      "override this uidResnet18-design(high)-SGD-normalize-decoder\n",
      "<arg_loader.train_args object at 0x166f2eb10>\n",
      "cudnn is used\n"
     ]
    }
   ],
   "source": [
    "auto_args = train_args(model=decoder,bias=bias,ETF_fc=ETF_fc,fixdim=fixdim,SOTA=SOTA,\n",
    "                  width=width,depth=depth,\n",
    "                  gpu_id=gpu_id,seed=seed,use_cudnn=use_cudnn,\n",
    "                  dataset=dataset,data_dir=data_dir,uid=uid,force=force,\n",
    "                  epochs=epochs,batch_size = batch_size,loss = loss,sample_size=sample_size,\n",
    "                  lr = lr,optimizer=optimizer, patience = patience,\n",
    "                  device = device)"
   ]
  },
  {
   "cell_type": "code",
   "execution_count": 15,
   "id": "bd11dbba",
   "metadata": {},
   "outputs": [
    {
     "name": "stdout",
     "output_type": "stream",
     "text": [
      "<class 'models.resnet_decode.ResNet'>\n"
     ]
    }
   ],
   "source": [
    "if auto_args.model == \"MLP\":\n",
    "    Decoder = models.__dict__[args.model](hidden = auto_args.width, depth = auto_args.depth, fc_bias=auto_args.bias, num_classes=num_classes).to(auto_args.device)\n",
    "elif auto_args.model == \"ResNet18_adapt\":\n",
    "    Decoder = ResNet18_adapt(width = auto_args.width, num_classes=num_classes, fc_bias=auto_args.bias).to(auto_args.device)\n",
    "else:\n",
    "    Decoder = resnet_decode.__dict__[auto_args.model](num_classes=num_classes, fixdim=auto_args.fixdim, SOTA=auto_args.SOTA).to(auto_args.device)\n",
    "\n",
    "print(type(Decoder))"
   ]
  },
  {
   "cell_type": "code",
   "execution_count": 31,
   "id": "3583b0cd",
   "metadata": {},
   "outputs": [],
   "source": [
    "# batch_size = 64\n",
    "# channels = 10\n",
    "# height = 1\n",
    "# width = 1\n",
    "\n",
    "# # Creating a dummy tensor\n",
    "# x_original = torch.randn(batch_size, channels, height, width).to(device)\n",
    "# print(x_original.shape)\n",
    "# print(x_original.device)\n",
    "\n",
    "\n",
    "# Decoder(x_original)"
   ]
  },
  {
   "cell_type": "code",
   "execution_count": 16,
   "id": "1306ea91-32ad-40f5-9633-37ff7c66b984",
   "metadata": {},
   "outputs": [
    {
     "name": "stdout",
     "output_type": "stream",
     "text": [
      "----------------------------------------------------------------\n",
      "        Layer (type)               Output Shape         Param #\n",
      "================================================================\n",
      "   ConvTranspose2d-1            [-1, 256, 2, 2]         262,144\n",
      "   ConvTranspose2d-2            [-1, 256, 2, 2]         589,824\n",
      "       BatchNorm2d-3            [-1, 256, 2, 2]             512\n",
      "              ReLU-4            [-1, 256, 2, 2]               0\n",
      "   ConvTranspose2d-5            [-1, 256, 2, 2]         589,824\n",
      "       BatchNorm2d-6            [-1, 256, 2, 2]             512\n",
      "              ReLU-7            [-1, 256, 2, 2]               0\n",
      "        BasicBlock-8            [-1, 256, 2, 2]               0\n",
      "   ConvTranspose2d-9            [-1, 256, 2, 2]         589,824\n",
      "      BatchNorm2d-10            [-1, 256, 2, 2]             512\n",
      "             ReLU-11            [-1, 256, 2, 2]               0\n",
      "  ConvTranspose2d-12            [-1, 128, 4, 4]         294,912\n",
      "      BatchNorm2d-13            [-1, 128, 4, 4]             256\n",
      "  ConvTranspose2d-14            [-1, 128, 4, 4]          32,768\n",
      "      BatchNorm2d-15            [-1, 128, 4, 4]             256\n",
      "             ReLU-16            [-1, 128, 4, 4]               0\n",
      "       BasicBlock-17            [-1, 128, 4, 4]               0\n",
      "  ConvTranspose2d-18            [-1, 128, 4, 4]         147,456\n",
      "      BatchNorm2d-19            [-1, 128, 4, 4]             256\n",
      "             ReLU-20            [-1, 128, 4, 4]               0\n",
      "  ConvTranspose2d-21            [-1, 128, 4, 4]         147,456\n",
      "      BatchNorm2d-22            [-1, 128, 4, 4]             256\n",
      "             ReLU-23            [-1, 128, 4, 4]               0\n",
      "       BasicBlock-24            [-1, 128, 4, 4]               0\n",
      "  ConvTranspose2d-25            [-1, 128, 4, 4]         147,456\n",
      "      BatchNorm2d-26            [-1, 128, 4, 4]             256\n",
      "             ReLU-27            [-1, 128, 4, 4]               0\n",
      "  ConvTranspose2d-28             [-1, 64, 8, 8]          73,728\n",
      "      BatchNorm2d-29             [-1, 64, 8, 8]             128\n",
      "  ConvTranspose2d-30             [-1, 64, 8, 8]           8,192\n",
      "      BatchNorm2d-31             [-1, 64, 8, 8]             128\n",
      "             ReLU-32             [-1, 64, 8, 8]               0\n",
      "       BasicBlock-33             [-1, 64, 8, 8]               0\n",
      "  ConvTranspose2d-34             [-1, 64, 8, 8]          36,864\n",
      "      BatchNorm2d-35             [-1, 64, 8, 8]             128\n",
      "             ReLU-36             [-1, 64, 8, 8]               0\n",
      "  ConvTranspose2d-37             [-1, 64, 8, 8]          36,864\n",
      "      BatchNorm2d-38             [-1, 64, 8, 8]             128\n",
      "             ReLU-39             [-1, 64, 8, 8]               0\n",
      "       BasicBlock-40             [-1, 64, 8, 8]               0\n",
      "  ConvTranspose2d-41             [-1, 64, 8, 8]          36,864\n",
      "      BatchNorm2d-42             [-1, 64, 8, 8]             128\n",
      "             ReLU-43             [-1, 64, 8, 8]               0\n",
      "  ConvTranspose2d-44             [-1, 64, 8, 8]          36,864\n",
      "      BatchNorm2d-45             [-1, 64, 8, 8]             128\n",
      "             ReLU-46             [-1, 64, 8, 8]               0\n",
      "       BasicBlock-47             [-1, 64, 8, 8]               0\n",
      "  ConvTranspose2d-48           [-1, 64, 16, 16]          36,928\n",
      "  ConvTranspose2d-49            [-1, 3, 32, 32]           9,408\n",
      "      BatchNorm2d-50            [-1, 3, 32, 32]               6\n",
      "             ReLU-51            [-1, 3, 32, 32]               0\n",
      "================================================================\n",
      "Total params: 3,080,966\n",
      "Trainable params: 3,080,966\n",
      "Non-trainable params: 0\n",
      "----------------------------------------------------------------\n",
      "Input size (MB): 0.00\n",
      "Forward/backward pass size (MB): 1.16\n",
      "Params size (MB): 11.75\n",
      "Estimated Total Size (MB): 12.91\n",
      "----------------------------------------------------------------\n"
     ]
    }
   ],
   "source": [
    "summary(Decoder.to(\"cpu\"), input_size=(256, 1, 1), device = \"cpu\")\n"
   ]
  },
  {
   "cell_type": "code",
   "execution_count": null,
   "id": "6fcd3104",
   "metadata": {},
   "outputs": [],
   "source": [
    "# for dname, dparameter in decoder.named_parameters():\n",
    "#     print(f\"{dname}: {dparameter.numel()} parameters\")"
   ]
  },
  {
   "cell_type": "code",
   "execution_count": null,
   "id": "13ec6359",
   "metadata": {},
   "outputs": [],
   "source": [
    "from models.AE import Autoencoder"
   ]
  },
  {
   "cell_type": "code",
   "execution_count": null,
   "id": "7386d0da",
   "metadata": {},
   "outputs": [],
   "source": [
    "autoencoder = Autoencoder(Encoder,Decoder)"
   ]
  },
  {
   "cell_type": "code",
   "execution_count": null,
   "id": "58c1ddc0-a100-4005-9566-d143a8401c39",
   "metadata": {},
   "outputs": [
    {
     "name": "stdout",
     "output_type": "stream",
     "text": [
      "# of model parameters: 5863760\n",
      "<class 'models.AE.Autoencoder'>\n"
     ]
    }
   ],
   "source": [
    "if FREEZE_ENCODER:\n",
    "    autoencoder.freeze_encoder()\n",
    "autoencoder.unfreeze_decoder()\n",
    "print('# of model parameters: ' + str(count_network_parameters(autoencoder)))\n",
    "print(type(autoencoder))"
   ]
  },
  {
   "cell_type": "markdown",
   "id": "cf8f38cd-839a-464d-8fa9-1d5fdda81961",
   "metadata": {},
   "source": [
    "## Create experiments on weights&biases"
   ]
  },
  {
   "cell_type": "code",
   "execution_count": null,
   "id": "febdc6ff",
   "metadata": {},
   "outputs": [],
   "source": [
    "from train_AE import AE_train"
   ]
  },
  {
   "cell_type": "code",
   "execution_count": null,
   "id": "c5cc649f",
   "metadata": {},
   "outputs": [],
   "source": [
    "if TRAIN_AE:\n",
    "    config = {\n",
    "        # architecture params\n",
    "        \"model\":decoder,\n",
    "        \"bias\": bias,\n",
    "        \"ETF_fc\":ETF_fc,\n",
    "        \"fixdim\":fixdim,\n",
    "        \"SOTA\":SOTA,\n",
    "        \n",
    "        # MLP settings (only when using mlp and res_adapt(in which case only width has effect))\n",
    "        \"width\":width,\n",
    "        \"depth\":depth,\n",
    "        \n",
    "        # hardware settings\n",
    "        \"gpu_id\":gpu_id,\n",
    "        \"seed\":seed,\n",
    "        \"use_cudnn\":use_cudnn,\n",
    "        \n",
    "        # dataset\n",
    "        \"dataset\":dataset,\n",
    "        \"data_dir\":data_dir,\n",
    "        \"uid\":uid,\n",
    "        \"encoder_uid\": args.uid,\n",
    "        \"force\":force,\n",
    "        \n",
    "        # learning options\n",
    "        \"epochs\": epochs,\n",
    "        \"batch_size\":batch_size,\n",
    "        \"loss\": loss,\n",
    "        \"sample_size\": sample_size,\n",
    "        \n",
    "        # optimization\n",
    "        \"lr\":lr,\n",
    "        \"optimizer\":optimizer,\n",
    "        \"device\" :device\n",
    "    }\n",
    "    \n",
    "    run = wandb.init(\n",
    "        project=\"DD&NC\",\n",
    "        notes=\"Undesigned Autoencoder\",\n",
    "        tags=[\"Epochs: 200\",\"Resnet18\",\"Adam\",\"cifar10\",\"SOTA\"],\n",
    "        config= config\n",
    "    )"
   ]
  },
  {
   "cell_type": "code",
   "execution_count": null,
   "id": "0e509aef",
   "metadata": {},
   "outputs": [],
   "source": [
    "if TRAIN_AE:\n",
    "    # Start timer\n",
    "    start_time = time.time()\n",
    "    \n",
    "    AE_train(auto_args,autoencoder,trainloader,visualize=True)\n",
    "    \n",
    "    # End timer\n",
    "    end_time = time.time()\n",
    "    \n",
    "    # Calculate elapsed time\n",
    "    elapsed_time = end_time - start_time\n",
    "    elapsed_time_minutes = elapsed_time / 60\n",
    "    print(f\"Elapsed time: {elapsed_time_minutes:.2f} minutes\")"
   ]
  },
  {
   "cell_type": "code",
   "execution_count": null,
   "id": "5357a1c0-6314-40eb-8f39-726dd198c952",
   "metadata": {},
   "outputs": [],
   "source": [
    "if TRAIN_AE:\n",
    "    wandb.finish()"
   ]
  },
  {
   "cell_type": "code",
   "execution_count": null,
   "id": "22e38b89-b7ae-48ad-ab60-a69d9762d0d3",
   "metadata": {},
   "outputs": [],
   "source": [
    "# # image, label = next(int(trainloader))\n",
    "# # image, label = image.to(device), label\n",
    "# images = images.to(device)\n",
    "# out_image = autoencoder(images)\n",
    "# print(out_image[0])\n",
    "# print(images[0])\n"
   ]
  },
  {
   "cell_type": "code",
   "execution_count": null,
   "id": "f137c77e-1257-4b6b-b2ea-6934eb25fc37",
   "metadata": {},
   "outputs": [],
   "source": [
    "# from Visualization import *\n",
    "# image_s, label_s = images_from_index(trainloader.dataset, [9,10])\n",
    "# visualize_images(image_s, label_s,normalize_data=True)\n",
    "# image_s = image_s.to(device)\n",
    "# with torch.no_grad():\n",
    "#     outimage_s = autoencoder(image_s)\n",
    "# visualize_images(outimage_s.cpu(), label_s,normalize_data=True)\n",
    "# print(torch.min(image_s), torch.max(image_s))\n",
    "# print(torch.min(outimage_s), torch.max(outimage_s))\n",
    "# print(torch.mean(image_s))\n",
    "# print(torch.mean(outimage_s))"
   ]
  },
  {
   "cell_type": "markdown",
   "id": "058f1746-88f7-4984-a578-ff9f54ce2ce8",
   "metadata": {},
   "source": [
    "## Generate distilled images"
   ]
  },
  {
   "cell_type": "code",
   "execution_count": null,
   "id": "8c16f2ae-6f03-432d-aa50-9a272603fbba",
   "metadata": {},
   "outputs": [
    {
     "name": "stdout",
     "output_type": "stream",
     "text": [
      "--------------------- Evaluating -------------------------------\n",
      "torch.Size([256, 10])\n"
     ]
    }
   ],
   "source": [
    "if 'google.colab' in sys.modules:\n",
    "    load_path = \"/content/drive/MyDrive/model_weights/\"+auto_args.uid+\"/\"\n",
    "elif socket.gethostname() == \"dijkstra\":\n",
    "    load_path = '/data5/model_weights/'+auto_args.uid+\"/\"\n",
    "else:\n",
    "    load_path = \"./model_weights/\"+auto_args.uid+\"/\"\n",
    "\n",
    "Decoder = Decoder.to(device)\n",
    "\n",
    "print('--------------------- Evaluating -------------------------------')\n",
    "\n",
    "### investigate a specific epochs\n",
    "i = DECODER_STATE_DICT_NUMBER\n",
    "###\n",
    "\n",
    "map_location=torch.device(args.device)\n",
    "if LOAD_DECODER_STATE_DICT:\n",
    "    Decoder.load_state_dict(torch.load(load_path + 'epoch_' + str(i + 1).zfill(3) + '.pth',map_location=map_location))\n",
    "\n",
    "print(H.shape)\n",
    "\n",
    "with torch.no_grad():\n",
    "    outputs = Decoder(torch.transpose(H, 0, 1))"
   ]
  },
  {
   "cell_type": "code",
   "execution_count": null,
   "id": "6e38f26f-c464-4e6c-82f3-13ae7c8203d9",
   "metadata": {},
   "outputs": [
    {
     "data": {
      "image/png": "[encoded data removed]",
      "text/plain": [
       "<Figure size 2000x200 with 10 Axes>"
      ]
     },
     "metadata": {},
     "output_type": "display_data"
    }
   ],
   "source": [
    "visualize_images(outputs.cpu(), labels)\n",
    "\n",
    "## To-do list:\n",
    "## Write a function that find each ETF center label\n",
    "## Lexing thinks that the 512 dimension might be too large\n",
    "## "
   ]
  }
 ],
 "metadata": {
  "kernelspec": {
   "display_name": "Python 3 (ipykernel)",
   "language": "python",
   "name": "python3"
  },
  "language_info": {
   "codemirror_mode": {
    "name": "ipython",
    "version": 3
   },
   "file_extension": ".py",
   "mimetype": "text/x-python",
   "name": "python",
   "nbconvert_exporter": "python",
   "pygments_lexer": "ipython3",
   "version": "3.11.5"
  }
 },
 "nbformat": 4,
 "nbformat_minor": 5
}
