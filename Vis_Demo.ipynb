{
 "cells": [
  {
   "cell_type": "markdown",
   "id": "bffe843d",
   "metadata": {},
   "source": [
    "# Neural Collapse and Data Distillatioin"
   ]
  },
  {
   "cell_type": "markdown",
   "id": "56a3ad8e",
   "metadata": {},
   "source": [
    "This notebook implements an advanced data distillation algorithm utilizing the recent finding in neural collapse. \n",
    "\n",
    "The main papers considered here are \n",
    " - data distillation:\n",
    "     - https://github.com/SsnL/dataset-distillation \n",
    "     - https://github.com/google-research/google-research/tree/master/kip\n",
    " - Neural Collapse:\n",
    "     - https://github.com/tding1/Neural-Collapse. \n",
    "\n",
    "The neural network has fixed the last layer weight matrix to be a simplex ETF. The ETF is a benign optimization landscape empeirically observed in practice as long as the network enters its terminal phase.\n",
    "\n",
    "Below we configure our path to the dataset distillation packages from https://github.com/SsnL/dataset-distillation."
   ]
  },
  {
   "cell_type": "markdown",
   "id": "f311a3b7",
   "metadata": {},
   "source": [
    "# Import"
   ]
  },
  {
   "cell_type": "code",
   "execution_count": 1,
   "id": "0ae09394",
   "metadata": {},
   "outputs": [],
   "source": [
    "import torch\n",
    "import torch.nn as nn\n",
    "import torch.optim as optim\n",
    "from torch import Tensor\n",
    "import torch.nn.functional as F\n",
    "import torchvision.transforms as transforms\n",
    "from torchvision.datasets import CIFAR10, MNIST\n",
    "from torch.utils.data import DataLoader, Dataset\n",
    "import numpy as np\n",
    "import copy\n",
    "from contextlib import contextmanager\n",
    "\n",
    "from six import add_metaclass\n",
    "from typing import Type, Any, Callable, Union, List, Optional"
   ]
  },
  {
   "cell_type": "markdown",
   "id": "67cb3e76",
   "metadata": {},
   "source": [
    "Let's import the file from the https://github.com/tding1/Neural-Collapse."
   ]
  },
  {
   "cell_type": "code",
   "execution_count": 3,
   "id": "3a3f1a82",
   "metadata": {},
   "outputs": [],
   "source": [
    "import models\n",
    "from models import resnet_decode\n",
    "from models.res_adapt import ResNet18_adapt\n",
    "from utils import *\n",
    "\n",
    "from train_Encoder import train\n",
    "from validate_NC import *\n",
    "\n",
    "from validate_NC import compute_Wh_b_relation, compute_W_H_relation, compute_ETF, compute_Sigma_B, compute_Sigma_W,compute_info,FCFeatures\n",
    "from data.datasets import make_dataset\n",
    "from data.data_loading import get_cifar10_data_loaders\n",
    "from arg_loader import *\n",
    "import time"
   ]
  },
  {
   "cell_type": "markdown",
   "id": "29ea729a",
   "metadata": {},
   "source": [
    "# Load Parameters"
   ]
  },
  {
   "cell_type": "code",
   "execution_count": 13,
   "id": "b5690d43",
   "metadata": {},
   "outputs": [],
   "source": [
    "# architecture params\n",
    "model='resnet18'\n",
    "\n",
    "# dataset\n",
    "dataset='mnist'\n",
    "data_dir='~/data'\n",
    "\n",
    "# training params\n",
    "epochs = 1\n",
    "optimizer=\"LBFGS\"\n",
    "lr=0.1\n",
    "history_size=10\n",
    "batch_size=1024\n",
    "uid=\"tmp19\"\n",
    "SOTA=False\n",
    "\n",
    "# Network params\n",
    "loss = 'CrossEntropy'\n",
    "bias=True\n",
    "#######################\n",
    "\"\"\"\n",
    "Here, we plug in the ETF to our model\n",
    "\"\"\"\n",
    "ETF_fc=True\n",
    "#######################\n",
    "fixdim=0"
   ]
  },
  {
   "cell_type": "code",
   "execution_count": 6,
   "id": "2044f7d9",
   "metadata": {},
   "outputs": [
    {
     "name": "stdout",
     "output_type": "stream",
     "text": [
      "Using device: mps, Apple Silicon GPU\n"
     ]
    }
   ],
   "source": [
    "if torch.cuda.is_available():\n",
    "    device = torch.device(\"cuda:\"+str(gpu_id))\n",
    "    device_name = torch.cuda.get_device_name(0)\n",
    "    # \n",
    "    torch.cuda.empty_cache()\n",
    "    if check:\n",
    "        torch.cuda.memory_allocated()\n",
    "elif torch.backends.mps.is_available():\n",
    "    device = torch.device(\"mps\")\n",
    "    device_name = \"Apple Silicon GPU\"\n",
    "else:\n",
    "    device = torch.device(\"cpu\")\n",
    "    device_name = \"CPU\"\n",
    "\n",
    "print(f\"Using device: {device}, {device_name}\")"
   ]
  },
  {
   "cell_type": "code",
   "execution_count": 14,
   "id": "f9955b77",
   "metadata": {},
   "outputs": [],
   "source": [
    "args = args(model=model, dataset=dataset, optimizer=optimizer, lr = lr, loss = loss,\n",
    "            history_size=history_size, batch_size = batch_size, epochs=1,\n",
    "            uid = uid, device = device)"
   ]
  },
  {
   "cell_type": "markdown",
   "id": "c42c7957",
   "metadata": {},
   "source": [
    "# Load Dataset\n",
    "\n",
    "Let's load the dataset from some externel sources. To do the data distillation on the machine, we need to find a way to:\n",
    "\n",
    "- Randomly generate data to distill, which require gradients.\n",
    "- Combined the generated data with our training data.\n",
    "- Start to training the neural network (run the data distillation algorithm)\n",
    "- Extract the distilled data from the training data and investigate it."
   ]
  },
  {
   "cell_type": "code",
   "execution_count": 7,
   "id": "5badcb19",
   "metadata": {},
   "outputs": [
    {
     "name": "stdout",
     "output_type": "stream",
     "text": [
      "Downloading http://yann.lecun.com/exdb/mnist/train-images-idx3-ubyte.gz\n",
      "Downloading http://yann.lecun.com/exdb/mnist/train-images-idx3-ubyte.gz to mnist/MNIST/raw/train-images-idx3-ubyte.gz\n"
     ]
    },
    {
     "name": "stderr",
     "output_type": "stream",
     "text": [
      "100%|████████████████████████████| 9912422/9912422 [00:06<00:00, 1621382.65it/s]\n"
     ]
    },
    {
     "name": "stdout",
     "output_type": "stream",
     "text": [
      "Extracting mnist/MNIST/raw/train-images-idx3-ubyte.gz to mnist/MNIST/raw\n",
      "\n",
      "Downloading http://yann.lecun.com/exdb/mnist/train-labels-idx1-ubyte.gz\n",
      "Downloading http://yann.lecun.com/exdb/mnist/train-labels-idx1-ubyte.gz to mnist/MNIST/raw/train-labels-idx1-ubyte.gz\n"
     ]
    },
    {
     "name": "stderr",
     "output_type": "stream",
     "text": [
      "100%|████████████████████████████████| 28881/28881 [00:00<00:00, 2432248.29it/s]"
     ]
    },
    {
     "name": "stdout",
     "output_type": "stream",
     "text": [
      "Extracting mnist/MNIST/raw/train-labels-idx1-ubyte.gz to mnist/MNIST/raw\n",
      "\n",
      "Downloading http://yann.lecun.com/exdb/mnist/t10k-images-idx3-ubyte.gz\n"
     ]
    },
    {
     "name": "stderr",
     "output_type": "stream",
     "text": [
      "\n"
     ]
    },
    {
     "name": "stdout",
     "output_type": "stream",
     "text": [
      "Downloading http://yann.lecun.com/exdb/mnist/t10k-images-idx3-ubyte.gz to mnist/MNIST/raw/t10k-images-idx3-ubyte.gz\n"
     ]
    },
    {
     "name": "stderr",
     "output_type": "stream",
     "text": [
      "100%|████████████████████████████| 1648877/1648877 [00:01<00:00, 1437421.99it/s]\n"
     ]
    },
    {
     "name": "stdout",
     "output_type": "stream",
     "text": [
      "Extracting mnist/MNIST/raw/t10k-images-idx3-ubyte.gz to mnist/MNIST/raw\n",
      "\n",
      "Downloading http://yann.lecun.com/exdb/mnist/t10k-labels-idx1-ubyte.gz\n",
      "Downloading http://yann.lecun.com/exdb/mnist/t10k-labels-idx1-ubyte.gz to mnist/MNIST/raw/t10k-labels-idx1-ubyte.gz\n"
     ]
    },
    {
     "name": "stderr",
     "output_type": "stream",
     "text": [
      "100%|██████████████████████████████████| 4542/4542 [00:00<00:00, 3952391.86it/s]"
     ]
    },
    {
     "name": "stdout",
     "output_type": "stream",
     "text": [
      "Extracting mnist/MNIST/raw/t10k-labels-idx1-ubyte.gz to mnist/MNIST/raw\n",
      "\n"
     ]
    },
    {
     "name": "stderr",
     "output_type": "stream",
     "text": [
      "\n"
     ]
    }
   ],
   "source": [
    "from torchvision.datasets import CIFAR10, MNIST\n",
    "\n",
    "trainset = MNIST(root='mnist', train=True, download=True, transform=transforms.Compose([\n",
    "        transforms.Grayscale(3),\n",
    "        transforms.Resize(32),\n",
    "        transforms.ToTensor(),\n",
    "        transforms.Normalize((0.1307,), (0.3081,))\n",
    "        ]))\n",
    "\n",
    "testset = MNIST(root='mnist', train=False, download=True, transform=transforms.Compose([\n",
    "    transforms.Grayscale(3),\n",
    "    transforms.Resize(32),\n",
    "    transforms.ToTensor(),\n",
    "    transforms.Normalize((0.1307,), (0.3081,))\n",
    "    ]))"
   ]
  },
  {
   "cell_type": "code",
   "execution_count": 11,
   "id": "da924589",
   "metadata": {},
   "outputs": [
    {
     "data": {
      "text/plain": [
       "torchvision.datasets.mnist.MNIST"
      ]
     },
     "execution_count": 11,
     "metadata": {},
     "output_type": "execute_result"
    }
   ],
   "source": [
    "type(trainset)"
   ]
  },
  {
   "cell_type": "code",
   "execution_count": 12,
   "id": "c8d2fde7",
   "metadata": {},
   "outputs": [
    {
     "name": "stdout",
     "output_type": "stream",
     "text": [
      "<class 'torch.Tensor'>\n"
     ]
    },
    {
     "data": {
      "text/plain": [
       "<matplotlib.image.AxesImage at 0x28fbd30d0>"
      ]
     },
     "execution_count": 12,
     "metadata": {},
     "output_type": "execute_result"
    },
    {
     "data": {
      "image/png": "[encoded data removed]",
      "text/plain": [
       "<Figure size 640x480 with 1 Axes>"
      ]
     },
     "metadata": {},
     "output_type": "display_data"
    }
   ],
   "source": [
    "import matplotlib.pyplot as plt\n",
    "\n",
    "x, _ = trainset[47802]\n",
    "print(type(x))\n",
    "plt.imshow(x.numpy()[0], cmap='gray')"
   ]
  },
  {
   "cell_type": "code",
   "execution_count": 14,
   "id": "7eac78b9",
   "metadata": {},
   "outputs": [
    {
     "name": "stdout",
     "output_type": "stream",
     "text": [
      "Files already downloaded and verified\n"
     ]
    }
   ],
   "source": [
    "trainset = CIFAR10(root=data_dir, train=True, download=True, transform=transforms.Compose([\n",
    "                transforms.RandomCrop(size=32, padding=4),\n",
    "                transforms.RandomHorizontalFlip(p=0.5),\n",
    "\n",
    "                transforms.ToTensor(),\n",
    "                transforms.Normalize(mean=[0.4914, 0.4822, 0.4465], std=[0.2023, 0.1994, 0.2010]),\n",
    "                ]))"
   ]
  },
  {
   "cell_type": "code",
   "execution_count": 15,
   "id": "c24ef81f",
   "metadata": {},
   "outputs": [
    {
     "name": "stdout",
     "output_type": "stream",
     "text": [
      "Files already downloaded and verified\n",
      "Files already downloaded and verified\n"
     ]
    }
   ],
   "source": [
    "trainset = CIFAR10(root=data_dir, train=True, download=True, transform=transforms.Compose([\n",
    "        transforms.ToTensor(),\n",
    "        transforms.Normalize(mean=[0.4914, 0.4822, 0.4465], std=[0.2023, 0.1994, 0.2010]),\n",
    "    ]))\n",
    "\n",
    "testset = CIFAR10(root=data_dir, train=False, download=True, transform=transforms.Compose([\n",
    "    transforms.ToTensor(),\n",
    "    transforms.Normalize(mean=[0.4914, 0.4822, 0.4465], std=[0.2023, 0.1994, 0.2010]),\n",
    "    ]))"
   ]
  },
  {
   "cell_type": "code",
   "execution_count": 16,
   "id": "99a29726",
   "metadata": {},
   "outputs": [
    {
     "data": {
      "text/plain": [
       "torchvision.datasets.cifar.CIFAR10"
      ]
     },
     "execution_count": 16,
     "metadata": {},
     "output_type": "execute_result"
    }
   ],
   "source": [
    "type(trainset)"
   ]
  },
  {
   "cell_type": "code",
   "execution_count": 18,
   "id": "424833b0",
   "metadata": {},
   "outputs": [
    {
     "name": "stdout",
     "output_type": "stream",
     "text": [
      "Files already downloaded and verified\n"
     ]
    },
    {
     "name": "stderr",
     "output_type": "stream",
     "text": [
      "Clipping input data to the valid range for imshow with RGB data ([0..1] for floats or [0..255] for integers).\n"
     ]
    },
    {
     "data": {
      "image/png": "[encoded data removed]",
      "text/plain": [
       "<Figure size 640x480 with 1 Axes>"
      ]
     },
     "metadata": {},
     "output_type": "display_data"
    },
    {
     "name": "stderr",
     "output_type": "stream",
     "text": [
      "Clipping input data to the valid range for imshow with RGB data ([0..1] for floats or [0..255] for integers).\n"
     ]
    },
    {
     "data": {
      "image/png": "[encoded data removed]",
      "text/plain": [
       "<Figure size 640x480 with 1 Axes>"
      ]
     },
     "metadata": {},
     "output_type": "display_data"
    },
    {
     "name": "stderr",
     "output_type": "stream",
     "text": [
      "Clipping input data to the valid range for imshow with RGB data ([0..1] for floats or [0..255] for integers).\n"
     ]
    },
    {
     "data": {
      "image/png": "[encoded data removed]",
      "text/plain": [
       "<Figure size 640x480 with 1 Axes>"
      ]
     },
     "metadata": {},
     "output_type": "display_data"
    },
    {
     "name": "stderr",
     "output_type": "stream",
     "text": [
      "Clipping input data to the valid range for imshow with RGB data ([0..1] for floats or [0..255] for integers).\n"
     ]
    },
    {
     "data": {
      "image/png": "[encoded data removed]",
      "text/plain": [
       "<Figure size 640x480 with 1 Axes>"
      ]
     },
     "metadata": {},
     "output_type": "display_data"
    },
    {
     "name": "stderr",
     "output_type": "stream",
     "text": [
      "Clipping input data to the valid range for imshow with RGB data ([0..1] for floats or [0..255] for integers).\n"
     ]
    },
    {
     "data": {
      "image/png": "[encoded data removed]",
      "text/plain": [
       "<Figure size 640x480 with 1 Axes>"
      ]
     },
     "metadata": {},
     "output_type": "display_data"
    },
    {
     "name": "stderr",
     "output_type": "stream",
     "text": [
      "Clipping input data to the valid range for imshow with RGB data ([0..1] for floats or [0..255] for integers).\n"
     ]
    },
    {
     "data": {
      "image/png": "[encoded data removed]",
      "text/plain": [
       "<Figure size 640x480 with 1 Axes>"
      ]
     },
     "metadata": {},
     "output_type": "display_data"
    },
    {
     "name": "stderr",
     "output_type": "stream",
     "text": [
      "Clipping input data to the valid range for imshow with RGB data ([0..1] for floats or [0..255] for integers).\n"
     ]
    },
    {
     "data": {
      "image/png": "[encoded data removed]",
      "text/plain": [
       "<Figure size 640x480 with 1 Axes>"
      ]
     },
     "metadata": {},
     "output_type": "display_data"
    }
   ],
   "source": [
    "# show_cifar.py\n",
    "# Python 3.7.6  PyTorch 1.6.0  TorchVision 0.7.0\n",
    "\n",
    "import torch as T\n",
    "import torchvision as tv\n",
    "import torchvision.transforms as transforms\n",
    "import matplotlib.pyplot as plt\n",
    "import numpy as np\n",
    "\n",
    "def imshow(img):\n",
    "    img = img / 2 + 0.5   # unnormalize\n",
    "    npimg = img.numpy()   # convert from tensor\n",
    "    plt.imshow(np.transpose(npimg, (1, 2, 0))) \n",
    "    plt.show()\n",
    "\n",
    "\n",
    "trainset = CIFAR10(root=data_dir, train=True, download=True, transform=transforms.Compose([\n",
    "        transforms.ToTensor(),\n",
    "        transforms.Normalize(mean=[0.4914, 0.4822, 0.4465], std=[0.2023, 0.1994, 0.2010]),\n",
    "    ]))\n",
    "trainloader = T.utils.data.DataLoader(trainset,\n",
    "                                      batch_size=100, shuffle=False, num_workers=1)\n",
    "\n",
    "# Check if trainloader is loaded\n",
    "if trainloader is None:\n",
    "    raise ValueError(\"Trainloader is not loaded. Please load it before running this script.\")\n",
    "\n",
    "dataiter = iter(trainloader)\n",
    "imgs, lbls = next(dataiter)\n",
    "for i in range(100):  # show just the frogs\n",
    "    if lbls[i] == 6:  # 6 = frog\n",
    "        imshow(tv.utils.make_grid(imgs[i]))\n"
   ]
  },
  {
   "cell_type": "code",
   "execution_count": 19,
   "id": "d0ac8491",
   "metadata": {},
   "outputs": [
    {
     "name": "stdout",
     "output_type": "stream",
     "text": [
      "Dataset: MNIST.\n",
      "<torch.utils.data.dataloader.DataLoader object at 0x2a38d8f50>\n"
     ]
    }
   ],
   "source": [
    "trainloader, _, num_classes = make_dataset(dataset, \n",
    "                                           data_dir, \n",
    "                                           batch_size, \n",
    "                                           SOTA=SOTA)\n",
    "print(trainloader)"
   ]
  },
  {
   "cell_type": "code",
   "execution_count": 20,
   "id": "8fc8508d",
   "metadata": {},
   "outputs": [
    {
     "name": "stdout",
     "output_type": "stream",
     "text": [
      "The number of class in our training set is  10\n",
      "Batch size: 1024 , Number of channels: 3 , input height: 32 , input width: 32\n"
     ]
    }
   ],
   "source": [
    "images, labels = next(iter(trainloader))\n",
    "size_train, channels, height, width = images.shape\n",
    "nc = channels\n",
    "input_size = height, width\n",
    "print(\"The number of class in our training set is \", num_classes)\n",
    "print(\"Batch size:\", size_train, \n",
    "      \", Number of channels:\", channels, \n",
    "      \", input height:\", height, \n",
    "      \", input width:\", width)"
   ]
  },
  {
   "cell_type": "code",
   "execution_count": 21,
   "id": "cf0b3eab",
   "metadata": {},
   "outputs": [],
   "source": [
    "def generate_distilled_images(train_dataset, num_images_per_class, image_shape, device):\n",
    "    \"\"\"\n",
    "    Generates distilled images with gradients enabled, using labels from the training dataset.\n",
    "\n",
    "    Parameters:\n",
    "    - train_dataset: The training dataset to extract label information.\n",
    "    - num_images_per_class: Number of distilled images to generate per class.\n",
    "    - image_shape: Tuple (channels, height, width) representing the shape of the images.\n",
    "    - device: The device to generate the images on ('cpu' or 'cuda').\n",
    "\n",
    "    Returns:\n",
    "    - A tuple of two PyTorch tensors:\n",
    "      1. Tensor containing the distilled images with gradients enabled.\n",
    "      2. Tensor containing the corresponding labels for each image.\n",
    "    \"\"\"\n",
    "    # Extract unique labels from the training dataset\n",
    "    unique_labels = list(set(train_dataset.targets))\n",
    "    label_to_index = {label: idx for idx, label in enumerate(unique_labels)}\n",
    "\n",
    "    distilled_images = []\n",
    "    labels = []\n",
    "\n",
    "    for label in unique_labels:\n",
    "        # Generate random images for this label\n",
    "        images = torch.randn(num_images_per_class, *image_shape, requires_grad=True).to(device)\n",
    "        distilled_images.append(images)\n",
    "\n",
    "        # Assign labels based on the training dataset\n",
    "        labels += [label_to_index[label]] * num_images_per_class\n",
    "\n",
    "    # Concatenate all images and labels into single tensors\n",
    "    distilled_tensor = torch.cat(distilled_images, dim=0)\n",
    "    labels_tensor = torch.tensor(labels, dtype=torch.long).to(device)\n",
    "\n",
    "    return distilled_tensor, labels_tensor\n"
   ]
  },
  {
   "cell_type": "code",
   "execution_count": 22,
   "id": "b6c2b1a0",
   "metadata": {},
   "outputs": [],
   "source": [
    "def generate_distilled_dataset(trainloader, num_images_per_class, device):\n",
    "    images, labels = next(iter(trainloader))\n",
    "    _, channels, height, width = images.shape\n",
    "    num_classes = len(torch.unique(labels))\n",
    "\n",
    "    distilled_data, distilled_labels = generate_distilled_images(\n",
    "        trainloader.dataset, num_images_per_class, (channels, height, width), device\n",
    "    )\n",
    "\n",
    "    return distilled_data, distilled_labels"
   ]
  },
  {
   "cell_type": "code",
   "execution_count": 23,
   "id": "4dcb3dbe",
   "metadata": {},
   "outputs": [],
   "source": [
    "distilled_data, distilled_labels = generate_distilled_dataset(trainloader, \n",
    "                                                              num_images_per_class = 1, \n",
    "                                                              device = \"cpu\")\n"
   ]
  },
  {
   "cell_type": "code",
   "execution_count": 24,
   "id": "22bb4f02",
   "metadata": {},
   "outputs": [
    {
     "data": {
      "text/plain": [
       "torch.Tensor"
      ]
     },
     "execution_count": 24,
     "metadata": {},
     "output_type": "execute_result"
    }
   ],
   "source": [
    "type(distilled_labels)"
   ]
  },
  {
   "cell_type": "code",
   "execution_count": 25,
   "id": "344b0da8",
   "metadata": {},
   "outputs": [],
   "source": [
    "import torch\n",
    "from torch.utils.data import Dataset\n",
    "\n",
    "class CombinedDataset(Dataset):\n",
    "    def __init__(self, original_dataset, distilled_images, distilled_labels):\n",
    "        self.original_dataset = original_dataset\n",
    "        self.distilled_images = distilled_images\n",
    "        self.distilled_labels = distilled_labels\n",
    "        self.distilled_start_index = len(self.original_dataset)\n",
    "\n",
    "    def __len__(self):\n",
    "        return len(self.original_dataset) + len(self.distilled_images)\n",
    "\n",
    "    def __getitem__(self, idx):\n",
    "        if idx < self.distilled_start_index:\n",
    "            return self.original_dataset[idx]\n",
    "        else:\n",
    "            distilled_idx = idx - self.distilled_start_index\n",
    "            return self.distilled_images[distilled_idx], self.distilled_labels[distilled_idx]\n",
    "\n",
    "def combine_datasets(trainloader, distilled_data, distilled_labels):\n",
    "    combined_dataset = CombinedDataset(trainloader.dataset, distilled_data, distilled_labels)\n",
    "    return combined_dataset\n"
   ]
  },
  {
   "cell_type": "code",
   "execution_count": 26,
   "id": "135cba8e",
   "metadata": {},
   "outputs": [],
   "source": [
    "combined_dataset = combine_datasets(trainloader, distilled_data, distilled_labels)"
   ]
  },
  {
   "cell_type": "code",
   "execution_count": 27,
   "id": "aa3e4b0e",
   "metadata": {},
   "outputs": [],
   "source": [
    "combined_loader = DataLoader(combined_dataset, batch_size=64, shuffle=True, num_workers=2)"
   ]
  },
  {
   "cell_type": "code",
   "execution_count": 28,
   "id": "e07a4a97",
   "metadata": {},
   "outputs": [],
   "source": [
    "def extract_distilled_data_from_loader(combined_loader, distilled_start_index):\n",
    "    \"\"\"\n",
    "    Extracts the distilled data from a combined DataLoader.\n",
    "\n",
    "    Parameters:\n",
    "    - combined_loader: DataLoader containing the combined dataset.\n",
    "    - distilled_start_index: The starting index of the distilled data in the combined dataset.\n",
    "\n",
    "    Returns:\n",
    "    - A list of tuples containing distilled images and their labels.\n",
    "    \"\"\"\n",
    "    distilled_data = []\n",
    "    current_index = 0\n",
    "\n",
    "    for images, labels in combined_loader:\n",
    "        batch_size = images.shape[0]\n",
    "        end_index = current_index + batch_size\n",
    "\n",
    "        if end_index <= distilled_start_index:\n",
    "            # Entire batch is before the distilled data, skip it\n",
    "            current_index = end_index\n",
    "            continue\n",
    "\n",
    "        if current_index >= distilled_start_index:\n",
    "            # Entire batch is distilled data\n",
    "            distilled_data.extend(zip(images, labels))\n",
    "        else:\n",
    "            # Batch contains some distilled data\n",
    "            start_distilled = distilled_start_index - current_index\n",
    "            distilled_data.extend(zip(images[start_distilled:], labels[start_distilled:]))\n",
    "\n",
    "        current_index = end_index\n",
    "        if current_index >= len(combined_loader.dataset):\n",
    "            break\n",
    "\n",
    "    return distilled_data\n"
   ]
  },
  {
   "cell_type": "code",
   "execution_count": 54,
   "id": "5b254f91",
   "metadata": {},
   "outputs": [],
   "source": [
    "class Dataset(torch.utils.data.Dataset):\n",
    "    'Characterizes a dataset for PyTorch'\n",
    "    def __init__(self, list_IDs, labels):\n",
    "        'Initialization'\n",
    "        self.labels = labels\n",
    "        self.list_IDs = list_IDs\n",
    "    \n",
    "    def __len__(self):\n",
    "        'Denotes the total number of samples'\n",
    "        return len(self.list_IDs)\n",
    "    \n",
    "    def __getitem__(self, index):\n",
    "        'Generates one sample of data'\n",
    "        # Select sample\n",
    "        ID = self.list_IDs[index]\n",
    "\n",
    "        # Load data and get label\n",
    "        X = torch.load('data/' + ID + '.pt')\n",
    "        y = self.labels[ID]\n",
    "\n",
    "        return X, y"
   ]
  },
  {
   "cell_type": "code",
   "execution_count": 29,
   "id": "8a69f683",
   "metadata": {},
   "outputs": [
    {
     "ename": "TypeError",
     "evalue": "Dataset() takes no arguments",
     "output_type": "error",
     "traceback": [
      "\u001b[0;31m---------------------------------------------------------------------------\u001b[0m",
      "\u001b[0;31mTypeError\u001b[0m                                 Traceback (most recent call last)",
      "Cell \u001b[0;32mIn[29], line 1\u001b[0m\n\u001b[0;32m----> 1\u001b[0m distil_set \u001b[38;5;241m=\u001b[39m Dataset(distilled_data, distilled_labels)\n\u001b[1;32m      2\u001b[0m distil_loader \u001b[38;5;241m=\u001b[39m torch\u001b[38;5;241m.\u001b[39mutils\u001b[38;5;241m.\u001b[39mdata\u001b[38;5;241m.\u001b[39mDataLoader(distil_set)\n",
      "\u001b[0;31mTypeError\u001b[0m: Dataset() takes no arguments"
     ]
    }
   ],
   "source": [
    "distil_set = Dataset(distilled_data, distilled_labels)\n",
    "distil_loader = torch.utils.data.DataLoader(distil_set)"
   ]
  },
  {
   "cell_type": "code",
   "execution_count": 30,
   "id": "19f19d24",
   "metadata": {},
   "outputs": [
    {
     "ename": "NameError",
     "evalue": "name 'distil_generator' is not defined",
     "output_type": "error",
     "traceback": [
      "\u001b[0;31m---------------------------------------------------------------------------\u001b[0m",
      "\u001b[0;31mNameError\u001b[0m                                 Traceback (most recent call last)",
      "Cell \u001b[0;32mIn[30], line 1\u001b[0m\n\u001b[0;32m----> 1\u001b[0m \u001b[38;5;28mtype\u001b[39m(distil_generator)\n",
      "\u001b[0;31mNameError\u001b[0m: name 'distil_generator' is not defined"
     ]
    }
   ],
   "source": [
    "type(distil_generator)"
   ]
  },
  {
   "cell_type": "markdown",
   "id": "87c34406",
   "metadata": {},
   "source": [
    "# Load Model"
   ]
  },
  {
   "cell_type": "markdown",
   "id": "847b2fa2",
   "metadata": {},
   "source": [
    "As we can directly calculate the ETF, we can fixed the last layer of the large neural network as a ETF. The paper https://arxiv.org/abs/2105.02375 has shown the math equation for the ETF. "
   ]
  },
  {
   "cell_type": "code",
   "execution_count": 76,
   "id": "7ce32c81",
   "metadata": {},
   "outputs": [
    {
     "name": "stdout",
     "output_type": "stream",
     "text": [
      "# of model parameters: 11181642\n",
      "<class 'models.resnet.ResNet'>\n"
     ]
    }
   ],
   "source": [
    "model = models.__dict__[args.model](num_classes=num_classes, \n",
    "                                    fc_bias=bias, \n",
    "                                    ETF_fc=False, \n",
    "                                    fixdim=fixdim, \n",
    "                                    SOTA=SOTA).to(\"cpu\")\n",
    "\n",
    "print('# of model parameters: ' + str(count_network_parameters(model)))\n",
    "print(type(model))"
   ]
  },
  {
   "cell_type": "code",
   "execution_count": 77,
   "id": "3ce8c637",
   "metadata": {},
   "outputs": [
    {
     "name": "stdout",
     "output_type": "stream",
     "text": [
      "# of model parameters: 11176522\n",
      "<class 'models.resnet.ResNet'>\n"
     ]
    }
   ],
   "source": [
    "model = models.__dict__[args.model](num_classes=num_classes, \n",
    "                                    fc_bias=bias, \n",
    "                                    ETF_fc=True, \n",
    "                                    fixdim=fixdim, \n",
    "                                    SOTA=SOTA).to(\"cpu\")\n",
    "\n",
    "print('# of model parameters: ' + str(count_network_parameters(model)))\n",
    "print(type(model))"
   ]
  },
  {
   "cell_type": "markdown",
   "id": "40447c5d",
   "metadata": {},
   "source": [
    "Once the last layer parameters have been fixed, the parameters of our neural network reduce by 5120."
   ]
  },
  {
   "cell_type": "code",
   "execution_count": 78,
   "id": "ae7984ce",
   "metadata": {},
   "outputs": [
    {
     "data": {
      "text/plain": [
       "5120"
      ]
     },
     "execution_count": 78,
     "metadata": {},
     "output_type": "execute_result"
    }
   ],
   "source": [
    "11181642 - 11176522"
   ]
  },
  {
   "cell_type": "markdown",
   "id": "3436d9ef",
   "metadata": {},
   "source": [
    "# Data distillation Algorithm"
   ]
  },
  {
   "cell_type": "code",
   "execution_count": 85,
   "id": "d4451caa",
   "metadata": {},
   "outputs": [],
   "source": [
    "def trainer(args, model, trainloader, epoch_id, criterion, optimizer):\n",
    "\n",
    "    losses = AverageMeter()\n",
    "    top1 = AverageMeter()\n",
    "    top5 = AverageMeter()\n",
    "\n",
    "    for batch_idx, ((inputs, targets), (distilled_data, distilled_labels)) in enumerate(zip(trainloader, distil_loader)):\n",
    "\n",
    "        inputs, targets = inputs.to(args.device), targets.to(args.device)\n",
    "        \n",
    "        ###\n",
    "        distilled_data, distilled_labels = distilled_data.to(args.device), distilled_labels.to(args.device)\n",
    "        ###\n",
    "\n",
    "        model.train()\n",
    "\n",
    "        def closure():\n",
    "            outputs = model(inputs)\n",
    "            \n",
    "            ###\n",
    "            distill_output = model(distilled_data)\n",
    "            ###\n",
    "\n",
    "            if args.loss == 'CrossEntropy':\n",
    "                loss = criterion(outputs[0], targets) + weight_decay(args, model)\n",
    "                ###\n",
    "                loss += criterion(distill_output[0], distilled_labels) + weight_decay(args, model)\n",
    "                ###\n",
    "                \n",
    "            elif args.loss == 'MSE':\n",
    "                loss = criterion(outputs[0], nn.functional.one_hot(targets).type(torch.FloatTensor).to(args.device)) \\\n",
    "                       + weight_decay(args, model)\n",
    "                ###\n",
    "                loss += criterion(distill_output[0], nn.functional.one_hot(distilled_labels).type(torch.FloatTensor).to(args.device)) \\\n",
    "                       + weight_decay(args, model)\n",
    "                ###\n",
    "\n",
    "            optimizer.zero_grad()\n",
    "            loss.backward()\n",
    "\n",
    "            return loss\n",
    "\n",
    "        optimizer.step(closure)\n",
    "\n",
    "        # measure accuracy and record loss\n",
    "        model.eval()\n",
    "        outputs = model(inputs)\n",
    "        prec1, prec5 = compute_accuracy(outputs[0].data, targets.data, topk=(1, 5))\n",
    "\n",
    "        if args.loss == 'CrossEntropy':\n",
    "            loss = criterion(outputs[0], targets) + weight_decay(args, model)\n",
    "        elif args.loss == 'MSE':\n",
    "            loss = criterion(outputs[0], nn.functional.one_hot(targets).type(torch.FloatTensor).to(args.device)) \\\n",
    "                   + weight_decay(args, model)\n",
    "\n",
    "        losses.update(loss.item(), inputs.size(0))\n",
    "        top1.update(prec1.item(), inputs.size(0))\n",
    "        top5.update(prec5.item(), inputs.size(0))\n",
    "\n",
    "        if batch_idx % 10 == 0:\n",
    "            print('[epoch: %d] (%d/%d) | Loss: %.4f | top1: %.4f | top5: %.4f ' %\n",
    "                           (epoch_id + 1, batch_idx + 1, len(trainloader), losses.avg, top1.avg, top5.avg))\n"
   ]
  },
  {
   "cell_type": "code",
   "execution_count": 86,
   "id": "0f5ccf6d",
   "metadata": {},
   "outputs": [
    {
     "data": {
      "text/plain": [
       "torch.utils.data.dataloader.DataLoader"
      ]
     },
     "execution_count": 86,
     "metadata": {},
     "output_type": "execute_result"
    }
   ],
   "source": [
    "type(trainloader)"
   ]
  },
  {
   "cell_type": "code",
   "execution_count": 87,
   "id": "43a28fae",
   "metadata": {},
   "outputs": [
    {
     "ename": "RuntimeError",
     "evalue": "Cowardly refusing to serialize non-leaf tensor which requires_grad, since autograd does not support crossing process boundaries.  If you just want to transfer the data, call detach() on the tensor before serializing (e.g., putting it on the queue).",
     "output_type": "error",
     "traceback": [
      "\u001b[0;31m---------------------------------------------------------------------------\u001b[0m",
      "\u001b[0;31mRuntimeError\u001b[0m                              Traceback (most recent call last)",
      "Cell \u001b[0;32mIn[87], line 9\u001b[0m\n\u001b[1;32m      6\u001b[0m logfile \u001b[38;5;241m=\u001b[39m \u001b[38;5;28mopen\u001b[39m(\u001b[38;5;124m'\u001b[39m\u001b[38;5;132;01m%s\u001b[39;00m\u001b[38;5;124m/log.txt\u001b[39m\u001b[38;5;124m'\u001b[39m \u001b[38;5;241m%\u001b[39m (args\u001b[38;5;241m.\u001b[39msave_path), \u001b[38;5;124m'\u001b[39m\u001b[38;5;124mw\u001b[39m\u001b[38;5;124m'\u001b[39m)\n\u001b[1;32m      8\u001b[0m \u001b[38;5;28;01mfor\u001b[39;00m epoch_id \u001b[38;5;129;01min\u001b[39;00m \u001b[38;5;28mrange\u001b[39m(args\u001b[38;5;241m.\u001b[39mepochs):\n\u001b[0;32m----> 9\u001b[0m     trainer(args, model, combined_loader, epoch_id, criterion, optimizer)\n\u001b[1;32m     10\u001b[0m     torch\u001b[38;5;241m.\u001b[39msave(model\u001b[38;5;241m.\u001b[39mstate_dict(), args\u001b[38;5;241m.\u001b[39msave_path \u001b[38;5;241m+\u001b[39m \u001b[38;5;124m\"\u001b[39m\u001b[38;5;124m/epoch_\u001b[39m\u001b[38;5;124m\"\u001b[39m \u001b[38;5;241m+\u001b[39m \u001b[38;5;28mstr\u001b[39m(epoch_id \u001b[38;5;241m+\u001b[39m \u001b[38;5;241m1\u001b[39m)\u001b[38;5;241m.\u001b[39mzfill(\u001b[38;5;241m3\u001b[39m) \u001b[38;5;241m+\u001b[39m \u001b[38;5;124m\"\u001b[39m\u001b[38;5;124m.pth\u001b[39m\u001b[38;5;124m\"\u001b[39m)\n\u001b[1;32m     12\u001b[0m logfile\u001b[38;5;241m.\u001b[39mclose()\n",
      "Cell \u001b[0;32mIn[85], line 7\u001b[0m, in \u001b[0;36mtrainer\u001b[0;34m(args, model, trainloader, epoch_id, criterion, optimizer)\u001b[0m\n\u001b[1;32m      4\u001b[0m top1 \u001b[38;5;241m=\u001b[39m AverageMeter()\n\u001b[1;32m      5\u001b[0m top5 \u001b[38;5;241m=\u001b[39m AverageMeter()\n\u001b[0;32m----> 7\u001b[0m \u001b[38;5;28;01mfor\u001b[39;00m batch_idx, ((inputs, targets), (distilled_data, distilled_labels)) \u001b[38;5;129;01min\u001b[39;00m \u001b[38;5;28menumerate\u001b[39m(\u001b[38;5;28mzip\u001b[39m(trainloader, distil_loader)):\n\u001b[1;32m      9\u001b[0m     inputs, targets \u001b[38;5;241m=\u001b[39m inputs\u001b[38;5;241m.\u001b[39mto(args\u001b[38;5;241m.\u001b[39mdevice), targets\u001b[38;5;241m.\u001b[39mto(args\u001b[38;5;241m.\u001b[39mdevice)\n\u001b[1;32m     11\u001b[0m     \u001b[38;5;66;03m###\u001b[39;00m\n",
      "File \u001b[0;32m~/anaconda3/lib/python3.11/site-packages/torch/utils/data/dataloader.py:438\u001b[0m, in \u001b[0;36mDataLoader.__iter__\u001b[0;34m(self)\u001b[0m\n\u001b[1;32m    436\u001b[0m     \u001b[38;5;28;01mreturn\u001b[39;00m \u001b[38;5;28mself\u001b[39m\u001b[38;5;241m.\u001b[39m_iterator\n\u001b[1;32m    437\u001b[0m \u001b[38;5;28;01melse\u001b[39;00m:\n\u001b[0;32m--> 438\u001b[0m     \u001b[38;5;28;01mreturn\u001b[39;00m \u001b[38;5;28mself\u001b[39m\u001b[38;5;241m.\u001b[39m_get_iterator()\n",
      "File \u001b[0;32m~/anaconda3/lib/python3.11/site-packages/torch/utils/data/dataloader.py:386\u001b[0m, in \u001b[0;36mDataLoader._get_iterator\u001b[0;34m(self)\u001b[0m\n\u001b[1;32m    384\u001b[0m \u001b[38;5;28;01melse\u001b[39;00m:\n\u001b[1;32m    385\u001b[0m     \u001b[38;5;28mself\u001b[39m\u001b[38;5;241m.\u001b[39mcheck_worker_number_rationality()\n\u001b[0;32m--> 386\u001b[0m     \u001b[38;5;28;01mreturn\u001b[39;00m _MultiProcessingDataLoaderIter(\u001b[38;5;28mself\u001b[39m)\n",
      "File \u001b[0;32m~/anaconda3/lib/python3.11/site-packages/torch/utils/data/dataloader.py:1039\u001b[0m, in \u001b[0;36m_MultiProcessingDataLoaderIter.__init__\u001b[0;34m(self, loader)\u001b[0m\n\u001b[1;32m   1032\u001b[0m w\u001b[38;5;241m.\u001b[39mdaemon \u001b[38;5;241m=\u001b[39m \u001b[38;5;28;01mTrue\u001b[39;00m\n\u001b[1;32m   1033\u001b[0m \u001b[38;5;66;03m# NB: Process.start() actually take some time as it needs to\u001b[39;00m\n\u001b[1;32m   1034\u001b[0m \u001b[38;5;66;03m#     start a process and pass the arguments over via a pipe.\u001b[39;00m\n\u001b[1;32m   1035\u001b[0m \u001b[38;5;66;03m#     Therefore, we only add a worker to self._workers list after\u001b[39;00m\n\u001b[1;32m   1036\u001b[0m \u001b[38;5;66;03m#     it started, so that we do not call .join() if program dies\u001b[39;00m\n\u001b[1;32m   1037\u001b[0m \u001b[38;5;66;03m#     before it starts, and __del__ tries to join but will get:\u001b[39;00m\n\u001b[1;32m   1038\u001b[0m \u001b[38;5;66;03m#     AssertionError: can only join a started process.\u001b[39;00m\n\u001b[0;32m-> 1039\u001b[0m w\u001b[38;5;241m.\u001b[39mstart()\n\u001b[1;32m   1040\u001b[0m \u001b[38;5;28mself\u001b[39m\u001b[38;5;241m.\u001b[39m_index_queues\u001b[38;5;241m.\u001b[39mappend(index_queue)\n\u001b[1;32m   1041\u001b[0m \u001b[38;5;28mself\u001b[39m\u001b[38;5;241m.\u001b[39m_workers\u001b[38;5;241m.\u001b[39mappend(w)\n",
      "File \u001b[0;32m~/anaconda3/lib/python3.11/multiprocessing/process.py:121\u001b[0m, in \u001b[0;36mBaseProcess.start\u001b[0;34m(self)\u001b[0m\n\u001b[1;32m    118\u001b[0m \u001b[38;5;28;01massert\u001b[39;00m \u001b[38;5;129;01mnot\u001b[39;00m _current_process\u001b[38;5;241m.\u001b[39m_config\u001b[38;5;241m.\u001b[39mget(\u001b[38;5;124m'\u001b[39m\u001b[38;5;124mdaemon\u001b[39m\u001b[38;5;124m'\u001b[39m), \\\n\u001b[1;32m    119\u001b[0m        \u001b[38;5;124m'\u001b[39m\u001b[38;5;124mdaemonic processes are not allowed to have children\u001b[39m\u001b[38;5;124m'\u001b[39m\n\u001b[1;32m    120\u001b[0m _cleanup()\n\u001b[0;32m--> 121\u001b[0m \u001b[38;5;28mself\u001b[39m\u001b[38;5;241m.\u001b[39m_popen \u001b[38;5;241m=\u001b[39m \u001b[38;5;28mself\u001b[39m\u001b[38;5;241m.\u001b[39m_Popen(\u001b[38;5;28mself\u001b[39m)\n\u001b[1;32m    122\u001b[0m \u001b[38;5;28mself\u001b[39m\u001b[38;5;241m.\u001b[39m_sentinel \u001b[38;5;241m=\u001b[39m \u001b[38;5;28mself\u001b[39m\u001b[38;5;241m.\u001b[39m_popen\u001b[38;5;241m.\u001b[39msentinel\n\u001b[1;32m    123\u001b[0m \u001b[38;5;66;03m# Avoid a refcycle if the target function holds an indirect\u001b[39;00m\n\u001b[1;32m    124\u001b[0m \u001b[38;5;66;03m# reference to the process object (see bpo-30775)\u001b[39;00m\n",
      "File \u001b[0;32m~/anaconda3/lib/python3.11/multiprocessing/context.py:224\u001b[0m, in \u001b[0;36mProcess._Popen\u001b[0;34m(process_obj)\u001b[0m\n\u001b[1;32m    222\u001b[0m \u001b[38;5;129m@staticmethod\u001b[39m\n\u001b[1;32m    223\u001b[0m \u001b[38;5;28;01mdef\u001b[39;00m \u001b[38;5;21m_Popen\u001b[39m(process_obj):\n\u001b[0;32m--> 224\u001b[0m     \u001b[38;5;28;01mreturn\u001b[39;00m _default_context\u001b[38;5;241m.\u001b[39mget_context()\u001b[38;5;241m.\u001b[39mProcess\u001b[38;5;241m.\u001b[39m_Popen(process_obj)\n",
      "File \u001b[0;32m~/anaconda3/lib/python3.11/multiprocessing/context.py:288\u001b[0m, in \u001b[0;36mSpawnProcess._Popen\u001b[0;34m(process_obj)\u001b[0m\n\u001b[1;32m    285\u001b[0m \u001b[38;5;129m@staticmethod\u001b[39m\n\u001b[1;32m    286\u001b[0m \u001b[38;5;28;01mdef\u001b[39;00m \u001b[38;5;21m_Popen\u001b[39m(process_obj):\n\u001b[1;32m    287\u001b[0m     \u001b[38;5;28;01mfrom\u001b[39;00m \u001b[38;5;21;01m.\u001b[39;00m\u001b[38;5;21;01mpopen_spawn_posix\u001b[39;00m \u001b[38;5;28;01mimport\u001b[39;00m Popen\n\u001b[0;32m--> 288\u001b[0m     \u001b[38;5;28;01mreturn\u001b[39;00m Popen(process_obj)\n",
      "File \u001b[0;32m~/anaconda3/lib/python3.11/multiprocessing/popen_spawn_posix.py:32\u001b[0m, in \u001b[0;36mPopen.__init__\u001b[0;34m(self, process_obj)\u001b[0m\n\u001b[1;32m     30\u001b[0m \u001b[38;5;28;01mdef\u001b[39;00m \u001b[38;5;21m__init__\u001b[39m(\u001b[38;5;28mself\u001b[39m, process_obj):\n\u001b[1;32m     31\u001b[0m     \u001b[38;5;28mself\u001b[39m\u001b[38;5;241m.\u001b[39m_fds \u001b[38;5;241m=\u001b[39m []\n\u001b[0;32m---> 32\u001b[0m     \u001b[38;5;28msuper\u001b[39m()\u001b[38;5;241m.\u001b[39m\u001b[38;5;21m__init__\u001b[39m(process_obj)\n",
      "File \u001b[0;32m~/anaconda3/lib/python3.11/multiprocessing/popen_fork.py:19\u001b[0m, in \u001b[0;36mPopen.__init__\u001b[0;34m(self, process_obj)\u001b[0m\n\u001b[1;32m     17\u001b[0m \u001b[38;5;28mself\u001b[39m\u001b[38;5;241m.\u001b[39mreturncode \u001b[38;5;241m=\u001b[39m \u001b[38;5;28;01mNone\u001b[39;00m\n\u001b[1;32m     18\u001b[0m \u001b[38;5;28mself\u001b[39m\u001b[38;5;241m.\u001b[39mfinalizer \u001b[38;5;241m=\u001b[39m \u001b[38;5;28;01mNone\u001b[39;00m\n\u001b[0;32m---> 19\u001b[0m \u001b[38;5;28mself\u001b[39m\u001b[38;5;241m.\u001b[39m_launch(process_obj)\n",
      "File \u001b[0;32m~/anaconda3/lib/python3.11/multiprocessing/popen_spawn_posix.py:47\u001b[0m, in \u001b[0;36mPopen._launch\u001b[0;34m(self, process_obj)\u001b[0m\n\u001b[1;32m     45\u001b[0m \u001b[38;5;28;01mtry\u001b[39;00m:\n\u001b[1;32m     46\u001b[0m     reduction\u001b[38;5;241m.\u001b[39mdump(prep_data, fp)\n\u001b[0;32m---> 47\u001b[0m     reduction\u001b[38;5;241m.\u001b[39mdump(process_obj, fp)\n\u001b[1;32m     48\u001b[0m \u001b[38;5;28;01mfinally\u001b[39;00m:\n\u001b[1;32m     49\u001b[0m     set_spawning_popen(\u001b[38;5;28;01mNone\u001b[39;00m)\n",
      "File \u001b[0;32m~/anaconda3/lib/python3.11/multiprocessing/reduction.py:60\u001b[0m, in \u001b[0;36mdump\u001b[0;34m(obj, file, protocol)\u001b[0m\n\u001b[1;32m     58\u001b[0m \u001b[38;5;28;01mdef\u001b[39;00m \u001b[38;5;21mdump\u001b[39m(obj, file, protocol\u001b[38;5;241m=\u001b[39m\u001b[38;5;28;01mNone\u001b[39;00m):\n\u001b[1;32m     59\u001b[0m \u001b[38;5;250m    \u001b[39m\u001b[38;5;124;03m'''Replacement for pickle.dump() using ForkingPickler.'''\u001b[39;00m\n\u001b[0;32m---> 60\u001b[0m     ForkingPickler(file, protocol)\u001b[38;5;241m.\u001b[39mdump(obj)\n",
      "File \u001b[0;32m~/anaconda3/lib/python3.11/site-packages/torch/multiprocessing/reductions.py:193\u001b[0m, in \u001b[0;36mreduce_tensor\u001b[0;34m(tensor)\u001b[0m\n\u001b[1;32m    190\u001b[0m storage \u001b[38;5;241m=\u001b[39m tensor\u001b[38;5;241m.\u001b[39m_typed_storage()\n\u001b[1;32m    192\u001b[0m \u001b[38;5;28;01mif\u001b[39;00m tensor\u001b[38;5;241m.\u001b[39mrequires_grad \u001b[38;5;129;01mand\u001b[39;00m \u001b[38;5;129;01mnot\u001b[39;00m tensor\u001b[38;5;241m.\u001b[39mis_leaf:\n\u001b[0;32m--> 193\u001b[0m     \u001b[38;5;28;01mraise\u001b[39;00m \u001b[38;5;167;01mRuntimeError\u001b[39;00m(\n\u001b[1;32m    194\u001b[0m         \u001b[38;5;124m\"\u001b[39m\u001b[38;5;124mCowardly refusing to serialize non-leaf tensor which requires_grad, \u001b[39m\u001b[38;5;124m\"\u001b[39m\n\u001b[1;32m    195\u001b[0m         \u001b[38;5;124m\"\u001b[39m\u001b[38;5;124msince autograd does not support crossing process boundaries.  \u001b[39m\u001b[38;5;124m\"\u001b[39m\n\u001b[1;32m    196\u001b[0m         \u001b[38;5;124m\"\u001b[39m\u001b[38;5;124mIf you just want to transfer the data, call detach() on the tensor \u001b[39m\u001b[38;5;124m\"\u001b[39m\n\u001b[1;32m    197\u001b[0m         \u001b[38;5;124m\"\u001b[39m\u001b[38;5;124mbefore serializing (e.g., putting it on the queue).\u001b[39m\u001b[38;5;124m\"\u001b[39m\n\u001b[1;32m    198\u001b[0m     )\n\u001b[1;32m    200\u001b[0m check_serializing_named_tensor(tensor)\n\u001b[1;32m    201\u001b[0m torch\u001b[38;5;241m.\u001b[39mutils\u001b[38;5;241m.\u001b[39mhooks\u001b[38;5;241m.\u001b[39mwarn_if_has_hooks(tensor)\n",
      "\u001b[0;31mRuntimeError\u001b[0m: Cowardly refusing to serialize non-leaf tensor which requires_grad, since autograd does not support crossing process boundaries.  If you just want to transfer the data, call detach() on the tensor before serializing (e.g., putting it on the queue)."
     ]
    }
   ],
   "source": [
    "criterion = make_criterion(args)\n",
    "optimizer = make_optimizer(args, model)\n",
    "\n",
    "device = torch.device(\"cuda:\"+str(args.gpu_id) if torch.cuda.is_available() else \"cpu\")\n",
    "\n",
    "logfile = open('%s/log.txt' % (args.save_path), 'w')\n",
    "\n",
    "for epoch_id in range(args.epochs):\n",
    "    trainer(args, model, combined_loader, epoch_id, criterion, optimizer)\n",
    "    torch.save(model.state_dict(), args.save_path + \"/epoch_\" + str(epoch_id + 1).zfill(3) + \".pth\")\n",
    "\n",
    "logfile.close()"
   ]
  },
  {
   "cell_type": "code",
   "execution_count": null,
   "id": "7f8fb310",
   "metadata": {},
   "outputs": [],
   "source": []
  }
 ],
 "metadata": {
  "kernelspec": {
   "display_name": "Python 3 (ipykernel)",
   "language": "python",
   "name": "python3"
  },
  "language_info": {
   "codemirror_mode": {
    "name": "ipython",
    "version": 3
   },
   "file_extension": ".py",
   "mimetype": "text/x-python",
   "name": "python",
   "nbconvert_exporter": "python",
   "pygments_lexer": "ipython3",
   "version": "3.11.5"
  }
 },
 "nbformat": 4,
 "nbformat_minor": 5
}
