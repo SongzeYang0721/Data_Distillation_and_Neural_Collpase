{
 "cells": [
  {
   "cell_type": "markdown",
   "id": "bffe843d",
   "metadata": {},
   "source": [
    "# Neural Collapse and Data Distillatioin"
   ]
  },
  {
   "cell_type": "markdown",
   "id": "56a3ad8e",
   "metadata": {},
   "source": [
    "This notebook implements a visualization page for the data distillation algorithm utilizing the neural collapse. \n",
    "\n",
    "The main papers considered here are \n",
    " - data distillation:\n",
    "     - https://github.com/SsnL/dataset-distillation \n",
    "     - https://github.com/google-research/google-research/tree/master/kip\n",
    " - Neural Collapse:\n",
    "     - https://github.com/tding1/Neural-Collapse. \n",
    "\n",
    "The neural network has fixed the last layer weight matrix to be a simplex ETF. The ETF is a benign optimization landscape empeirically observed in practice as long as the network enters its terminal phase.\n",
    "\n",
    "Below we configure our path to the dataset distillation packages from https://github.com/SsnL/dataset-distillation."
   ]
  },
  {
   "cell_type": "markdown",
   "id": "f311a3b7",
   "metadata": {},
   "source": [
    "# Import"
   ]
  },
  {
   "cell_type": "code",
   "execution_count": 14,
   "id": "0ae09394",
   "metadata": {},
   "outputs": [],
   "source": [
    "import torch as T\n",
    "import torch.nn as nn\n",
    "import torch.optim as optim\n",
    "from torch import Tensor\n",
    "import torch.nn.functional as F\n",
    "\n",
    "import numpy as np\n",
    "import pickle\n",
    "import scipy.linalg as scilin\n",
    "\n",
    "import matplotlib.pyplot as plt\n",
    "import time\n",
    "\n",
    "\n",
    "import torchvision as tv\n",
    "import torchvision.transforms as transforms\n",
    "import matplotlib.pyplot as plt\n",
    "from mpl_toolkits.mplot3d import Axes3D\n",
    "\n",
    "from torchsummary import summary"
   ]
  },
  {
   "cell_type": "markdown",
   "id": "67cb3e76",
   "metadata": {},
   "source": [
    "Let's import the file from the https://github.com/tding1/Neural-Collapse."
   ]
  },
  {
   "cell_type": "code",
   "execution_count": 2,
   "id": "3a3f1a82",
   "metadata": {},
   "outputs": [],
   "source": [
    "import models\n",
    "from models import resnet_decode\n",
    "from models.res_adapt import ResNet18_adapt\n",
    "from utils import *\n",
    "\n",
    "from train_Encoder import train\n",
    "from validate_NC import *\n",
    "\n",
    "from validate_NC import compute_Wh_b_relation, compute_W_H_relation, compute_ETF, compute_Sigma_B, compute_Sigma_W,compute_info,FCFeatures\n",
    "from data.datasets import make_dataset\n",
    "from data.data_loading import get_cifar10_data_loaders\n",
    "from arg_loader import *"
   ]
  },
  {
   "cell_type": "markdown",
   "id": "29ea729a",
   "metadata": {},
   "source": [
    "# Load Parameters"
   ]
  },
  {
   "cell_type": "code",
   "execution_count": 3,
   "id": "b5690d43",
   "metadata": {},
   "outputs": [],
   "source": [
    "# architecture params\n",
    "encoder='resnet18'\n",
    "bias=True\n",
    "ETF_fc=True\n",
    "fixdim=10\n",
    "SOTA=True\n",
    "\n",
    "# MLP settings (only when using mlp and res_adapt(in which case only width has effect))\n",
    "width=1024\n",
    "depth=6\n",
    "\n",
    "# hardware settings\n",
    "gpu_id=1\n",
    "seed=6\n",
    "use_cudnn=True\n",
    "\n",
    "# dataset\n",
    "dataset='cifar10'\n",
    "data_dir='~/data'\n",
    "uid=\"Resnet18-design-Adam-SOTA\"\n",
    "force=True\n",
    "\n",
    "# learning options\n",
    "epochs = 200\n",
    "batch_size = 64\n",
    "loss = 'CrossEntropy'\n",
    "sample_size = None\n",
    "\n",
    "# optimization\n",
    "lr=0.001\n",
    "history_size=10\n",
    "optimizer = \"Adam\"\n",
    "patience = 40\n",
    "\n",
    "## Check the best device on machine\n",
    "check = False"
   ]
  },
  {
   "cell_type": "code",
   "execution_count": 4,
   "id": "2044f7d9",
   "metadata": {},
   "outputs": [
    {
     "name": "stdout",
     "output_type": "stream",
     "text": [
      "Using device: mps, Apple Silicon GPU\n"
     ]
    }
   ],
   "source": [
    "if torch.cuda.is_available():\n",
    "    device = torch.device(\"cuda:\"+str(gpu_id))\n",
    "    device_name = torch.cuda.get_device_name(0)\n",
    "    # \n",
    "    torch.cuda.empty_cache()\n",
    "    if check:\n",
    "        torch.cuda.memory_allocated()\n",
    "elif torch.backends.mps.is_available():\n",
    "    device = torch.device(\"mps\")\n",
    "    device_name = \"Apple Silicon GPU\"\n",
    "else:\n",
    "    device = torch.device(\"cpu\")\n",
    "    device_name = \"CPU\"\n",
    "\n",
    "print(f\"Using device: {device}, {device_name}\")"
   ]
  },
  {
   "cell_type": "code",
   "execution_count": 5,
   "id": "f9955b77",
   "metadata": {},
   "outputs": [
    {
     "name": "stdout",
     "output_type": "stream",
     "text": [
      "override this uidResnet18-design-Adam-SOTA\n",
      "<arg_loader.train_args object at 0x144712950>\n",
      "cudnn is used\n"
     ]
    }
   ],
   "source": [
    "args = train_args(model=encoder,bias=bias,ETF_fc=ETF_fc,fixdim=fixdim,SOTA=SOTA,\n",
    "                  width=width,depth=depth,\n",
    "                  gpu_id=gpu_id,seed=seed,use_cudnn=use_cudnn,\n",
    "                  dataset=dataset,data_dir=data_dir,uid=uid,force=force,\n",
    "                  epochs=epochs,batch_size = batch_size,loss = loss,sample_size=sample_size,\n",
    "                  lr = lr,optimizer=optimizer, patience = patience,\n",
    "                  device = device)"
   ]
  },
  {
   "cell_type": "markdown",
   "id": "c42c7957",
   "metadata": {},
   "source": [
    "# Load Dataset"
   ]
  },
  {
   "cell_type": "code",
   "execution_count": 6,
   "id": "2891285d",
   "metadata": {},
   "outputs": [
    {
     "name": "stdout",
     "output_type": "stream",
     "text": [
      "Dataset: CIFAR10.\n",
      "Files already downloaded and verified\n",
      "Files already downloaded and verified\n",
      "The number of class in our training set is  10\n",
      "Batch size: 64 | Input size: (32, 32, 3)\n"
     ]
    }
   ],
   "source": [
    "trainloader, testloader, num_classes = make_dataset(dataset, \n",
    "                                           data_dir, \n",
    "                                           batch_size, \n",
    "                                           SOTA=SOTA)\n",
    "images, labels = next(iter(trainloader))\n",
    "size_train, channels, height, width = images.shape\n",
    "input_size = height, width, channels\n",
    "print(\"The number of class in our training set is \", num_classes)\n",
    "print(\"Batch size: %d | Input size: %s\" % (size_train,input_size))"
   ]
  },
  {
   "cell_type": "code",
   "execution_count": 9,
   "id": "424833b0",
   "metadata": {},
   "outputs": [],
   "source": [
    "from Visualization import imshow\n",
    "from Visualization import visualize_one_image_per_class\n",
    "# # Check if trainloader is loaded\n",
    "# if trainloader is None:\n",
    "#     raise ValueError(\"Trainloader is not loaded. Please load it before running this script.\")\n",
    "\n",
    "# dataiter = iter(trainloader)\n",
    "# imgs, lbls = next(dataiter)\n",
    "# for i in range(100):  # show just the frogs\n",
    "#     if lbls[i] == 1:  # 6 = frog\n",
    "#         imshow(tv.utils.make_grid(imgs[i]))\n"
   ]
  },
  {
   "cell_type": "code",
   "execution_count": 10,
   "id": "2eb53f86",
   "metadata": {},
   "outputs": [
    {
     "name": "stderr",
     "output_type": "stream",
     "text": [
      "Clipping input data to the valid range for imshow with RGB data ([0..1] for floats or [0..255] for integers).\n",
      "Clipping input data to the valid range for imshow with RGB data ([0..1] for floats or [0..255] for integers).\n",
      "Clipping input data to the valid range for imshow with RGB data ([0..1] for floats or [0..255] for integers).\n",
      "Clipping input data to the valid range for imshow with RGB data ([0..1] for floats or [0..255] for integers).\n",
      "Clipping input data to the valid range for imshow with RGB data ([0..1] for floats or [0..255] for integers).\n",
      "Clipping input data to the valid range for imshow with RGB data ([0..1] for floats or [0..255] for integers).\n",
      "Clipping input data to the valid range for imshow with RGB data ([0..1] for floats or [0..255] for integers).\n",
      "Clipping input data to the valid range for imshow with RGB data ([0..1] for floats or [0..255] for integers).\n",
      "Clipping input data to the valid range for imshow with RGB data ([0..1] for floats or [0..255] for integers).\n",
      "Clipping input data to the valid range for imshow with RGB data ([0..1] for floats or [0..255] for integers).\n"
     ]
    },
    {
     "data": {
      "image/png": "[encoded data removed]",
      "text/plain": [
       "<Figure size 3000x300 with 10 Axes>"
      ]
     },
     "metadata": {},
     "output_type": "display_data"
    }
   ],
   "source": [
    "visualize_one_image_per_class(trainloader)"
   ]
  },
  {
   "cell_type": "code",
   "execution_count": 11,
   "id": "8fc8508d",
   "metadata": {},
   "outputs": [
    {
     "name": "stdout",
     "output_type": "stream",
     "text": [
      "The number of class in our training set is  10\n",
      "Batch size: 64 , Number of channels: 3 , input height: 32 , input width: 32\n"
     ]
    }
   ],
   "source": [
    "images, labels = next(iter(trainloader))\n",
    "size_train, channels, height, width = images.shape\n",
    "nc = channels\n",
    "input_size = height, width\n",
    "print(\"The number of class in our training set is \", num_classes)\n",
    "print(\"Batch size:\", size_train, \n",
    "      \", Number of channels:\", channels, \n",
    "      \", input height:\", height, \n",
    "      \", input width:\", width)"
   ]
  },
  {
   "cell_type": "markdown",
   "id": "87c34406",
   "metadata": {},
   "source": [
    "# Load Model"
   ]
  },
  {
   "cell_type": "code",
   "execution_count": 12,
   "id": "7ce32c81",
   "metadata": {},
   "outputs": [
    {
     "name": "stdout",
     "output_type": "stream",
     "text": [
      "# of model parameters: 8859762\n",
      "<class 'models.resnet.ResNet'>\n"
     ]
    }
   ],
   "source": [
    "if args.model == \"MLP\":\n",
    "    Encoder = models.__dict__[args.model](hidden = args.width, depth = args.depth, fc_bias=args.bias, num_classes=num_classes).to(args.device)\n",
    "elif args.model == \"ResNet18_adapt\":\n",
    "    Encoder = ResNet18_adapt(width = args.width, num_classes=num_classes, fc_bias=args.bias).to(args.device)\n",
    "else:\n",
    "    Encoder = models.__dict__[args.model](num_classes=num_classes, fc_bias=args.bias, ETF_fc=args.ETF_fc, fixdim=args.fixdim, SOTA=args.SOTA).to(args.device)\n",
    "\n",
    "print('# of model parameters: ' + str(count_network_parameters(Encoder)))\n",
    "print(type(Encoder))"
   ]
  },
  {
   "cell_type": "code",
   "execution_count": 15,
   "id": "a86de838",
   "metadata": {},
   "outputs": [
    {
     "name": "stdout",
     "output_type": "stream",
     "text": [
      "----------------------------------------------------------------\n",
      "        Layer (type)               Output Shape         Param #\n",
      "================================================================\n",
      "            Conv2d-1           [-1, 64, 32, 32]           1,728\n",
      "       BatchNorm2d-2           [-1, 64, 32, 32]             128\n",
      "              ReLU-3           [-1, 64, 32, 32]               0\n",
      "            Conv2d-4           [-1, 64, 32, 32]          36,864\n",
      "       BatchNorm2d-5           [-1, 64, 32, 32]             128\n",
      "              ReLU-6           [-1, 64, 32, 32]               0\n",
      "            Conv2d-7           [-1, 64, 32, 32]          36,864\n",
      "       BatchNorm2d-8           [-1, 64, 32, 32]             128\n",
      "              ReLU-9           [-1, 64, 32, 32]               0\n",
      "       BasicBlock-10           [-1, 64, 32, 32]               0\n",
      "           Conv2d-11           [-1, 64, 32, 32]          36,864\n",
      "      BatchNorm2d-12           [-1, 64, 32, 32]             128\n",
      "             ReLU-13           [-1, 64, 32, 32]               0\n",
      "           Conv2d-14           [-1, 64, 32, 32]          36,864\n",
      "      BatchNorm2d-15           [-1, 64, 32, 32]             128\n",
      "             ReLU-16           [-1, 64, 32, 32]               0\n",
      "       BasicBlock-17           [-1, 64, 32, 32]               0\n",
      "           Conv2d-18          [-1, 128, 16, 16]          73,728\n",
      "      BatchNorm2d-19          [-1, 128, 16, 16]             256\n",
      "             ReLU-20          [-1, 128, 16, 16]               0\n",
      "           Conv2d-21          [-1, 128, 16, 16]         147,456\n",
      "      BatchNorm2d-22          [-1, 128, 16, 16]             256\n",
      "           Conv2d-23          [-1, 128, 16, 16]           8,192\n",
      "      BatchNorm2d-24          [-1, 128, 16, 16]             256\n",
      "             ReLU-25          [-1, 128, 16, 16]               0\n",
      "       BasicBlock-26          [-1, 128, 16, 16]               0\n",
      "           Conv2d-27          [-1, 128, 16, 16]         147,456\n",
      "      BatchNorm2d-28          [-1, 128, 16, 16]             256\n",
      "             ReLU-29          [-1, 128, 16, 16]               0\n",
      "           Conv2d-30          [-1, 128, 16, 16]         147,456\n",
      "      BatchNorm2d-31          [-1, 128, 16, 16]             256\n",
      "             ReLU-32          [-1, 128, 16, 16]               0\n",
      "       BasicBlock-33          [-1, 128, 16, 16]               0\n",
      "           Conv2d-34            [-1, 256, 8, 8]         294,912\n",
      "      BatchNorm2d-35            [-1, 256, 8, 8]             512\n",
      "             ReLU-36            [-1, 256, 8, 8]               0\n",
      "           Conv2d-37            [-1, 256, 8, 8]         589,824\n",
      "      BatchNorm2d-38            [-1, 256, 8, 8]             512\n",
      "           Conv2d-39            [-1, 256, 8, 8]          32,768\n",
      "      BatchNorm2d-40            [-1, 256, 8, 8]             512\n",
      "             ReLU-41            [-1, 256, 8, 8]               0\n",
      "       BasicBlock-42            [-1, 256, 8, 8]               0\n",
      "           Conv2d-43            [-1, 256, 8, 8]         589,824\n",
      "      BatchNorm2d-44            [-1, 256, 8, 8]             512\n",
      "             ReLU-45            [-1, 256, 8, 8]               0\n",
      "           Conv2d-46            [-1, 256, 8, 8]         589,824\n",
      "      BatchNorm2d-47            [-1, 256, 8, 8]             512\n",
      "             ReLU-48            [-1, 256, 8, 8]               0\n",
      "       BasicBlock-49            [-1, 256, 8, 8]               0\n",
      "           Conv2d-50            [-1, 512, 4, 4]       1,179,648\n",
      "      BatchNorm2d-51            [-1, 512, 4, 4]           1,024\n",
      "             ReLU-52            [-1, 512, 4, 4]               0\n",
      "           Conv2d-53            [-1, 512, 4, 4]       2,359,296\n",
      "      BatchNorm2d-54            [-1, 512, 4, 4]           1,024\n",
      "           Conv2d-55            [-1, 512, 4, 4]         131,072\n",
      "      BatchNorm2d-56            [-1, 512, 4, 4]           1,024\n",
      "             ReLU-57            [-1, 512, 4, 4]               0\n",
      "       BasicBlock-58            [-1, 512, 4, 4]               0\n",
      "           Conv2d-59            [-1, 512, 4, 4]       2,359,296\n",
      "      BatchNorm2d-60            [-1, 512, 4, 4]           1,024\n",
      "             ReLU-61            [-1, 512, 4, 4]               0\n",
      "           Conv2d-62             [-1, 10, 4, 4]          46,080\n",
      "      BatchNorm2d-63             [-1, 10, 4, 4]              20\n",
      "           Conv2d-64             [-1, 10, 4, 4]           5,120\n",
      "      BatchNorm2d-65             [-1, 10, 4, 4]              20\n",
      "             ReLU-66             [-1, 10, 4, 4]               0\n",
      "       BasicBlock-67             [-1, 10, 4, 4]               0\n",
      "================================================================\n",
      "Total params: 8,859,752\n",
      "Trainable params: 8,859,752\n",
      "Non-trainable params: 0\n",
      "----------------------------------------------------------------\n",
      "Input size (MB): 0.01\n",
      "Forward/backward pass size (MB): 15.26\n",
      "Params size (MB): 33.80\n",
      "Estimated Total Size (MB): 49.07\n",
      "----------------------------------------------------------------\n"
     ]
    }
   ],
   "source": [
    "summary(Encoder.to(\"cpu\"), input_size=(3, 32, 32), device = \"cpu\")"
   ]
  }
 ],
 "metadata": {
  "kernelspec": {
   "display_name": "Python 3 (ipykernel)",
   "language": "python",
   "name": "python3"
  },
  "language_info": {
   "codemirror_mode": {
    "name": "ipython",
    "version": 3
   },
   "file_extension": ".py",
   "mimetype": "text/x-python",
   "name": "python",
   "nbconvert_exporter": "python",
   "pygments_lexer": "ipython3",
   "version": "3.11.5"
  }
 },
 "nbformat": 4,
 "nbformat_minor": 5
}
